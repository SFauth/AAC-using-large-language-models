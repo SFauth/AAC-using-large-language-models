{
 "cells": [
  {
   "cell_type": "code",
   "execution_count": 1,
   "metadata": {},
   "outputs": [],
   "source": [
    "import json\n",
    "import pandas as pd\n",
    "import glob\n",
    "import plotly.express as px"
   ]
  },
  {
   "cell_type": "code",
   "execution_count": 2,
   "metadata": {},
   "outputs": [],
   "source": [
    "result_files = glob.glob('*.json')\n",
    "\n",
    "result_jsons = []\n",
    "\n",
    "for file in result_files:\n",
    "    f = open(file)\n",
    "    result_jsons = result_jsons + json.load(f)"
   ]
  },
  {
   "cell_type": "code",
   "execution_count": 15,
   "metadata": {},
   "outputs": [
    {
     "data": {
      "text/html": [
       "<div>\n",
       "<style scoped>\n",
       "    .dataframe tbody tr th:only-of-type {\n",
       "        vertical-align: middle;\n",
       "    }\n",
       "\n",
       "    .dataframe tbody tr th {\n",
       "        vertical-align: top;\n",
       "    }\n",
       "\n",
       "    .dataframe thead th {\n",
       "        text-align: right;\n",
       "    }\n",
       "</style>\n",
       "<table border=\"1\" class=\"dataframe\">\n",
       "  <thead>\n",
       "    <tr style=\"text-align: right;\">\n",
       "      <th></th>\n",
       "      <th>beta</th>\n",
       "      <th>prompt</th>\n",
       "      <th>alpha</th>\n",
       "      <th>k</th>\n",
       "      <th>decoding_len</th>\n",
       "      <th>clip_text_max_len</th>\n",
       "      <th>n_test_samples</th>\n",
       "      <th>dataset</th>\n",
       "      <th>included_prompt_in_magic</th>\n",
       "      <th>CLAP_type</th>\n",
       "      <th>variable</th>\n",
       "      <th>value</th>\n",
       "    </tr>\n",
       "  </thead>\n",
       "  <tbody>\n",
       "    <tr>\n",
       "      <th>0</th>\n",
       "      <td>2.25</td>\n",
       "      <td>This is a sound of</td>\n",
       "      <td>0.1</td>\n",
       "      <td>45</td>\n",
       "      <td>30</td>\n",
       "      <td>77</td>\n",
       "      <td>975</td>\n",
       "      <td>audiocaps</td>\n",
       "      <td>False</td>\n",
       "      <td>no_fusion_no_keyword_to_caption.pt</td>\n",
       "      <td>Bleu_1</td>\n",
       "      <td>0.134139</td>\n",
       "    </tr>\n",
       "    <tr>\n",
       "      <th>1</th>\n",
       "      <td>0.10</td>\n",
       "      <td>The sound of</td>\n",
       "      <td>0.1</td>\n",
       "      <td>45</td>\n",
       "      <td>30</td>\n",
       "      <td>77</td>\n",
       "      <td>975</td>\n",
       "      <td>audiocaps</td>\n",
       "      <td>False</td>\n",
       "      <td>no_fusion_no_keyword_to_caption.pt</td>\n",
       "      <td>Bleu_1</td>\n",
       "      <td>0.111376</td>\n",
       "    </tr>\n",
       "    <tr>\n",
       "      <th>2</th>\n",
       "      <td>2.95</td>\n",
       "      <td>This is the sound of</td>\n",
       "      <td>0.1</td>\n",
       "      <td>45</td>\n",
       "      <td>30</td>\n",
       "      <td>77</td>\n",
       "      <td>975</td>\n",
       "      <td>audiocaps</td>\n",
       "      <td>False</td>\n",
       "      <td>no_fusion_no_keyword_to_caption.pt</td>\n",
       "      <td>Bleu_1</td>\n",
       "      <td>0.151555</td>\n",
       "    </tr>\n",
       "    <tr>\n",
       "      <th>3</th>\n",
       "      <td>0.30</td>\n",
       "      <td>The sound of</td>\n",
       "      <td>0.1</td>\n",
       "      <td>45</td>\n",
       "      <td>30</td>\n",
       "      <td>77</td>\n",
       "      <td>975</td>\n",
       "      <td>audiocaps</td>\n",
       "      <td>False</td>\n",
       "      <td>no_fusion_no_keyword_to_caption.pt</td>\n",
       "      <td>Bleu_1</td>\n",
       "      <td>0.118772</td>\n",
       "    </tr>\n",
       "    <tr>\n",
       "      <th>4</th>\n",
       "      <td>1.20</td>\n",
       "      <td>The sound of</td>\n",
       "      <td>0.1</td>\n",
       "      <td>45</td>\n",
       "      <td>30</td>\n",
       "      <td>77</td>\n",
       "      <td>975</td>\n",
       "      <td>audiocaps</td>\n",
       "      <td>False</td>\n",
       "      <td>no_fusion_no_keyword_to_caption.pt</td>\n",
       "      <td>Bleu_1</td>\n",
       "      <td>0.168113</td>\n",
       "    </tr>\n",
       "  </tbody>\n",
       "</table>\n",
       "</div>"
      ],
      "text/plain": [
       "   beta                prompt  alpha   k  decoding_len  clip_text_max_len  \\\n",
       "0  2.25    This is a sound of    0.1  45            30                 77   \n",
       "1  0.10          The sound of    0.1  45            30                 77   \n",
       "2  2.95  This is the sound of    0.1  45            30                 77   \n",
       "3  0.30          The sound of    0.1  45            30                 77   \n",
       "4  1.20          The sound of    0.1  45            30                 77   \n",
       "\n",
       "   n_test_samples    dataset included_prompt_in_magic  \\\n",
       "0             975  audiocaps                    False   \n",
       "1             975  audiocaps                    False   \n",
       "2             975  audiocaps                    False   \n",
       "3             975  audiocaps                    False   \n",
       "4             975  audiocaps                    False   \n",
       "\n",
       "                            CLAP_type variable     value  \n",
       "0  no_fusion_no_keyword_to_caption.pt   Bleu_1  0.134139  \n",
       "1  no_fusion_no_keyword_to_caption.pt   Bleu_1  0.111376  \n",
       "2  no_fusion_no_keyword_to_caption.pt   Bleu_1  0.151555  \n",
       "3  no_fusion_no_keyword_to_caption.pt   Bleu_1  0.118772  \n",
       "4  no_fusion_no_keyword_to_caption.pt   Bleu_1  0.168113  "
      ]
     },
     "execution_count": 15,
     "metadata": {},
     "output_type": "execute_result"
    }
   ],
   "source": [
    "#result_file = glob.glob('*.json')[0]\n",
    "#f = open(result_file)\n",
    "#data = json.load(f)\n",
    "\n",
    "data = pd.DataFrame.from_records(result_jsons)\n",
    "data_long = pd.melt(data, id_vars=[\"beta\", \"prompt\", \"alpha\", \"k\", \"decoding_len\", \"clip_text_max_len\", \"n_test_samples\", \"dataset\", \"included_prompt_in_magic\", \"CLAP_type\"])\n",
    "data_long.head()"
   ]
  },
  {
   "cell_type": "code",
   "execution_count": 20,
   "metadata": {},
   "outputs": [
    {
     "data": {
      "text/html": [
       "<div>\n",
       "<style scoped>\n",
       "    .dataframe tbody tr th:only-of-type {\n",
       "        vertical-align: middle;\n",
       "    }\n",
       "\n",
       "    .dataframe tbody tr th {\n",
       "        vertical-align: top;\n",
       "    }\n",
       "\n",
       "    .dataframe thead th {\n",
       "        text-align: right;\n",
       "    }\n",
       "</style>\n",
       "<table border=\"1\" class=\"dataframe\">\n",
       "  <thead>\n",
       "    <tr style=\"text-align: right;\">\n",
       "      <th></th>\n",
       "      <th>alpha</th>\n",
       "      <th>k</th>\n",
       "      <th>decoding_len</th>\n",
       "      <th>clip_text_max_len</th>\n",
       "      <th>n_test_samples</th>\n",
       "    </tr>\n",
       "  </thead>\n",
       "  <tbody>\n",
       "    <tr>\n",
       "      <th>0</th>\n",
       "      <td>0.1</td>\n",
       "      <td>45</td>\n",
       "      <td>30</td>\n",
       "      <td>77</td>\n",
       "      <td>975</td>\n",
       "    </tr>\n",
       "  </tbody>\n",
       "</table>\n",
       "</div>"
      ],
      "text/plain": [
       "   alpha   k  decoding_len  clip_text_max_len  n_test_samples\n",
       "0    0.1  45            30                 77             975"
      ]
     },
     "execution_count": 20,
     "metadata": {},
     "output_type": "execute_result"
    }
   ],
   "source": [
    "data_long[[\"alpha\", \"k\", \"decoding_len\", \"clip_text_max_len\", \"n_test_samples\"]].head(1)"
   ]
  },
  {
   "cell_type": "code",
   "execution_count": 18,
   "metadata": {},
   "outputs": [
    {
     "data": {
      "application/vnd.plotly.v1+json": {
       "config": {
        "plotlyServerURL": "https://plot.ly"
       },
       "data": [
        {
         "hovertemplate": "prompt=This is a sound of<br>CLAP_type=no_fusion_no_keyword_to_caption.pt<br>dataset=audiocaps<br>variable=Bleu_1<br>beta=%{x}<br>value=%{y}<extra></extra>",
         "legendgroup": "This is a sound of, no_fusion_no_keyword_to_caption.pt",
         "marker": {
          "color": "#636efa",
          "symbol": "circle"
         },
         "mode": "markers",
         "name": "This is a sound of, no_fusion_no_keyword_to_caption.pt",
         "showlegend": true,
         "type": "scattergl",
         "x": [
          2.25,
          2.5999999046325684,
          0.5,
          0.15000000596046448,
          0.44999998807907104,
          0.4000000059604645,
          3.299999952316284,
          0.05000000074505806,
          0.30000001192092896,
          1.2000000476837158,
          0.20000000298023224,
          0.25,
          2.950000047683716,
          0,
          3.6500000953674316,
          1.5499999523162842,
          0.8500000238418579,
          0.3499999940395355,
          0.10000000149011612,
          1.899999976158142
         ],
         "xaxis": "x9",
         "y": [
          0.13413916270470408,
          0.13559710052962168,
          0.16578732702116228,
          0.19004321209937072,
          0.16775512639679147,
          0.16936702445252785,
          0.13301164376375402,
          0.22361078362019776,
          0.1754856713534211,
          0.13950671754973726,
          0.1854304635761414,
          0.1781405251951558,
          0.13268051221347973,
          0.18933887158185403,
          0.13006878143926393,
          0.1394375751144801,
          0.15335371116508933,
          0.1723229207297211,
          0.21428571428569476,
          0.13920399336294903
         ],
         "yaxis": "y9"
        },
        {
         "hovertemplate": "prompt=This is a sound of<br>CLAP_type=no_fusion_no_keyword_to_caption.pt<br>dataset=audiocaps<br>variable=Bleu_2<br>beta=%{x}<br>value=%{y}<extra></extra>",
         "legendgroup": "This is a sound of, no_fusion_no_keyword_to_caption.pt",
         "marker": {
          "color": "#636efa",
          "symbol": "circle"
         },
         "mode": "markers",
         "name": "This is a sound of, no_fusion_no_keyword_to_caption.pt",
         "showlegend": false,
         "type": "scattergl",
         "x": [
          2.25,
          2.5999999046325684,
          0.5,
          0.15000000596046448,
          0.44999998807907104,
          0.4000000059604645,
          3.299999952316284,
          0.05000000074505806,
          0.30000001192092896,
          1.2000000476837158,
          0.20000000298023224,
          0.25,
          2.950000047683716,
          0,
          3.6500000953674316,
          1.5499999523162842,
          0.8500000238418579,
          0.3499999940395355,
          0.10000000149011612,
          1.899999976158142
         ],
         "xaxis": "x10",
         "y": [
          0.03856487323082113,
          0.038949031573533875,
          0.053488743165738296,
          0.054917795234468846,
          0.05414876906005717,
          0.05179296067794312,
          0.037992326913741624,
          0.08376370796326776,
          0.0528566233755647,
          0.043562322078908866,
          0.05344751334300648,
          0.05387290093754345,
          0.037861892993904064,
          0.08049658079430297,
          0.03651825376751744,
          0.04089017859127497,
          0.04865539555864046,
          0.0511616755949152,
          0.06607384575161042,
          0.04079315544813934
         ],
         "yaxis": "y10"
        },
        {
         "hovertemplate": "prompt=This is a sound of<br>CLAP_type=no_fusion_no_keyword_to_caption.pt<br>dataset=audiocaps<br>variable=Bleu_3<br>beta=%{x}<br>value=%{y}<extra></extra>",
         "legendgroup": "This is a sound of, no_fusion_no_keyword_to_caption.pt",
         "marker": {
          "color": "#636efa",
          "symbol": "circle"
         },
         "mode": "markers",
         "name": "This is a sound of, no_fusion_no_keyword_to_caption.pt",
         "showlegend": false,
         "type": "scattergl",
         "x": [
          2.25,
          2.5999999046325684,
          0.5,
          0.15000000596046448,
          0.44999998807907104,
          0.4000000059604645,
          3.299999952316284,
          0.05000000074505806,
          0.30000001192092896,
          1.2000000476837158,
          0.20000000298023224,
          0.25,
          2.950000047683716,
          0,
          3.6500000953674316,
          1.5499999523162842,
          0.8500000238418579,
          0.3499999940395355,
          0.10000000149011612,
          1.899999976158142
         ],
         "xaxis": "x11",
         "y": [
          0.010178735325794126,
          0.010783339767902448,
          0.020074356299032557,
          0.01773075522419486,
          0.0198708773898008,
          0.018358361995617162,
          0.010357641586032487,
          0.012492326135442383,
          0.01954133952297029,
          0.012809173666348296,
          0.017753940556276798,
          0.02028018509148793,
          0.009825641194753269,
          6.737549460068727e-8,
          0.010001457297567141,
          0.01213942937855175,
          0.01374562180981197,
          0.018474757863039912,
          0.01889804725908372,
          0.010687292133457723
         ],
         "yaxis": "y11"
        },
        {
         "hovertemplate": "prompt=This is a sound of<br>CLAP_type=no_fusion_no_keyword_to_caption.pt<br>dataset=audiocaps<br>variable=Bleu_4<br>beta=%{x}<br>value=%{y}<extra></extra>",
         "legendgroup": "This is a sound of, no_fusion_no_keyword_to_caption.pt",
         "marker": {
          "color": "#636efa",
          "symbol": "circle"
         },
         "mode": "markers",
         "name": "This is a sound of, no_fusion_no_keyword_to_caption.pt",
         "showlegend": false,
         "type": "scattergl",
         "x": [
          2.25,
          2.5999999046325684,
          0.5,
          0.15000000596046448,
          0.44999998807907104,
          0.4000000059604645,
          3.299999952316284,
          0.05000000074505806,
          0.30000001192092896,
          1.2000000476837158,
          0.20000000298023224,
          0.25,
          2.950000047683716,
          0,
          3.6500000953674316,
          1.5499999523162842,
          0.8500000238418579,
          0.3499999940395355,
          0.10000000149011612,
          1.899999976158142
         ],
         "xaxis": "x12",
         "y": [
          6.397354555031119e-7,
          6.625151973111167e-7,
          0.009083144168935298,
          0.007202566809590126,
          0.009014007528825996,
          0.008422339594659288,
          6.301062412821469e-7,
          6.670979162210735e-7,
          0.009054928037308507,
          7.842661516647741e-7,
          0.007322938082976791,
          0.009147676607426006,
          6.108296971864591e-7,
          6.236128840719041e-11,
          6.095059349348607e-7,
          7.457180968259322e-7,
          8.245891411123723e-7,
          0.008425815595940477,
          0.007066276612688686,
          6.6994798372889e-7
         ],
         "yaxis": "y12"
        },
        {
         "hovertemplate": "prompt=This is a sound of<br>CLAP_type=no_fusion_no_keyword_to_caption.pt<br>dataset=audiocaps<br>variable=METEOR<br>beta=%{x}<br>value=%{y}<extra></extra>",
         "legendgroup": "This is a sound of, no_fusion_no_keyword_to_caption.pt",
         "marker": {
          "color": "#636efa",
          "symbol": "circle"
         },
         "mode": "markers",
         "name": "This is a sound of, no_fusion_no_keyword_to_caption.pt",
         "showlegend": false,
         "type": "scattergl",
         "x": [
          2.25,
          2.5999999046325684,
          0.5,
          0.15000000596046448,
          0.44999998807907104,
          0.4000000059604645,
          3.299999952316284,
          0.05000000074505806,
          0.30000001192092896,
          1.2000000476837158,
          0.20000000298023224,
          0.25,
          2.950000047683716,
          0,
          3.6500000953674316,
          1.5499999523162842,
          0.8500000238418579,
          0.3499999940395355,
          0.10000000149011612,
          1.899999976158142
         ],
         "xaxis": "x13",
         "y": [
          0.03586405548243719,
          0.036723905980109516,
          0.04272938703839427,
          0.06005440766861381,
          0.04371836720939686,
          0.04475753068512637,
          0.038179757111041046,
          0.07212265231222842,
          0.04978082323297069,
          0.03535840361589578,
          0.057534351331002834,
          0.05428618669593793,
          0.03680940401187516,
          0.07915994344437695,
          0.03808244346605566,
          0.035830275043934275,
          0.03833577790509887,
          0.04735447001715695,
          0.06528835919564303,
          0.0360675241615865
         ],
         "yaxis": "y13"
        },
        {
         "hovertemplate": "prompt=This is a sound of<br>CLAP_type=no_fusion_no_keyword_to_caption.pt<br>dataset=audiocaps<br>variable=ROUGE_L<br>beta=%{x}<br>value=%{y}<extra></extra>",
         "legendgroup": "This is a sound of, no_fusion_no_keyword_to_caption.pt",
         "marker": {
          "color": "#636efa",
          "symbol": "circle"
         },
         "mode": "markers",
         "name": "This is a sound of, no_fusion_no_keyword_to_caption.pt",
         "showlegend": false,
         "type": "scattergl",
         "x": [
          2.25,
          2.5999999046325684,
          0.5,
          0.15000000596046448,
          0.44999998807907104,
          0.4000000059604645,
          3.299999952316284,
          0.05000000074505806,
          0.30000001192092896,
          1.2000000476837158,
          0.20000000298023224,
          0.25,
          2.950000047683716,
          0,
          3.6500000953674316,
          1.5499999523162842,
          0.8500000238418579,
          0.3499999940395355,
          0.10000000149011612,
          1.899999976158142
         ],
         "xaxis": "x14",
         "y": [
          0.0878744591707655,
          0.08863991735286493,
          0.110516357656975,
          0.1699497625500044,
          0.11344230628144818,
          0.11722411390562801,
          0.08814833939450635,
          0.20492296980964345,
          0.13328102454013874,
          0.0931869373997727,
          0.16080816606160514,
          0.14605861586071284,
          0.08735886695909058,
          0.18992227717775395,
          0.08720522335768352,
          0.09034431377877578,
          0.10046334578595222,
          0.12380923979019783,
          0.19083736439669288,
          0.0900054914426333
         ],
         "yaxis": "y14"
        },
        {
         "hovertemplate": "prompt=This is a sound of<br>CLAP_type=no_fusion_no_keyword_to_caption.pt<br>dataset=audiocaps<br>variable=CIDEr<br>beta=%{x}<br>value=%{y}<extra></extra>",
         "legendgroup": "This is a sound of, no_fusion_no_keyword_to_caption.pt",
         "marker": {
          "color": "#636efa",
          "symbol": "circle"
         },
         "mode": "markers",
         "name": "This is a sound of, no_fusion_no_keyword_to_caption.pt",
         "showlegend": false,
         "type": "scattergl",
         "x": [
          2.25,
          2.5999999046325684,
          0.5,
          0.15000000596046448,
          0.44999998807907104,
          0.4000000059604645,
          3.299999952316284,
          0.05000000074505806,
          0.30000001192092896,
          1.2000000476837158,
          0.20000000298023224,
          0.25,
          2.950000047683716,
          0,
          3.6500000953674316,
          1.5499999523162842,
          0.8500000238418579,
          0.3499999940395355,
          0.10000000149011612,
          1.899999976158142
         ],
         "xaxis": "x15",
         "y": [
          0.020622649275739417,
          0.01985567108633485,
          0.02851022987403715,
          0.03801703904133768,
          0.03042413344275831,
          0.030180678369587786,
          0.021524414820034418,
          0.028191791109712604,
          0.03320630782305052,
          0.023487947876664528,
          0.035891294212136084,
          0.03687860490504186,
          0.01998373425524812,
          0.0027365322608267468,
          0.021009478140452426,
          0.021170474133208415,
          0.024294069438943446,
          0.03251039252547973,
          0.0345128976575515,
          0.020449062596093515
         ],
         "yaxis": "y15"
        },
        {
         "hovertemplate": "prompt=This is a sound of<br>CLAP_type=no_fusion_no_keyword_to_caption.pt<br>dataset=audiocaps<br>variable=SPICE<br>beta=%{x}<br>value=%{y}<extra></extra>",
         "legendgroup": "This is a sound of, no_fusion_no_keyword_to_caption.pt",
         "marker": {
          "color": "#636efa",
          "symbol": "circle"
         },
         "mode": "markers",
         "name": "This is a sound of, no_fusion_no_keyword_to_caption.pt",
         "showlegend": false,
         "type": "scattergl",
         "x": [
          2.25,
          2.5999999046325684,
          0.5,
          0.15000000596046448,
          0.44999998807907104,
          0.4000000059604645,
          3.299999952316284,
          0.05000000074505806,
          0.30000001192092896,
          1.2000000476837158,
          0.20000000298023224,
          0.25,
          2.950000047683716,
          0,
          3.6500000953674316,
          1.5499999523162842,
          0.8500000238418579,
          0.3499999940395355,
          0.10000000149011612,
          1.899999976158142
         ],
         "xaxis": "x16",
         "y": [
          0.017064535446666442,
          0.017586705603375063,
          0.017410227910895155,
          0.025553648439040122,
          0.01801532596336138,
          0.019474363362464525,
          0.018243840924599172,
          0.028860811792459695,
          0.021640286804232335,
          0.016891709044129125,
          0.025805228961847056,
          0.025325351771267438,
          0.01746607647881361,
          0.02385448250990439,
          0.017857845833098445,
          0.016347561453129728,
          0.017318231267800698,
          0.021579132987414422,
          0.02600094262282455,
          0.016807087556799036
         ],
         "yaxis": "y16"
        },
        {
         "hovertemplate": "prompt=This is a sound of<br>CLAP_type=no_fusion_no_keyword_to_caption.pt<br>dataset=clotho<br>variable=Bleu_1<br>beta=%{x}<br>value=%{y}<extra></extra>",
         "legendgroup": "This is a sound of, no_fusion_no_keyword_to_caption.pt",
         "marker": {
          "color": "#636efa",
          "symbol": "circle"
         },
         "mode": "markers",
         "name": "This is a sound of, no_fusion_no_keyword_to_caption.pt",
         "showlegend": false,
         "type": "scattergl",
         "x": [
          0.5,
          0.15000000596046448,
          0.44999998807907104,
          0.4000000059604645,
          0.05000000074505806,
          0.30000001192092896,
          1.2000000476837158,
          0.20000000298023224,
          0.25,
          0,
          1.5499999523162842,
          0.8500000238418579,
          0.3499999940395355,
          0.10000000149011612,
          0.5,
          0.15000000596046448,
          0.44999998807907104,
          0.4000000059604645,
          0.05000000074505806,
          0.30000001192092896,
          1.2000000476837158,
          0.20000000298023224,
          0.25,
          0,
          1.5499999523162842,
          0.8500000238418579,
          0.3499999940395355,
          0.10000000149011612
         ],
         "xaxis": "x",
         "y": [
          0.17385808334492114,
          0.19385619179722785,
          0.17067464661224793,
          0.1748382105543523,
          0.23377083704560933,
          0.18044601055206744,
          0.16599109882467503,
          0.1918830717928871,
          0.1818119364567227,
          0.21815134099615988,
          0.1689076666977332,
          0.16274199849112697,
          0.1775683149808747,
          0.20733114773241715,
          0.20590688474538235,
          0.23518556322274883,
          0.20681275829639081,
          0.21414873311261445,
          0.23832692458602853,
          0.22612669467026886,
          0.17355376427739608,
          0.23086429875335937,
          0.23355894123618992,
          0.21815134099615988,
          0.1765538490633292,
          0.1918986751883971,
          0.21750807237927378,
          0.2357639196814586
         ],
         "yaxis": "y"
        },
        {
         "hovertemplate": "prompt=This is a sound of<br>CLAP_type=no_fusion_no_keyword_to_caption.pt<br>dataset=clotho<br>variable=Bleu_2<br>beta=%{x}<br>value=%{y}<extra></extra>",
         "legendgroup": "This is a sound of, no_fusion_no_keyword_to_caption.pt",
         "marker": {
          "color": "#636efa",
          "symbol": "circle"
         },
         "mode": "markers",
         "name": "This is a sound of, no_fusion_no_keyword_to_caption.pt",
         "showlegend": false,
         "type": "scattergl",
         "x": [
          0.5,
          0.15000000596046448,
          0.44999998807907104,
          0.4000000059604645,
          0.05000000074505806,
          0.30000001192092896,
          1.2000000476837158,
          0.20000000298023224,
          0.25,
          0,
          1.5499999523162842,
          0.8500000238418579,
          0.3499999940395355,
          0.10000000149011612,
          0.5,
          0.15000000596046448,
          0.44999998807907104,
          0.4000000059604645,
          0.05000000074505806,
          0.30000001192092896,
          1.2000000476837158,
          0.20000000298023224,
          0.25,
          0,
          1.5499999523162842,
          0.8500000238418579,
          0.3499999940395355,
          0.10000000149011612
         ],
         "xaxis": "x2",
         "y": [
          0.04791593111431598,
          0.05209376333525513,
          0.042361789640242654,
          0.04635881570787526,
          0.06910221530428765,
          0.04783845668284353,
          0.04687984208292857,
          0.05187356832639555,
          0.04823734583963007,
          0.07049502019954414,
          0.048517485253113474,
          0.04288395770137474,
          0.045752486273122075,
          0.05929867830732587,
          0.05725937991225348,
          0.07185899862095056,
          0.06145964957957645,
          0.06002792264745514,
          0.073750983230874,
          0.06767213085622464,
          0.045331965526698874,
          0.0681818420497007,
          0.07293653366860292,
          0.07049502019954414,
          0.04814140938277852,
          0.057957472760901955,
          0.062338665835153774,
          0.07032070859949939
         ],
         "yaxis": "y2"
        },
        {
         "hovertemplate": "prompt=This is a sound of<br>CLAP_type=no_fusion_no_keyword_to_caption.pt<br>dataset=clotho<br>variable=Bleu_3<br>beta=%{x}<br>value=%{y}<extra></extra>",
         "legendgroup": "This is a sound of, no_fusion_no_keyword_to_caption.pt",
         "marker": {
          "color": "#636efa",
          "symbol": "circle"
         },
         "mode": "markers",
         "name": "This is a sound of, no_fusion_no_keyword_to_caption.pt",
         "showlegend": false,
         "type": "scattergl",
         "x": [
          0.5,
          0.15000000596046448,
          0.44999998807907104,
          0.4000000059604645,
          0.05000000074505806,
          0.30000001192092896,
          1.2000000476837158,
          0.20000000298023224,
          0.25,
          0,
          1.5499999523162842,
          0.8500000238418579,
          0.3499999940395355,
          0.10000000149011612,
          0.5,
          0.15000000596046448,
          0.44999998807907104,
          0.4000000059604645,
          0.05000000074505806,
          0.30000001192092896,
          1.2000000476837158,
          0.20000000298023224,
          0.25,
          0,
          1.5499999523162842,
          0.8500000238418579,
          0.3499999940395355,
          0.10000000149011612
         ],
         "xaxis": "x3",
         "y": [
          0.01559955655084187,
          0.014973176967883127,
          0.013196748054386209,
          0.010795541914006704,
          0.01607956846749586,
          0.012786623235080783,
          0.011655240647704172,
          0.015394046801510694,
          0.013801534154169296,
          0.009529817054392632,
          0.012527703831341696,
          0.009613694852640608,
          0.013434531695220318,
          0.015761692495102737,
          0.02065885167144464,
          0.024557951329003694,
          0.022246302756903247,
          0.02068071686478631,
          0.015984193218747757,
          0.024005342213529443,
          0.010528695019901588,
          0.02423635656750736,
          0.026337781062858685,
          0.009529817054392632,
          0.01098298589979982,
          0.02038210861446507,
          0.021099839605043542,
          0.019654653469705595
         ],
         "yaxis": "y3"
        },
        {
         "hovertemplate": "prompt=This is a sound of<br>CLAP_type=no_fusion_no_keyword_to_caption.pt<br>dataset=clotho<br>variable=Bleu_4<br>beta=%{x}<br>value=%{y}<extra></extra>",
         "legendgroup": "This is a sound of, no_fusion_no_keyword_to_caption.pt",
         "marker": {
          "color": "#636efa",
          "symbol": "circle"
         },
         "mode": "markers",
         "name": "This is a sound of, no_fusion_no_keyword_to_caption.pt",
         "showlegend": false,
         "type": "scattergl",
         "x": [
          0.5,
          0.15000000596046448,
          0.44999998807907104,
          0.4000000059604645,
          0.05000000074505806,
          0.30000001192092896,
          1.2000000476837158,
          0.20000000298023224,
          0.25,
          0,
          1.5499999523162842,
          0.8500000238418579,
          0.3499999940395355,
          0.10000000149011612,
          0.5,
          0.15000000596046448,
          0.44999998807907104,
          0.4000000059604645,
          0.05000000074505806,
          0.30000001192092896,
          1.2000000476837158,
          0.20000000298023224,
          0.25,
          0,
          1.5499999523162842,
          0.8500000238418579,
          0.3499999940395355,
          0.10000000149011612
         ],
         "xaxis": "x4",
         "y": [
          0.006288272871470743,
          0.005416682160916221,
          0.005520706302494047,
          0.0036161108410236844,
          8.452342556403905e-7,
          0.004072477032569396,
          6.866054726383221e-7,
          0.005541127093116753,
          0.004294535807610963,
          4.457419147035081e-7,
          7.229822810483805e-7,
          5.95512478847852e-7,
          0.005588367218730928,
          0.004719851837524489,
          0.008764826970667718,
          0.010664796472587269,
          0.010067247099238114,
          0.008775655500426478,
          8.071872113069084e-7,
          0.010245112695333873,
          0.003502503302189658,
          0.010247132068093523,
          0.010445933170940416,
          4.457419147035081e-7,
          6.442542112809597e-7,
          0.009693849466257645,
          0.008378091652864622,
          0.0065880311614978735
         ],
         "yaxis": "y4"
        },
        {
         "hovertemplate": "prompt=This is a sound of<br>CLAP_type=no_fusion_no_keyword_to_caption.pt<br>dataset=clotho<br>variable=METEOR<br>beta=%{x}<br>value=%{y}<extra></extra>",
         "legendgroup": "This is a sound of, no_fusion_no_keyword_to_caption.pt",
         "marker": {
          "color": "#636efa",
          "symbol": "circle"
         },
         "mode": "markers",
         "name": "This is a sound of, no_fusion_no_keyword_to_caption.pt",
         "showlegend": false,
         "type": "scattergl",
         "x": [
          0.5,
          0.15000000596046448,
          0.44999998807907104,
          0.4000000059604645,
          0.05000000074505806,
          0.30000001192092896,
          1.2000000476837158,
          0.20000000298023224,
          0.25,
          0,
          1.5499999523162842,
          0.8500000238418579,
          0.3499999940395355,
          0.10000000149011612,
          0.5,
          0.15000000596046448,
          0.44999998807907104,
          0.4000000059604645,
          0.05000000074505806,
          0.30000001192092896,
          1.2000000476837158,
          0.20000000298023224,
          0.25,
          0,
          1.5499999523162842,
          0.8500000238418579,
          0.3499999940395355,
          0.10000000149011612
         ],
         "xaxis": "x5",
         "y": [
          0.045319847075678835,
          0.05173986915069957,
          0.043429977285797366,
          0.0447988923447993,
          0.06418429991732741,
          0.04678883272290609,
          0.044462368402018705,
          0.05044552154755332,
          0.04763322238078704,
          0.08385257111198818,
          0.045756090765680116,
          0.04471089660792031,
          0.045206986410986874,
          0.055927250970805475,
          0.05036693756895872,
          0.05916734126096172,
          0.051026861143031024,
          0.05311829825593085,
          0.06695959844799888,
          0.05363975075789766,
          0.04690521447156466,
          0.056550540523385824,
          0.05699012836079731,
          0.08385257111198818,
          0.04721946936748819,
          0.04992437275192173,
          0.05222424327933963,
          0.060040551635079924
         ],
         "yaxis": "y5"
        },
        {
         "hovertemplate": "prompt=This is a sound of<br>CLAP_type=no_fusion_no_keyword_to_caption.pt<br>dataset=clotho<br>variable=ROUGE_L<br>beta=%{x}<br>value=%{y}<extra></extra>",
         "legendgroup": "This is a sound of, no_fusion_no_keyword_to_caption.pt",
         "marker": {
          "color": "#636efa",
          "symbol": "circle"
         },
         "mode": "markers",
         "name": "This is a sound of, no_fusion_no_keyword_to_caption.pt",
         "showlegend": false,
         "type": "scattergl",
         "x": [
          0.5,
          0.15000000596046448,
          0.44999998807907104,
          0.4000000059604645,
          0.05000000074505806,
          0.30000001192092896,
          1.2000000476837158,
          0.20000000298023224,
          0.25,
          0,
          1.5499999523162842,
          0.8500000238418579,
          0.3499999940395355,
          0.10000000149011612,
          0.5,
          0.15000000596046448,
          0.44999998807907104,
          0.4000000059604645,
          0.05000000074505806,
          0.30000001192092896,
          1.2000000476837158,
          0.20000000298023224,
          0.25,
          0,
          1.5499999523162842,
          0.8500000238418579,
          0.3499999940395355,
          0.10000000149011612
         ],
         "xaxis": "x6",
         "y": [
          0.12533000500604918,
          0.1500038060020912,
          0.1229524195476058,
          0.12687256801681668,
          0.1769271774223434,
          0.13499104046841515,
          0.11374732777887803,
          0.14634828166983177,
          0.13777061228644946,
          0.18356525328978876,
          0.11530024628229604,
          0.11448765161350671,
          0.13280953838895496,
          0.16058289631091124,
          0.13987871809446845,
          0.1756594940464285,
          0.1412387233455264,
          0.14669444399478537,
          0.18334295047662524,
          0.1565720416660532,
          0.11667080279074407,
          0.16861463362812282,
          0.1641217089460135,
          0.18356525328978876,
          0.11879471311026177,
          0.12665092281498025,
          0.14745190356958626,
          0.17932176890852508
         ],
         "yaxis": "y6"
        },
        {
         "hovertemplate": "prompt=This is a sound of<br>CLAP_type=no_fusion_no_keyword_to_caption.pt<br>dataset=clotho<br>variable=CIDEr<br>beta=%{x}<br>value=%{y}<extra></extra>",
         "legendgroup": "This is a sound of, no_fusion_no_keyword_to_caption.pt",
         "marker": {
          "color": "#636efa",
          "symbol": "circle"
         },
         "mode": "markers",
         "name": "This is a sound of, no_fusion_no_keyword_to_caption.pt",
         "showlegend": false,
         "type": "scattergl",
         "x": [
          0.5,
          0.15000000596046448,
          0.44999998807907104,
          0.4000000059604645,
          0.05000000074505806,
          0.30000001192092896,
          1.2000000476837158,
          0.20000000298023224,
          0.25,
          0,
          1.5499999523162842,
          0.8500000238418579,
          0.3499999940395355,
          0.10000000149011612,
          0.5,
          0.15000000596046448,
          0.44999998807907104,
          0.4000000059604645,
          0.05000000074505806,
          0.30000001192092896,
          1.2000000476837158,
          0.20000000298023224,
          0.25,
          0,
          1.5499999523162842,
          0.8500000238418579,
          0.3499999940395355,
          0.10000000149011612
         ],
         "xaxis": "x7",
         "y": [
          0.023755072549070885,
          0.02592523818212088,
          0.018326797115462524,
          0.020563230287620693,
          0.026112428382070303,
          0.021697246073310757,
          0.021288649650062566,
          0.024091682697082988,
          0.02296558580218924,
          0.0026392629823887835,
          0.021342395749216963,
          0.021101970059964302,
          0.02052703969778522,
          0.02756777965635569,
          0.02610972018278645,
          0.03347750655970852,
          0.028884119329850556,
          0.031249863101894527,
          0.02825145625683641,
          0.03201430930983196,
          0.019025801111576455,
          0.03187913091886305,
          0.03282569129138056,
          0.0026392629823887835,
          0.018813643404793346,
          0.02563249161603754,
          0.030308401432549297,
          0.03276207057320502
         ],
         "yaxis": "y7"
        },
        {
         "hovertemplate": "prompt=This is a sound of<br>CLAP_type=no_fusion_no_keyword_to_caption.pt<br>dataset=clotho<br>variable=SPICE<br>beta=%{x}<br>value=%{y}<extra></extra>",
         "legendgroup": "This is a sound of, no_fusion_no_keyword_to_caption.pt",
         "marker": {
          "color": "#636efa",
          "symbol": "circle"
         },
         "mode": "markers",
         "name": "This is a sound of, no_fusion_no_keyword_to_caption.pt",
         "showlegend": false,
         "type": "scattergl",
         "x": [
          0.5,
          0.15000000596046448,
          0.44999998807907104,
          0.4000000059604645,
          0.05000000074505806,
          0.30000001192092896,
          1.2000000476837158,
          0.20000000298023224,
          0.25,
          0,
          1.5499999523162842,
          0.8500000238418579,
          0.3499999940395355,
          0.10000000149011612,
          0.5,
          0.15000000596046448,
          0.44999998807907104,
          0.4000000059604645,
          0.05000000074505806,
          0.30000001192092896,
          1.2000000476837158,
          0.20000000298023224,
          0.25,
          0,
          1.5499999523162842,
          0.8500000238418579,
          0.3499999940395355,
          0.10000000149011612
         ],
         "xaxis": "x8",
         "y": [
          0.019564048931511136,
          0.01745871987753254,
          0.016554916761859745,
          0.017850127438913316,
          0.018247933904110156,
          0.01731373344998104,
          0.02002591395367954,
          0.017405309013647455,
          0.016569649032419323,
          0.008800117433898573,
          0.019455537751096194,
          0.019020333699324,
          0.017601687821190138,
          0.01799694996240069,
          0.017360585545187022,
          0.023044423980732722,
          0.01825970183029389,
          0.019589960526699732,
          0.019633329185962545,
          0.02155357196735174,
          0.0163946077518169,
          0.022225793912723918,
          0.021093806299490918,
          0.008800117433898573,
          0.016569292123915294,
          0.0178517313299452,
          0.01880188074843301,
          0.020999906510798333
         ],
         "yaxis": "y8"
        },
        {
         "hovertemplate": "prompt=The sound of<br>CLAP_type=no_fusion_no_keyword_to_caption.pt<br>dataset=audiocaps<br>variable=Bleu_1<br>beta=%{x}<br>value=%{y}<extra></extra>",
         "legendgroup": "The sound of, no_fusion_no_keyword_to_caption.pt",
         "marker": {
          "color": "#EF553B",
          "symbol": "circle"
         },
         "mode": "markers",
         "name": "The sound of, no_fusion_no_keyword_to_caption.pt",
         "showlegend": true,
         "type": "scattergl",
         "x": [
          0.10000000149011612,
          0.30000001192092896,
          1.2000000476837158,
          0.15000000596046448,
          0.4000000059604645,
          0.5,
          0,
          2.5999999046325684,
          2.25,
          2.950000047683716,
          0.25,
          3.6500000953674316,
          0.05000000074505806,
          1.899999976158142,
          0.3499999940395355,
          1.5499999523162842,
          0.8500000238418579,
          0.44999998807907104,
          3.299999952316284,
          0.20000000298023224
         ],
         "xaxis": "x9",
         "y": [
          0.11137551083750911,
          0.11877210863959957,
          0.16811279826462905,
          0.10933203946303793,
          0.12839268527429398,
          0.1350037144593682,
          0.12041175673844777,
          0.15747915283003783,
          0.16141791044774914,
          0.15643404004710273,
          0.11400785048918424,
          0.14977329237968773,
          0.11863652105080301,
          0.1674252768927198,
          0.12165102256479632,
          0.17108099784415068,
          0.1557469112691759,
          0.13300492610836565,
          0.15218516601344728,
          0.11100375127883876
         ],
         "yaxis": "y9"
        },
        {
         "hovertemplate": "prompt=The sound of<br>CLAP_type=no_fusion_no_keyword_to_caption.pt<br>dataset=audiocaps<br>variable=Bleu_2<br>beta=%{x}<br>value=%{y}<extra></extra>",
         "legendgroup": "The sound of, no_fusion_no_keyword_to_caption.pt",
         "marker": {
          "color": "#EF553B",
          "symbol": "circle"
         },
         "mode": "markers",
         "name": "The sound of, no_fusion_no_keyword_to_caption.pt",
         "showlegend": false,
         "type": "scattergl",
         "x": [
          0.10000000149011612,
          0.30000001192092896,
          1.2000000476837158,
          0.15000000596046448,
          0.4000000059604645,
          0.5,
          0,
          2.5999999046325684,
          2.25,
          2.950000047683716,
          0.25,
          3.6500000953674316,
          0.05000000074505806,
          1.899999976158142,
          0.3499999940395355,
          1.5499999523162842,
          0.8500000238418579,
          0.44999998807907104,
          3.299999952316284,
          0.20000000298023224
         ],
         "xaxis": "x10",
         "y": [
          0.027309671417461396,
          0.03194133823054082,
          0.054105196542746724,
          0.026970135052668293,
          0.037482344034764165,
          0.039003570258330914,
          0.02064622205627405,
          0.047847440676315016,
          0.04926504078232642,
          0.04549639470045476,
          0.029023314778097983,
          0.04218089618834098,
          0.02841381066948372,
          0.05155770122835786,
          0.0342689640146147,
          0.051025102953669736,
          0.048349890074787745,
          0.038868801925394256,
          0.042915397102238795,
          0.02865247892542152
         ],
         "yaxis": "y10"
        },
        {
         "hovertemplate": "prompt=The sound of<br>CLAP_type=no_fusion_no_keyword_to_caption.pt<br>dataset=audiocaps<br>variable=Bleu_3<br>beta=%{x}<br>value=%{y}<extra></extra>",
         "legendgroup": "The sound of, no_fusion_no_keyword_to_caption.pt",
         "marker": {
          "color": "#EF553B",
          "symbol": "circle"
         },
         "mode": "markers",
         "name": "The sound of, no_fusion_no_keyword_to_caption.pt",
         "showlegend": false,
         "type": "scattergl",
         "x": [
          0.10000000149011612,
          0.30000001192092896,
          1.2000000476837158,
          0.15000000596046448,
          0.4000000059604645,
          0.5,
          0,
          2.5999999046325684,
          2.25,
          2.950000047683716,
          0.25,
          3.6500000953674316,
          0.05000000074505806,
          1.899999976158142,
          0.3499999940395355,
          1.5499999523162842,
          0.8500000238418579,
          0.44999998807907104,
          3.299999952316284,
          0.20000000298023224
         ],
         "xaxis": "x11",
         "y": [
          0.007782465469627365,
          0.009397072136249168,
          0.018781251897154905,
          0.008067631032619373,
          0.012275875970530196,
          0.012609577484618929,
          0.005284183395559547,
          0.014313249261138484,
          0.01613305514503653,
          0.012469341987016744,
          0.007940384576030995,
          0.011059409175669159,
          0.00809156601952151,
          0.015855009986211886,
          0.010753470734394727,
          0.016144478523107273,
          0.016232348273191796,
          0.012199995227824681,
          0.011235721508654753,
          0.008322130248760454
         ],
         "yaxis": "y11"
        },
        {
         "hovertemplate": "prompt=The sound of<br>CLAP_type=no_fusion_no_keyword_to_caption.pt<br>dataset=audiocaps<br>variable=Bleu_4<br>beta=%{x}<br>value=%{y}<extra></extra>",
         "legendgroup": "The sound of, no_fusion_no_keyword_to_caption.pt",
         "marker": {
          "color": "#EF553B",
          "symbol": "circle"
         },
         "mode": "markers",
         "name": "The sound of, no_fusion_no_keyword_to_caption.pt",
         "showlegend": false,
         "type": "scattergl",
         "x": [
          0.10000000149011612,
          0.30000001192092896,
          1.2000000476837158,
          0.15000000596046448,
          0.4000000059604645,
          0.5,
          0,
          2.5999999046325684,
          2.25,
          2.950000047683716,
          0.25,
          3.6500000953674316,
          0.05000000074505806,
          1.899999976158142,
          0.3499999940395355,
          1.5499999523162842,
          0.8500000238418579,
          0.44999998807907104,
          3.299999952316284,
          0.20000000298023224
         ],
         "xaxis": "x12",
         "y": [
          4.1134295390117365e-7,
          4.941757394400844e-7,
          0.005992609959571575,
          4.2752370462770615e-7,
          0.003463212391780472,
          0.003587065981102259,
          2.9584847899469787e-7,
          7.203056144843437e-7,
          0.00444575420560496,
          0.0036497020908448103,
          4.326061691510139e-7,
          0.0033283117096027503,
          4.181670980173306e-7,
          7.842339602036134e-7,
          5.525408571756485e-7,
          7.985340132178812e-7,
          0.004470529072133721,
          0.0034712145549081895,
          0.0033798959240947083,
          4.4421011820265934e-7
         ],
         "yaxis": "y12"
        },
        {
         "hovertemplate": "prompt=The sound of<br>CLAP_type=no_fusion_no_keyword_to_caption.pt<br>dataset=audiocaps<br>variable=METEOR<br>beta=%{x}<br>value=%{y}<extra></extra>",
         "legendgroup": "The sound of, no_fusion_no_keyword_to_caption.pt",
         "marker": {
          "color": "#EF553B",
          "symbol": "circle"
         },
         "mode": "markers",
         "name": "The sound of, no_fusion_no_keyword_to_caption.pt",
         "showlegend": false,
         "type": "scattergl",
         "x": [
          0.10000000149011612,
          0.30000001192092896,
          1.2000000476837158,
          0.15000000596046448,
          0.4000000059604645,
          0.5,
          0,
          2.5999999046325684,
          2.25,
          2.950000047683716,
          0.25,
          3.6500000953674316,
          0.05000000074505806,
          1.899999976158142,
          0.3499999940395355,
          1.5499999523162842,
          0.8500000238418579,
          0.44999998807907104,
          3.299999952316284,
          0.20000000298023224
         ],
         "xaxis": "x13",
         "y": [
          0.05896484252714755,
          0.05870708148871736,
          0.06789425337067209,
          0.057475958203315705,
          0.06050675641575187,
          0.061885872212594846,
          0.050569545886724784,
          0.06461278798995113,
          0.06496013023011339,
          0.06399271558031609,
          0.056840752921136065,
          0.06406891571964111,
          0.06101750887780924,
          0.06832524715352849,
          0.059813742464278195,
          0.06888618202405002,
          0.06639633275416311,
          0.06189613289188535,
          0.06391146745103961,
          0.05657268824794361
         ],
         "yaxis": "y13"
        },
        {
         "hovertemplate": "prompt=The sound of<br>CLAP_type=no_fusion_no_keyword_to_caption.pt<br>dataset=audiocaps<br>variable=ROUGE_L<br>beta=%{x}<br>value=%{y}<extra></extra>",
         "legendgroup": "The sound of, no_fusion_no_keyword_to_caption.pt",
         "marker": {
          "color": "#EF553B",
          "symbol": "circle"
         },
         "mode": "markers",
         "name": "The sound of, no_fusion_no_keyword_to_caption.pt",
         "showlegend": false,
         "type": "scattergl",
         "x": [
          0.10000000149011612,
          0.30000001192092896,
          1.2000000476837158,
          0.15000000596046448,
          0.4000000059604645,
          0.5,
          0,
          2.5999999046325684,
          2.25,
          2.950000047683716,
          0.25,
          3.6500000953674316,
          0.05000000074505806,
          1.899999976158142,
          0.3499999940395355,
          1.5499999523162842,
          0.8500000238418579,
          0.44999998807907104,
          3.299999952316284,
          0.20000000298023224
         ],
         "xaxis": "x14",
         "y": [
          0.12024281618976702,
          0.11927669984283508,
          0.13471738870270844,
          0.11713106702026671,
          0.12224941408931579,
          0.12381489233162063,
          0.13172554757376584,
          0.12982177786140886,
          0.13167507963113,
          0.12784114902421612,
          0.1165128577063397,
          0.12479894260859306,
          0.12841608003539223,
          0.13506836812847975,
          0.12033744878031805,
          0.13910648452354504,
          0.1317029203084051,
          0.12315350776077898,
          0.12608121800219355,
          0.11670096617721601
         ],
         "yaxis": "y14"
        },
        {
         "hovertemplate": "prompt=The sound of<br>CLAP_type=no_fusion_no_keyword_to_caption.pt<br>dataset=audiocaps<br>variable=CIDEr<br>beta=%{x}<br>value=%{y}<extra></extra>",
         "legendgroup": "The sound of, no_fusion_no_keyword_to_caption.pt",
         "marker": {
          "color": "#EF553B",
          "symbol": "circle"
         },
         "mode": "markers",
         "name": "The sound of, no_fusion_no_keyword_to_caption.pt",
         "showlegend": false,
         "type": "scattergl",
         "x": [
          0.10000000149011612,
          0.30000001192092896,
          1.2000000476837158,
          0.15000000596046448,
          0.4000000059604645,
          0.5,
          0,
          2.5999999046325684,
          2.25,
          2.950000047683716,
          0.25,
          3.6500000953674316,
          0.05000000074505806,
          1.899999976158142,
          0.3499999940395355,
          1.5499999523162842,
          0.8500000238418579,
          0.44999998807907104,
          3.299999952316284,
          0.20000000298023224
         ],
         "xaxis": "x15",
         "y": [
          0.021085280689461278,
          0.03202109696030559,
          0.04449986121520476,
          0.023010349680399958,
          0.03777013729320829,
          0.04008264952605391,
          0.005025427253811238,
          0.04129156911002048,
          0.04270690124931731,
          0.04063843416354703,
          0.02813038125612389,
          0.038711155579922316,
          0.017389005184571014,
          0.04635133357349003,
          0.03529417642009393,
          0.050547562921631116,
          0.04732151590252922,
          0.038778526317048034,
          0.04095671460254273,
          0.02772335027115823
         ],
         "yaxis": "y15"
        },
        {
         "hovertemplate": "prompt=The sound of<br>CLAP_type=no_fusion_no_keyword_to_caption.pt<br>dataset=audiocaps<br>variable=SPICE<br>beta=%{x}<br>value=%{y}<extra></extra>",
         "legendgroup": "The sound of, no_fusion_no_keyword_to_caption.pt",
         "marker": {
          "color": "#EF553B",
          "symbol": "circle"
         },
         "mode": "markers",
         "name": "The sound of, no_fusion_no_keyword_to_caption.pt",
         "showlegend": false,
         "type": "scattergl",
         "x": [
          0.10000000149011612,
          0.30000001192092896,
          1.2000000476837158,
          0.15000000596046448,
          0.4000000059604645,
          0.5,
          0,
          2.5999999046325684,
          2.25,
          2.950000047683716,
          0.25,
          3.6500000953674316,
          0.05000000074505806,
          1.899999976158142,
          0.3499999940395355,
          1.5499999523162842,
          0.8500000238418579,
          0.44999998807907104,
          3.299999952316284,
          0.20000000298023224
         ],
         "xaxis": "x16",
         "y": [
          0.049252608613102884,
          0.051676173604090554,
          0.045770223108617156,
          0.049489511036189406,
          0.051822859700752816,
          0.05355209326552669,
          0.03574165405678197,
          0.038744713889820606,
          0.039008728695673824,
          0.0378079466958206,
          0.051188380336915425,
          0.03741437167025824,
          0.050359149898284904,
          0.0432754784564231,
          0.05248037633543321,
          0.04450946627927526,
          0.04967484127641814,
          0.0539169678752127,
          0.037600954788347705,
          0.0506913059628841
         ],
         "yaxis": "y16"
        },
        {
         "hovertemplate": "prompt=The sound of<br>CLAP_type=no_fusion_no_keyword_to_caption.pt<br>dataset=clotho<br>variable=Bleu_1<br>beta=%{x}<br>value=%{y}<extra></extra>",
         "legendgroup": "The sound of, no_fusion_no_keyword_to_caption.pt",
         "marker": {
          "color": "#EF553B",
          "symbol": "circle"
         },
         "mode": "markers",
         "name": "The sound of, no_fusion_no_keyword_to_caption.pt",
         "showlegend": false,
         "type": "scattergl",
         "x": [
          0.10000000149011612,
          0.30000001192092896,
          1.2000000476837158,
          0.15000000596046448,
          0.4000000059604645,
          0.5,
          0,
          0.25,
          0.05000000074505806,
          0.3499999940395355,
          1.5499999523162842,
          0.8500000238418579,
          0.44999998807907104,
          0.20000000298023224,
          0.10000000149011612,
          0.30000001192092896,
          1.2000000476837158,
          0.15000000596046448,
          0.4000000059604645,
          0.5,
          0,
          0.25,
          0.05000000074505806,
          0.3499999940395355,
          1.5499999523162842,
          0.8500000238418579,
          0.44999998807907104,
          0.20000000298023224
         ],
         "xaxis": "x",
         "y": [
          0.148288770053468,
          0.1666232921275103,
          0.22007343941246674,
          0.1514784713816271,
          0.17292006525284254,
          0.18344131384660362,
          0.15304847576211256,
          0.1581224173553617,
          0.14946457051719528,
          0.16967089990439918,
          0.2164784475902484,
          0.20820545953802228,
          0.18161367726453348,
          0.15603532875367052,
          0.17632925937531724,
          0.17007924267403232,
          0.2079593245872696,
          0.1697096521056673,
          0.1793166828846265,
          0.1857111404667445,
          0.15304847576211256,
          0.16553631051752057,
          0.1786552188888245,
          0.1747915330339868,
          0.212065932634034,
          0.19830028328610727,
          0.18455175497427986,
          0.1649260676248493
         ],
         "yaxis": "y"
        },
        {
         "hovertemplate": "prompt=The sound of<br>CLAP_type=no_fusion_no_keyword_to_caption.pt<br>dataset=clotho<br>variable=Bleu_2<br>beta=%{x}<br>value=%{y}<extra></extra>",
         "legendgroup": "The sound of, no_fusion_no_keyword_to_caption.pt",
         "marker": {
          "color": "#EF553B",
          "symbol": "circle"
         },
         "mode": "markers",
         "name": "The sound of, no_fusion_no_keyword_to_caption.pt",
         "showlegend": false,
         "type": "scattergl",
         "x": [
          0.10000000149011612,
          0.30000001192092896,
          1.2000000476837158,
          0.15000000596046448,
          0.4000000059604645,
          0.5,
          0,
          0.25,
          0.05000000074505806,
          0.3499999940395355,
          1.5499999523162842,
          0.8500000238418579,
          0.44999998807907104,
          0.20000000298023224,
          0.10000000149011612,
          0.30000001192092896,
          1.2000000476837158,
          0.15000000596046448,
          0.4000000059604645,
          0.5,
          0,
          0.25,
          0.05000000074505806,
          0.3499999940395355,
          1.5499999523162842,
          0.8500000238418579,
          0.44999998807907104,
          0.20000000298023224
         ],
         "xaxis": "x2",
         "y": [
          0.03665793212658823,
          0.04485681498062949,
          0.06733914983934688,
          0.03733023164759481,
          0.0442756672610027,
          0.051086949599713154,
          0.037850545645733584,
          0.03786941798756854,
          0.03856712488304231,
          0.044953116278800026,
          0.06382966214787228,
          0.061205847244923,
          0.04800929177514632,
          0.03863764351761961,
          0.05459584909006961,
          0.05206065415514781,
          0.06441156178428079,
          0.05299047015724213,
          0.05715792080653667,
          0.059185814699880275,
          0.037850545645733584,
          0.05038972716788254,
          0.05417938905130855,
          0.05366142016045781,
          0.06887577704031445,
          0.06167554911496643,
          0.059757677868188815,
          0.051214075209393584
         ],
         "yaxis": "y2"
        },
        {
         "hovertemplate": "prompt=The sound of<br>CLAP_type=no_fusion_no_keyword_to_caption.pt<br>dataset=clotho<br>variable=Bleu_3<br>beta=%{x}<br>value=%{y}<extra></extra>",
         "legendgroup": "The sound of, no_fusion_no_keyword_to_caption.pt",
         "marker": {
          "color": "#EF553B",
          "symbol": "circle"
         },
         "mode": "markers",
         "name": "The sound of, no_fusion_no_keyword_to_caption.pt",
         "showlegend": false,
         "type": "scattergl",
         "x": [
          0.10000000149011612,
          0.30000001192092896,
          1.2000000476837158,
          0.15000000596046448,
          0.4000000059604645,
          0.5,
          0,
          0.25,
          0.05000000074505806,
          0.3499999940395355,
          1.5499999523162842,
          0.8500000238418579,
          0.44999998807907104,
          0.20000000298023224,
          0.10000000149011612,
          0.30000001192092896,
          1.2000000476837158,
          0.15000000596046448,
          0.4000000059604645,
          0.5,
          0,
          0.25,
          0.05000000074505806,
          0.3499999940395355,
          1.5499999523162842,
          0.8500000238418579,
          0.44999998807907104,
          0.20000000298023224
         ],
         "xaxis": "x3",
         "y": [
          0.009901441282990446,
          0.010661465204941392,
          0.020012929854757357,
          0.009366851368001203,
          0.010453432782096797,
          0.014473639004193479,
          0.011286234221163503,
          0.008118593979070849,
          0.011047511589739736,
          0.009883112509952496,
          0.019794562019736544,
          0.017202176049657403,
          0.012261806590271953,
          0.008572977804866995,
          0.0182874461878467,
          0.016752089345006584,
          0.019014664910015622,
          0.01843657886122979,
          0.018534691994204006,
          0.01967765868099309,
          0.011286234221163503,
          0.016275389160940196,
          0.018223934931705228,
          0.017125562642766382,
          0.018582219192616524,
          0.015993143204221703,
          0.01912864266717531,
          0.016583265107409314
         ],
         "yaxis": "y3"
        },
        {
         "hovertemplate": "prompt=The sound of<br>CLAP_type=no_fusion_no_keyword_to_caption.pt<br>dataset=clotho<br>variable=Bleu_4<br>beta=%{x}<br>value=%{y}<extra></extra>",
         "legendgroup": "The sound of, no_fusion_no_keyword_to_caption.pt",
         "marker": {
          "color": "#EF553B",
          "symbol": "circle"
         },
         "mode": "markers",
         "name": "The sound of, no_fusion_no_keyword_to_caption.pt",
         "showlegend": false,
         "type": "scattergl",
         "x": [
          0.10000000149011612,
          0.30000001192092896,
          1.2000000476837158,
          0.15000000596046448,
          0.4000000059604645,
          0.5,
          0,
          0.25,
          0.05000000074505806,
          0.3499999940395355,
          1.5499999523162842,
          0.8500000238418579,
          0.44999998807907104,
          0.20000000298023224,
          0.10000000149011612,
          0.30000001192092896,
          1.2000000476837158,
          0.15000000596046448,
          0.4000000059604645,
          0.5,
          0,
          0.25,
          0.05000000074505806,
          0.3499999940395355,
          1.5499999523162842,
          0.8500000238418579,
          0.44999998807907104,
          0.20000000298023224
         ],
         "xaxis": "x4",
         "y": [
          0.002809203355125119,
          5.601079030326242e-7,
          0.005419893641679863,
          0.0027557607207720543,
          5.666938003390533e-7,
          7.370166148181183e-7,
          0.0028805748896274545,
          4.5547719070900646e-7,
          0.002909603667787865,
          5.369388757647623e-7,
          0.007015791897233156,
          0.005735644874264307,
          6.499504604925168e-7,
          0.0026269427440643012,
          0.005816681393473589,
          0.0041567344286674145,
          0.0063208107780629115,
          0.005289234163656919,
          0.005358057634608968,
          0.007085500461135512,
          0.0028805748896274545,
          0.004045784792613736,
          0.005725109932230589,
          0.004232781651095952,
          0.004773684462896452,
          7.362890822525712e-7,
          0.005540917580276283,
          0.004867321225563162
         ],
         "yaxis": "y4"
        },
        {
         "hovertemplate": "prompt=The sound of<br>CLAP_type=no_fusion_no_keyword_to_caption.pt<br>dataset=clotho<br>variable=METEOR<br>beta=%{x}<br>value=%{y}<extra></extra>",
         "legendgroup": "The sound of, no_fusion_no_keyword_to_caption.pt",
         "marker": {
          "color": "#EF553B",
          "symbol": "circle"
         },
         "mode": "markers",
         "name": "The sound of, no_fusion_no_keyword_to_caption.pt",
         "showlegend": false,
         "type": "scattergl",
         "x": [
          0.10000000149011612,
          0.30000001192092896,
          1.2000000476837158,
          0.15000000596046448,
          0.4000000059604645,
          0.5,
          0,
          0.25,
          0.05000000074505806,
          0.3499999940395355,
          1.5499999523162842,
          0.8500000238418579,
          0.44999998807907104,
          0.20000000298023224,
          0.10000000149011612,
          0.30000001192092896,
          1.2000000476837158,
          0.15000000596046448,
          0.4000000059604645,
          0.5,
          0,
          0.25,
          0.05000000074505806,
          0.3499999940395355,
          1.5499999523162842,
          0.8500000238418579,
          0.44999998807907104,
          0.20000000298023224
         ],
         "xaxis": "x5",
         "y": [
          0.0569731949775403,
          0.05989516136283669,
          0.06146137187460135,
          0.05822557915791514,
          0.05760585988488872,
          0.05700202006404178,
          0.05710232904507437,
          0.056484870581227184,
          0.05643596465288437,
          0.05809652501364044,
          0.06229914702133817,
          0.05905194824123357,
          0.057441745460003794,
          0.057705025616031434,
          0.07199547163603615,
          0.06909986515425597,
          0.07548865726360535,
          0.07089030266124759,
          0.07094176067047252,
          0.07303463586881674,
          0.05710232904507437,
          0.06947039582417334,
          0.07166947938518373,
          0.07144097475042069,
          0.07550763156014065,
          0.07391313155422473,
          0.07178006573006326,
          0.0695495787873597
         ],
         "yaxis": "y5"
        },
        {
         "hovertemplate": "prompt=The sound of<br>CLAP_type=no_fusion_no_keyword_to_caption.pt<br>dataset=clotho<br>variable=ROUGE_L<br>beta=%{x}<br>value=%{y}<extra></extra>",
         "legendgroup": "The sound of, no_fusion_no_keyword_to_caption.pt",
         "marker": {
          "color": "#EF553B",
          "symbol": "circle"
         },
         "mode": "markers",
         "name": "The sound of, no_fusion_no_keyword_to_caption.pt",
         "showlegend": false,
         "type": "scattergl",
         "x": [
          0.10000000149011612,
          0.30000001192092896,
          1.2000000476837158,
          0.15000000596046448,
          0.4000000059604645,
          0.5,
          0,
          0.25,
          0.05000000074505806,
          0.3499999940395355,
          1.5499999523162842,
          0.8500000238418579,
          0.44999998807907104,
          0.20000000298023224,
          0.10000000149011612,
          0.30000001192092896,
          1.2000000476837158,
          0.15000000596046448,
          0.4000000059604645,
          0.5,
          0,
          0.25,
          0.05000000074505806,
          0.3499999940395355,
          1.5499999523162842,
          0.8500000238418579,
          0.44999998807907104,
          0.20000000298023224
         ],
         "xaxis": "x6",
         "y": [
          0.13595072427058394,
          0.14129670744134026,
          0.15554430427049487,
          0.13465596639042965,
          0.14327551211357292,
          0.14626212678840492,
          0.15446851601638284,
          0.13648807822160144,
          0.14557059448390247,
          0.14281241066630737,
          0.1511355280949369,
          0.1528157603346717,
          0.14487395200278777,
          0.1358429924533426,
          0.1621561808677761,
          0.15401838858169897,
          0.1587815642416058,
          0.15732193766879154,
          0.15775663739861784,
          0.1585059535952644,
          0.15446851601638284,
          0.15277973970608916,
          0.16774810513742958,
          0.15605226198878305,
          0.15752700475162132,
          0.15978895569257426,
          0.15904200928082096,
          0.15504902099813364
         ],
         "yaxis": "y6"
        },
        {
         "hovertemplate": "prompt=The sound of<br>CLAP_type=no_fusion_no_keyword_to_caption.pt<br>dataset=clotho<br>variable=CIDEr<br>beta=%{x}<br>value=%{y}<extra></extra>",
         "legendgroup": "The sound of, no_fusion_no_keyword_to_caption.pt",
         "marker": {
          "color": "#EF553B",
          "symbol": "circle"
         },
         "mode": "markers",
         "name": "The sound of, no_fusion_no_keyword_to_caption.pt",
         "showlegend": false,
         "type": "scattergl",
         "x": [
          0.10000000149011612,
          0.30000001192092896,
          1.2000000476837158,
          0.15000000596046448,
          0.4000000059604645,
          0.5,
          0,
          0.25,
          0.05000000074505806,
          0.3499999940395355,
          1.5499999523162842,
          0.8500000238418579,
          0.44999998807907104,
          0.20000000298023224,
          0.10000000149011612,
          0.30000001192092896,
          1.2000000476837158,
          0.15000000596046448,
          0.4000000059604645,
          0.5,
          0,
          0.25,
          0.05000000074505806,
          0.3499999940395355,
          1.5499999523162842,
          0.8500000238418579,
          0.44999998807907104,
          0.20000000298023224
         ],
         "xaxis": "x7",
         "y": [
          0.014532307207691806,
          0.022674335271899538,
          0.029021338003747694,
          0.018085651937286673,
          0.023176199859133113,
          0.02401899889443898,
          0.004169733734205076,
          0.020651116188096213,
          0.008651518433255588,
          0.022852124740860107,
          0.025748042136430112,
          0.025841685962638593,
          0.022588595144601913,
          0.01951474828393067,
          0.03486305607248536,
          0.03081584005365898,
          0.034515587020349035,
          0.03249252927266865,
          0.02995111161527006,
          0.033538946917815435,
          0.004169733734205076,
          0.03074018704865136,
          0.032796930970503686,
          0.03342107505842878,
          0.03481857605233967,
          0.032093174600468996,
          0.036806190906592665,
          0.031066436525681307
         ],
         "yaxis": "y7"
        },
        {
         "hovertemplate": "prompt=The sound of<br>CLAP_type=no_fusion_no_keyword_to_caption.pt<br>dataset=clotho<br>variable=SPICE<br>beta=%{x}<br>value=%{y}<extra></extra>",
         "legendgroup": "The sound of, no_fusion_no_keyword_to_caption.pt",
         "marker": {
          "color": "#EF553B",
          "symbol": "circle"
         },
         "mode": "markers",
         "name": "The sound of, no_fusion_no_keyword_to_caption.pt",
         "showlegend": false,
         "type": "scattergl",
         "x": [
          0.10000000149011612,
          0.30000001192092896,
          1.2000000476837158,
          0.15000000596046448,
          0.4000000059604645,
          0.5,
          0,
          0.25,
          0.05000000074505806,
          0.3499999940395355,
          1.5499999523162842,
          0.8500000238418579,
          0.44999998807907104,
          0.20000000298023224,
          0.10000000149011612,
          0.30000001192092896,
          1.2000000476837158,
          0.15000000596046448,
          0.4000000059604645,
          0.5,
          0,
          0.25,
          0.05000000074505806,
          0.3499999940395355,
          1.5499999523162842,
          0.8500000238418579,
          0.44999998807907104,
          0.20000000298023224
         ],
         "xaxis": "x8",
         "y": [
          0.028165621377041337,
          0.03272037745722703,
          0.0326971196812049,
          0.02837246336477959,
          0.02870994036544304,
          0.03012069636629202,
          0.03287922784517167,
          0.028512176939929985,
          0.029509494386775584,
          0.030107264155037464,
          0.03176475226032655,
          0.03051533187764909,
          0.027819709615664955,
          0.029657881216982592,
          0.04521604753160838,
          0.04923485289063866,
          0.042167024590587916,
          0.04607342837053309,
          0.0493324935534292,
          0.048112244614923444,
          0.03287922784517167,
          0.046514112539907296,
          0.04435454070120486,
          0.04808350726880439,
          0.04253062812161123,
          0.04682835235980172,
          0.04967064604276671,
          0.047253381977141816
         ],
         "yaxis": "y8"
        },
        {
         "hovertemplate": "prompt=This is the sound of<br>CLAP_type=no_fusion_no_keyword_to_caption.pt<br>dataset=audiocaps<br>variable=Bleu_1<br>beta=%{x}<br>value=%{y}<extra></extra>",
         "legendgroup": "This is the sound of, no_fusion_no_keyword_to_caption.pt",
         "marker": {
          "color": "#00cc96",
          "symbol": "circle"
         },
         "mode": "markers",
         "name": "This is the sound of, no_fusion_no_keyword_to_caption.pt",
         "showlegend": true,
         "type": "scattergl",
         "x": [
          2.950000047683716,
          0.44999998807907104,
          0.30000001192092896,
          0.3499999940395355,
          1.5499999523162842,
          3.299999952316284,
          0.05000000074505806,
          0.8500000238418579,
          1.899999976158142,
          0.5,
          0,
          0.4000000059604645,
          0.20000000298023224,
          2.25,
          2.5999999046325684,
          1.2000000476837158,
          0.10000000149011612,
          0.25,
          0.15000000596046448
         ],
         "xaxis": "x9",
         "y": [
          0.1515549779983928,
          0.25757207659843706,
          0.27500265003864977,
          0.2687611847551048,
          0.16427202979400163,
          0.14837595946230153,
          0.3435272238867296,
          0.21711105012720433,
          0.15578531491478376,
          0.25009165531573274,
          0.33843890619588624,
          0.26639992060905227,
          0.2942138594760811,
          0.15440739421319155,
          0.1532315449926365,
          0.18515939232474335,
          0.321131439273054,
          0.28606033364951206,
          0.3032219036581649
         ],
         "yaxis": "y9"
        },
        {
         "hovertemplate": "prompt=This is the sound of<br>CLAP_type=no_fusion_no_keyword_to_caption.pt<br>dataset=audiocaps<br>variable=Bleu_2<br>beta=%{x}<br>value=%{y}<extra></extra>",
         "legendgroup": "This is the sound of, no_fusion_no_keyword_to_caption.pt",
         "marker": {
          "color": "#00cc96",
          "symbol": "circle"
         },
         "mode": "markers",
         "name": "This is the sound of, no_fusion_no_keyword_to_caption.pt",
         "showlegend": false,
         "type": "scattergl",
         "x": [
          2.950000047683716,
          0.44999998807907104,
          0.30000001192092896,
          0.3499999940395355,
          1.5499999523162842,
          3.299999952316284,
          0.05000000074505806,
          0.8500000238418579,
          1.899999976158142,
          0.5,
          0,
          0.4000000059604645,
          0.20000000298023224,
          2.25,
          2.5999999046325684,
          1.2000000476837158,
          0.10000000149011612,
          0.25,
          0.15000000596046448
         ],
         "xaxis": "x10",
         "y": [
          0.04115379315241906,
          0.11210626135537999,
          0.12604638392014564,
          0.12189621442416702,
          0.05238729337700286,
          0.04145605165486508,
          0.14669600624129803,
          0.08088922352839041,
          0.04840574207240711,
          0.10474124334402023,
          0.12764850809170808,
          0.11758007258085809,
          0.13741850171581418,
          0.04816616883904849,
          0.044621980867169855,
          0.06742609589867327,
          0.1500570945479043,
          0.132751688639599,
          0.14206341229758943
         ],
         "yaxis": "y10"
        },
        {
         "hovertemplate": "prompt=This is the sound of<br>CLAP_type=no_fusion_no_keyword_to_caption.pt<br>dataset=audiocaps<br>variable=Bleu_3<br>beta=%{x}<br>value=%{y}<extra></extra>",
         "legendgroup": "This is the sound of, no_fusion_no_keyword_to_caption.pt",
         "marker": {
          "color": "#00cc96",
          "symbol": "circle"
         },
         "mode": "markers",
         "name": "This is the sound of, no_fusion_no_keyword_to_caption.pt",
         "showlegend": false,
         "type": "scattergl",
         "x": [
          2.950000047683716,
          0.44999998807907104,
          0.30000001192092896,
          0.3499999940395355,
          1.5499999523162842,
          3.299999952316284,
          0.05000000074505806,
          0.8500000238418579,
          1.899999976158142,
          0.5,
          0,
          0.4000000059604645,
          0.20000000298023224,
          2.25,
          2.5999999046325684,
          1.2000000476837158,
          0.10000000149011612,
          0.25,
          0.15000000596046448
         ],
         "xaxis": "x11",
         "y": [
          0.007943069781782495,
          0.04762633888120212,
          0.05472033943176099,
          0.053931079919476224,
          0.014177652274245769,
          0.0062790290585703614,
          0.046829857939946866,
          0.028735093432644104,
          0.014562267187577867,
          0.04214631446587361,
          0.017186026801245525,
          0.050567485958796544,
          0.06153853964745904,
          0.014851306975146824,
          0.010642556890572705,
          0.02300351784173714,
          0.06129761536022559,
          0.058394000299795835,
          0.06143986659741586
         ],
         "yaxis": "y11"
        },
        {
         "hovertemplate": "prompt=This is the sound of<br>CLAP_type=no_fusion_no_keyword_to_caption.pt<br>dataset=audiocaps<br>variable=Bleu_4<br>beta=%{x}<br>value=%{y}<extra></extra>",
         "legendgroup": "This is the sound of, no_fusion_no_keyword_to_caption.pt",
         "marker": {
          "color": "#00cc96",
          "symbol": "circle"
         },
         "mode": "markers",
         "name": "This is the sound of, no_fusion_no_keyword_to_caption.pt",
         "showlegend": false,
         "type": "scattergl",
         "x": [
          2.950000047683716,
          0.44999998807907104,
          0.30000001192092896,
          0.3499999940395355,
          1.5499999523162842,
          3.299999952316284,
          0.05000000074505806,
          0.8500000238418579,
          1.899999976158142,
          0.5,
          0,
          0.4000000059604645,
          0.20000000298023224,
          2.25,
          2.5999999046325684,
          1.2000000476837158,
          0.10000000149011612,
          0.25,
          0.15000000596046448
         ],
         "xaxis": "x12",
         "y": [
          5.378847766509153e-7,
          0.014797092817381004,
          0.02073310173914024,
          0.019411783766648785,
          8.701247059622926e-7,
          4.4726925234556985e-7,
          0.011073146835538806,
          0.00842848365991993,
          8.752196354141903e-7,
          0.01139711154649956,
          8.748113608163958e-7,
          0.015493661923358165,
          0.0243424260047287,
          0.004922135336873507,
          6.74502345915934e-7,
          0.007100701427304387,
          0.02256004774599354,
          0.02284811923891004,
          0.02495357600297709
         ],
         "yaxis": "y12"
        },
        {
         "hovertemplate": "prompt=This is the sound of<br>CLAP_type=no_fusion_no_keyword_to_caption.pt<br>dataset=audiocaps<br>variable=METEOR<br>beta=%{x}<br>value=%{y}<extra></extra>",
         "legendgroup": "This is the sound of, no_fusion_no_keyword_to_caption.pt",
         "marker": {
          "color": "#00cc96",
          "symbol": "circle"
         },
         "mode": "markers",
         "name": "This is the sound of, no_fusion_no_keyword_to_caption.pt",
         "showlegend": false,
         "type": "scattergl",
         "x": [
          2.950000047683716,
          0.44999998807907104,
          0.30000001192092896,
          0.3499999940395355,
          1.5499999523162842,
          3.299999952316284,
          0.05000000074505806,
          0.8500000238418579,
          1.899999976158142,
          0.5,
          0,
          0.4000000059604645,
          0.20000000298023224,
          2.25,
          2.5999999046325684,
          1.2000000476837158,
          0.10000000149011612,
          0.25,
          0.15000000596046448
         ],
         "xaxis": "x13",
         "y": [
          0.046019958087248486,
          0.06706112002436018,
          0.0723168229162812,
          0.0711381209644343,
          0.04574028863206174,
          0.04607671604700654,
          0.0869582443447927,
          0.05702940292262855,
          0.04552487222729926,
          0.06538073258876033,
          0.08165018089347771,
          0.06988241234068156,
          0.07580967620886299,
          0.045631344256285934,
          0.046585578855174635,
          0.05021779110712257,
          0.08125351341656367,
          0.07436551138754617,
          0.07732676998579718
         ],
         "yaxis": "y13"
        },
        {
         "hovertemplate": "prompt=This is the sound of<br>CLAP_type=no_fusion_no_keyword_to_caption.pt<br>dataset=audiocaps<br>variable=ROUGE_L<br>beta=%{x}<br>value=%{y}<extra></extra>",
         "legendgroup": "This is the sound of, no_fusion_no_keyword_to_caption.pt",
         "marker": {
          "color": "#00cc96",
          "symbol": "circle"
         },
         "mode": "markers",
         "name": "This is the sound of, no_fusion_no_keyword_to_caption.pt",
         "showlegend": false,
         "type": "scattergl",
         "x": [
          2.950000047683716,
          0.44999998807907104,
          0.30000001192092896,
          0.3499999940395355,
          1.5499999523162842,
          3.299999952316284,
          0.05000000074505806,
          0.8500000238418579,
          1.899999976158142,
          0.5,
          0,
          0.4000000059604645,
          0.20000000298023224,
          2.25,
          2.5999999046325684,
          1.2000000476837158,
          0.10000000149011612,
          0.25,
          0.15000000596046448
         ],
         "xaxis": "x14",
         "y": [
          0.10838040706531984,
          0.21478566229574994,
          0.2311087713883014,
          0.22554937685924178,
          0.1225466428303613,
          0.10694718539542272,
          0.2698350411006812,
          0.16893155900218018,
          0.11487506906804804,
          0.20690418340906372,
          0.2670464371215923,
          0.22167304017256323,
          0.24728803451449816,
          0.11379974373007826,
          0.11199250294461337,
          0.1416418232920284,
          0.25724386609147415,
          0.2388309000801584,
          0.24984974593577708
         ],
         "yaxis": "y14"
        },
        {
         "hovertemplate": "prompt=This is the sound of<br>CLAP_type=no_fusion_no_keyword_to_caption.pt<br>dataset=audiocaps<br>variable=CIDEr<br>beta=%{x}<br>value=%{y}<extra></extra>",
         "legendgroup": "This is the sound of, no_fusion_no_keyword_to_caption.pt",
         "marker": {
          "color": "#00cc96",
          "symbol": "circle"
         },
         "mode": "markers",
         "name": "This is the sound of, no_fusion_no_keyword_to_caption.pt",
         "showlegend": false,
         "type": "scattergl",
         "x": [
          2.950000047683716,
          0.44999998807907104,
          0.30000001192092896,
          0.3499999940395355,
          1.5499999523162842,
          3.299999952316284,
          0.05000000074505806,
          0.8500000238418579,
          1.899999976158142,
          0.5,
          0,
          0.4000000059604645,
          0.20000000298023224,
          2.25,
          2.5999999046325684,
          1.2000000476837158,
          0.10000000149011612,
          0.25,
          0.15000000596046448
         ],
         "xaxis": "x15",
         "y": [
          0.04518035889204035,
          0.11277782748297854,
          0.11647379396335615,
          0.11574484445980286,
          0.0561757594315415,
          0.04321505852902865,
          0.08723564101747398,
          0.0895746103257784,
          0.05128208477585824,
          0.11222111452297397,
          0.014919453075632978,
          0.11529076106144268,
          0.11753475422500742,
          0.051335290995516696,
          0.04991831471254948,
          0.0719934201610096,
          0.10487621671117975,
          0.11677630262187821,
          0.10714553709821392
         ],
         "yaxis": "y15"
        },
        {
         "hovertemplate": "prompt=This is the sound of<br>CLAP_type=no_fusion_no_keyword_to_caption.pt<br>dataset=audiocaps<br>variable=SPICE<br>beta=%{x}<br>value=%{y}<extra></extra>",
         "legendgroup": "This is the sound of, no_fusion_no_keyword_to_caption.pt",
         "marker": {
          "color": "#00cc96",
          "symbol": "circle"
         },
         "mode": "markers",
         "name": "This is the sound of, no_fusion_no_keyword_to_caption.pt",
         "showlegend": false,
         "type": "scattergl",
         "x": [
          2.950000047683716,
          0.44999998807907104,
          0.30000001192092896,
          0.3499999940395355,
          1.5499999523162842,
          3.299999952316284,
          0.05000000074505806,
          0.8500000238418579,
          1.899999976158142,
          0.5,
          0,
          0.4000000059604645,
          0.20000000298023224,
          2.25,
          2.5999999046325684,
          1.2000000476837158,
          0.10000000149011612,
          0.25,
          0.15000000596046448
         ],
         "xaxis": "x16",
         "y": [
          0.02844244528657774,
          0.045828620850788516,
          0.04556820039292977,
          0.045770688606396964,
          0.030690482567592832,
          0.02702058684983693,
          0.053445790724287325,
          0.04212715637193999,
          0.029240865495865572,
          0.044908720295209,
          0.04264779175897098,
          0.046506942514251484,
          0.04751051699536134,
          0.028316143103536032,
          0.028260884547644475,
          0.03497510727947188,
          0.049928806040617814,
          0.04670876272240941,
          0.04769730063881312
         ],
         "yaxis": "y16"
        },
        {
         "hovertemplate": "prompt=This is the sound of<br>CLAP_type=no_fusion_no_keyword_to_caption.pt<br>dataset=clotho<br>variable=Bleu_1<br>beta=%{x}<br>value=%{y}<extra></extra>",
         "legendgroup": "This is the sound of, no_fusion_no_keyword_to_caption.pt",
         "marker": {
          "color": "#00cc96",
          "symbol": "circle"
         },
         "mode": "markers",
         "name": "This is the sound of, no_fusion_no_keyword_to_caption.pt",
         "showlegend": false,
         "type": "scattergl",
         "x": [
          0.44999998807907104,
          0.30000001192092896,
          0.3499999940395355,
          1.5499999523162842,
          0.05000000074505806,
          0.8500000238418579,
          0.5,
          0,
          0.4000000059604645,
          0.20000000298023224,
          1.2000000476837158,
          0.10000000149011612,
          0.25,
          0.15000000596046448,
          0.44999998807907104,
          0.30000001192092896,
          0.3499999940395355,
          0.05000000074505806,
          0.8500000238418579,
          0.5,
          0,
          0.4000000059604645,
          0.20000000298023224,
          1.2000000476837158,
          0.10000000149011612,
          0.25,
          0.15000000596046448
         ],
         "xaxis": "x",
         "y": [
          0.26218542913355825,
          0.26111893544387976,
          0.26630716790357517,
          0.2186628171803739,
          0.3255299071394663,
          0.24101597096302052,
          0.25770441326041377,
          0.3380427841634468,
          0.26099578364038617,
          0.2619025201458228,
          0.22785429049005348,
          0.2868088321567953,
          0.2635915833554589,
          0.26672085713504723,
          0.24011777857120933,
          0.24835350435478507,
          0.2500678945593002,
          0.32111435849353726,
          0.20861798243936325,
          0.23253638266873622,
          0.3380427841634468,
          0.24058542663603846,
          0.24776696896238226,
          0.20975742597958616,
          0.2807720402506106,
          0.24263351490636317,
          0.25370523162729225
         ],
         "yaxis": "y"
        },
        {
         "hovertemplate": "prompt=This is the sound of<br>CLAP_type=no_fusion_no_keyword_to_caption.pt<br>dataset=clotho<br>variable=Bleu_2<br>beta=%{x}<br>value=%{y}<extra></extra>",
         "legendgroup": "This is the sound of, no_fusion_no_keyword_to_caption.pt",
         "marker": {
          "color": "#00cc96",
          "symbol": "circle"
         },
         "mode": "markers",
         "name": "This is the sound of, no_fusion_no_keyword_to_caption.pt",
         "showlegend": false,
         "type": "scattergl",
         "x": [
          0.44999998807907104,
          0.30000001192092896,
          0.3499999940395355,
          1.5499999523162842,
          0.05000000074505806,
          0.8500000238418579,
          0.5,
          0,
          0.4000000059604645,
          0.20000000298023224,
          1.2000000476837158,
          0.10000000149011612,
          0.25,
          0.15000000596046448,
          0.44999998807907104,
          0.30000001192092896,
          0.3499999940395355,
          0.05000000074505806,
          0.8500000238418579,
          0.5,
          0,
          0.4000000059604645,
          0.20000000298023224,
          1.2000000476837158,
          0.10000000149011612,
          0.25,
          0.15000000596046448
         ],
         "xaxis": "x2",
         "y": [
          0.10061301913282646,
          0.1040981175753898,
          0.10163007120640412,
          0.07654036764713136,
          0.11591291827608675,
          0.0880802162135512,
          0.09632783263045147,
          0.10018816735730647,
          0.0997103690051076,
          0.10114964110023547,
          0.08651341618054564,
          0.11107520731276242,
          0.1049805786534445,
          0.10606973967877316,
          0.08758781449710672,
          0.09695137737854617,
          0.09596199626771365,
          0.12376241352139028,
          0.06812770544649396,
          0.08249840714865006,
          0.10018816735730647,
          0.09088028980275714,
          0.10363371332077072,
          0.06599072733303137,
          0.11681080499113214,
          0.09638276979684902,
          0.10585757457212128
         ],
         "yaxis": "y2"
        },
        {
         "hovertemplate": "prompt=This is the sound of<br>CLAP_type=no_fusion_no_keyword_to_caption.pt<br>dataset=clotho<br>variable=Bleu_3<br>beta=%{x}<br>value=%{y}<extra></extra>",
         "legendgroup": "This is the sound of, no_fusion_no_keyword_to_caption.pt",
         "marker": {
          "color": "#00cc96",
          "symbol": "circle"
         },
         "mode": "markers",
         "name": "This is the sound of, no_fusion_no_keyword_to_caption.pt",
         "showlegend": false,
         "type": "scattergl",
         "x": [
          0.44999998807907104,
          0.30000001192092896,
          0.3499999940395355,
          1.5499999523162842,
          0.05000000074505806,
          0.8500000238418579,
          0.5,
          0,
          0.4000000059604645,
          0.20000000298023224,
          1.2000000476837158,
          0.10000000149011612,
          0.25,
          0.15000000596046448,
          0.44999998807907104,
          0.30000001192092896,
          0.3499999940395355,
          0.05000000074505806,
          0.8500000238418579,
          0.5,
          0,
          0.4000000059604645,
          0.20000000298023224,
          1.2000000476837158,
          0.10000000149011612,
          0.25,
          0.15000000596046448
         ],
         "xaxis": "x3",
         "y": [
          0.037144405017105114,
          0.040875663479254344,
          0.03699629227986537,
          0.024276563092434096,
          0.04392113239054306,
          0.029267560815562563,
          0.034701181665909436,
          0.028068555790886105,
          0.03837519109051815,
          0.03839060415276513,
          0.028848193368176383,
          0.04362925828409794,
          0.042659577515136056,
          0.043192935278878505,
          0.029675513952123256,
          0.03481105899845722,
          0.0341003059535588,
          0.04721099749384145,
          0.022293114515339038,
          0.028220144576487766,
          0.028068555790886105,
          0.030130597181790054,
          0.0403408805610158,
          0.020833988865984445,
          0.04681828994347535,
          0.03534715337235867,
          0.04172437386030532
         ],
         "yaxis": "y3"
        },
        {
         "hovertemplate": "prompt=This is the sound of<br>CLAP_type=no_fusion_no_keyword_to_caption.pt<br>dataset=clotho<br>variable=Bleu_4<br>beta=%{x}<br>value=%{y}<extra></extra>",
         "legendgroup": "This is the sound of, no_fusion_no_keyword_to_caption.pt",
         "marker": {
          "color": "#00cc96",
          "symbol": "circle"
         },
         "mode": "markers",
         "name": "This is the sound of, no_fusion_no_keyword_to_caption.pt",
         "showlegend": false,
         "type": "scattergl",
         "x": [
          0.44999998807907104,
          0.30000001192092896,
          0.3499999940395355,
          1.5499999523162842,
          0.05000000074505806,
          0.8500000238418579,
          0.5,
          0,
          0.4000000059604645,
          0.20000000298023224,
          1.2000000476837158,
          0.10000000149011612,
          0.25,
          0.15000000596046448,
          0.44999998807907104,
          0.30000001192092896,
          0.3499999940395355,
          0.05000000074505806,
          0.8500000238418579,
          0.5,
          0,
          0.4000000059604645,
          0.20000000298023224,
          1.2000000476837158,
          0.10000000149011612,
          0.25,
          0.15000000596046448
         ],
         "xaxis": "x4",
         "y": [
          0.013757169926259485,
          0.014819959509252538,
          0.012039010298533003,
          0.009486993554230976,
          0.020417339717254825,
          0.007768118315262373,
          0.008770429366506252,
          0.0098501829406365,
          0.016348106845502388,
          0.01622410645247544,
          0.010085133760245018,
          0.020735428310950738,
          0.01894899365890735,
          0.020467776551659767,
          0.011827174701936631,
          0.014067352177559582,
          0.013776542700453873,
          0.021138804956071355,
          0.006370205990383785,
          0.010053503232478526,
          0.0098501829406365,
          0.012013112984065476,
          0.017356668670942262,
          0.0071226151109150945,
          0.021660623586678533,
          0.01287609348267059,
          0.018268189434519435
         ],
         "yaxis": "y4"
        },
        {
         "hovertemplate": "prompt=This is the sound of<br>CLAP_type=no_fusion_no_keyword_to_caption.pt<br>dataset=clotho<br>variable=METEOR<br>beta=%{x}<br>value=%{y}<extra></extra>",
         "legendgroup": "This is the sound of, no_fusion_no_keyword_to_caption.pt",
         "marker": {
          "color": "#00cc96",
          "symbol": "circle"
         },
         "mode": "markers",
         "name": "This is the sound of, no_fusion_no_keyword_to_caption.pt",
         "showlegend": false,
         "type": "scattergl",
         "x": [
          0.44999998807907104,
          0.30000001192092896,
          0.3499999940395355,
          1.5499999523162842,
          0.05000000074505806,
          0.8500000238418579,
          0.5,
          0,
          0.4000000059604645,
          0.20000000298023224,
          1.2000000476837158,
          0.10000000149011612,
          0.25,
          0.15000000596046448,
          0.44999998807907104,
          0.30000001192092896,
          0.3499999940395355,
          0.05000000074505806,
          0.8500000238418579,
          0.5,
          0,
          0.4000000059604645,
          0.20000000298023224,
          1.2000000476837158,
          0.10000000149011612,
          0.25,
          0.15000000596046448
         ],
         "xaxis": "x5",
         "y": [
          0.07106370927502609,
          0.07096143797840336,
          0.07150544938516658,
          0.05939707203563491,
          0.07581033656027929,
          0.06462673565184623,
          0.07020736903601903,
          0.06961112578743404,
          0.07105786144037249,
          0.0699027992767671,
          0.061620984823200345,
          0.07427614942378453,
          0.0706851625879239,
          0.07144767150831209,
          0.06592479412674125,
          0.06792158483015423,
          0.06842091089305485,
          0.07527960052472689,
          0.058460215758137625,
          0.06428902125298012,
          0.06961112578743404,
          0.06666639571512811,
          0.06869986223855873,
          0.05993092630973833,
          0.07162165391935169,
          0.06671983573274054,
          0.06842348434597251
         ],
         "yaxis": "y5"
        },
        {
         "hovertemplate": "prompt=This is the sound of<br>CLAP_type=no_fusion_no_keyword_to_caption.pt<br>dataset=clotho<br>variable=ROUGE_L<br>beta=%{x}<br>value=%{y}<extra></extra>",
         "legendgroup": "This is the sound of, no_fusion_no_keyword_to_caption.pt",
         "marker": {
          "color": "#00cc96",
          "symbol": "circle"
         },
         "mode": "markers",
         "name": "This is the sound of, no_fusion_no_keyword_to_caption.pt",
         "showlegend": false,
         "type": "scattergl",
         "x": [
          0.44999998807907104,
          0.30000001192092896,
          0.3499999940395355,
          1.5499999523162842,
          0.05000000074505806,
          0.8500000238418579,
          0.5,
          0,
          0.4000000059604645,
          0.20000000298023224,
          1.2000000476837158,
          0.10000000149011612,
          0.25,
          0.15000000596046448,
          0.44999998807907104,
          0.30000001192092896,
          0.3499999940395355,
          0.05000000074505806,
          0.8500000238418579,
          0.5,
          0,
          0.4000000059604645,
          0.20000000298023224,
          1.2000000476837158,
          0.10000000149011612,
          0.25,
          0.15000000596046448
         ],
         "xaxis": "x6",
         "y": [
          0.20520551466886858,
          0.20880170214085028,
          0.20486953800123858,
          0.16081866448819174,
          0.2309930379499358,
          0.1844970409394417,
          0.2018535434658043,
          0.23009280857852454,
          0.20334910885891766,
          0.2088524361684898,
          0.16989933420364703,
          0.2184675377096803,
          0.20799330936182356,
          0.21225116891624404,
          0.19288063376218464,
          0.20923771041942865,
          0.2031139417097094,
          0.23159140671036071,
          0.160310686631952,
          0.18950756348827782,
          0.23009280857852454,
          0.19796114430121006,
          0.21358758875575973,
          0.15509035367277807,
          0.22210438065238133,
          0.2072055306878933,
          0.21475071795970024
         ],
         "yaxis": "y6"
        },
        {
         "hovertemplate": "prompt=This is the sound of<br>CLAP_type=no_fusion_no_keyword_to_caption.pt<br>dataset=clotho<br>variable=CIDEr<br>beta=%{x}<br>value=%{y}<extra></extra>",
         "legendgroup": "This is the sound of, no_fusion_no_keyword_to_caption.pt",
         "marker": {
          "color": "#00cc96",
          "symbol": "circle"
         },
         "mode": "markers",
         "name": "This is the sound of, no_fusion_no_keyword_to_caption.pt",
         "showlegend": false,
         "type": "scattergl",
         "x": [
          0.44999998807907104,
          0.30000001192092896,
          0.3499999940395355,
          1.5499999523162842,
          0.05000000074505806,
          0.8500000238418579,
          0.5,
          0,
          0.4000000059604645,
          0.20000000298023224,
          1.2000000476837158,
          0.10000000149011612,
          0.25,
          0.15000000596046448,
          0.44999998807907104,
          0.30000001192092896,
          0.3499999940395355,
          0.05000000074505806,
          0.8500000238418579,
          0.5,
          0,
          0.4000000059604645,
          0.20000000298023224,
          1.2000000476837158,
          0.10000000149011612,
          0.25,
          0.15000000596046448
         ],
         "xaxis": "x7",
         "y": [
          0.05515297416344904,
          0.055870253859239924,
          0.05186107330218313,
          0.04227821961246811,
          0.04554429487922778,
          0.05068276248162922,
          0.05522454586386229,
          0.01028899493906891,
          0.05424763769899307,
          0.053756275484324274,
          0.04933055891939061,
          0.05517759884690445,
          0.05212094027137856,
          0.05558275533695113,
          0.0568520324925417,
          0.06181623270481782,
          0.06153320890201512,
          0.04953603944072541,
          0.050303088432430185,
          0.05854639722586347,
          0.01028899493906891,
          0.05952340604739487,
          0.05862720521683429,
          0.04472174603790194,
          0.05380406316268546,
          0.05724745164382678,
          0.05613678356383737
         ],
         "yaxis": "y7"
        },
        {
         "hovertemplate": "prompt=This is the sound of<br>CLAP_type=no_fusion_no_keyword_to_caption.pt<br>dataset=clotho<br>variable=SPICE<br>beta=%{x}<br>value=%{y}<extra></extra>",
         "legendgroup": "This is the sound of, no_fusion_no_keyword_to_caption.pt",
         "marker": {
          "color": "#00cc96",
          "symbol": "circle"
         },
         "mode": "markers",
         "name": "This is the sound of, no_fusion_no_keyword_to_caption.pt",
         "showlegend": false,
         "type": "scattergl",
         "x": [
          0.44999998807907104,
          0.30000001192092896,
          0.3499999940395355,
          1.5499999523162842,
          0.05000000074505806,
          0.8500000238418579,
          0.5,
          0,
          0.4000000059604645,
          0.20000000298023224,
          1.2000000476837158,
          0.10000000149011612,
          0.25,
          0.15000000596046448,
          0.44999998807907104,
          0.30000001192092896,
          0.3499999940395355,
          0.05000000074505806,
          0.8500000238418579,
          0.5,
          0,
          0.4000000059604645,
          0.20000000298023224,
          1.2000000476837158,
          0.10000000149011612,
          0.25,
          0.15000000596046448
         ],
         "xaxis": "x8",
         "y": [
          0.03694623713570203,
          0.03688626033044656,
          0.0357184664739626,
          0.033811794216244945,
          0.04022951750792292,
          0.0346270689981765,
          0.037846816883781054,
          0.021977457707802964,
          0.035695161593190104,
          0.03764478739406421,
          0.03571332131568119,
          0.04190093526478547,
          0.03563651927627018,
          0.03796941993218488,
          0.040021220602199925,
          0.042431416211620346,
          0.04071961328095873,
          0.03975875689177844,
          0.0347070915743762,
          0.03820505435598573,
          0.021977457707802964,
          0.04071947768075403,
          0.03860442231160994,
          0.03344227554739755,
          0.04019253399790282,
          0.039235586408117924,
          0.03706658409144862
         ],
         "yaxis": "y8"
        }
       ],
       "layout": {
        "annotations": [
         {
          "font": {},
          "showarrow": false,
          "text": "variable=Bleu_1",
          "x": 0.0525,
          "xanchor": "center",
          "xref": "paper",
          "y": 1,
          "yanchor": "bottom",
          "yref": "paper"
         },
         {
          "font": {},
          "showarrow": false,
          "text": "variable=Bleu_2",
          "x": 0.1775,
          "xanchor": "center",
          "xref": "paper",
          "y": 1,
          "yanchor": "bottom",
          "yref": "paper"
         },
         {
          "font": {},
          "showarrow": false,
          "text": "variable=Bleu_3",
          "x": 0.3025,
          "xanchor": "center",
          "xref": "paper",
          "y": 1,
          "yanchor": "bottom",
          "yref": "paper"
         },
         {
          "font": {},
          "showarrow": false,
          "text": "variable=Bleu_4",
          "x": 0.4275,
          "xanchor": "center",
          "xref": "paper",
          "y": 1,
          "yanchor": "bottom",
          "yref": "paper"
         },
         {
          "font": {},
          "showarrow": false,
          "text": "variable=METEOR",
          "x": 0.5525,
          "xanchor": "center",
          "xref": "paper",
          "y": 1,
          "yanchor": "bottom",
          "yref": "paper"
         },
         {
          "font": {},
          "showarrow": false,
          "text": "variable=ROUGE_L",
          "x": 0.6775,
          "xanchor": "center",
          "xref": "paper",
          "y": 1,
          "yanchor": "bottom",
          "yref": "paper"
         },
         {
          "font": {},
          "showarrow": false,
          "text": "variable=CIDEr",
          "x": 0.8025,
          "xanchor": "center",
          "xref": "paper",
          "y": 1,
          "yanchor": "bottom",
          "yref": "paper"
         },
         {
          "font": {},
          "showarrow": false,
          "text": "variable=SPICE",
          "x": 0.9275,
          "xanchor": "center",
          "xref": "paper",
          "y": 1,
          "yanchor": "bottom",
          "yref": "paper"
         },
         {
          "font": {},
          "showarrow": false,
          "text": "dataset=clotho",
          "textangle": 90,
          "x": 0.98,
          "xanchor": "left",
          "xref": "paper",
          "y": 0.2425,
          "yanchor": "middle",
          "yref": "paper"
         },
         {
          "font": {},
          "showarrow": false,
          "text": "dataset=audiocaps",
          "textangle": 90,
          "x": 0.98,
          "xanchor": "left",
          "xref": "paper",
          "y": 0.7575000000000001,
          "yanchor": "middle",
          "yref": "paper"
         }
        ],
        "legend": {
         "title": {
          "text": "prompt, CLAP_type"
         },
         "tracegroupgap": 0
        },
        "margin": {
         "t": 60
        },
        "template": {
         "data": {
          "bar": [
           {
            "error_x": {
             "color": "#2a3f5f"
            },
            "error_y": {
             "color": "#2a3f5f"
            },
            "marker": {
             "line": {
              "color": "#E5ECF6",
              "width": 0.5
             },
             "pattern": {
              "fillmode": "overlay",
              "size": 10,
              "solidity": 0.2
             }
            },
            "type": "bar"
           }
          ],
          "barpolar": [
           {
            "marker": {
             "line": {
              "color": "#E5ECF6",
              "width": 0.5
             },
             "pattern": {
              "fillmode": "overlay",
              "size": 10,
              "solidity": 0.2
             }
            },
            "type": "barpolar"
           }
          ],
          "carpet": [
           {
            "aaxis": {
             "endlinecolor": "#2a3f5f",
             "gridcolor": "white",
             "linecolor": "white",
             "minorgridcolor": "white",
             "startlinecolor": "#2a3f5f"
            },
            "baxis": {
             "endlinecolor": "#2a3f5f",
             "gridcolor": "white",
             "linecolor": "white",
             "minorgridcolor": "white",
             "startlinecolor": "#2a3f5f"
            },
            "type": "carpet"
           }
          ],
          "choropleth": [
           {
            "colorbar": {
             "outlinewidth": 0,
             "ticks": ""
            },
            "type": "choropleth"
           }
          ],
          "contour": [
           {
            "colorbar": {
             "outlinewidth": 0,
             "ticks": ""
            },
            "colorscale": [
             [
              0,
              "#0d0887"
             ],
             [
              0.1111111111111111,
              "#46039f"
             ],
             [
              0.2222222222222222,
              "#7201a8"
             ],
             [
              0.3333333333333333,
              "#9c179e"
             ],
             [
              0.4444444444444444,
              "#bd3786"
             ],
             [
              0.5555555555555556,
              "#d8576b"
             ],
             [
              0.6666666666666666,
              "#ed7953"
             ],
             [
              0.7777777777777778,
              "#fb9f3a"
             ],
             [
              0.8888888888888888,
              "#fdca26"
             ],
             [
              1,
              "#f0f921"
             ]
            ],
            "type": "contour"
           }
          ],
          "contourcarpet": [
           {
            "colorbar": {
             "outlinewidth": 0,
             "ticks": ""
            },
            "type": "contourcarpet"
           }
          ],
          "heatmap": [
           {
            "colorbar": {
             "outlinewidth": 0,
             "ticks": ""
            },
            "colorscale": [
             [
              0,
              "#0d0887"
             ],
             [
              0.1111111111111111,
              "#46039f"
             ],
             [
              0.2222222222222222,
              "#7201a8"
             ],
             [
              0.3333333333333333,
              "#9c179e"
             ],
             [
              0.4444444444444444,
              "#bd3786"
             ],
             [
              0.5555555555555556,
              "#d8576b"
             ],
             [
              0.6666666666666666,
              "#ed7953"
             ],
             [
              0.7777777777777778,
              "#fb9f3a"
             ],
             [
              0.8888888888888888,
              "#fdca26"
             ],
             [
              1,
              "#f0f921"
             ]
            ],
            "type": "heatmap"
           }
          ],
          "heatmapgl": [
           {
            "colorbar": {
             "outlinewidth": 0,
             "ticks": ""
            },
            "colorscale": [
             [
              0,
              "#0d0887"
             ],
             [
              0.1111111111111111,
              "#46039f"
             ],
             [
              0.2222222222222222,
              "#7201a8"
             ],
             [
              0.3333333333333333,
              "#9c179e"
             ],
             [
              0.4444444444444444,
              "#bd3786"
             ],
             [
              0.5555555555555556,
              "#d8576b"
             ],
             [
              0.6666666666666666,
              "#ed7953"
             ],
             [
              0.7777777777777778,
              "#fb9f3a"
             ],
             [
              0.8888888888888888,
              "#fdca26"
             ],
             [
              1,
              "#f0f921"
             ]
            ],
            "type": "heatmapgl"
           }
          ],
          "histogram": [
           {
            "marker": {
             "pattern": {
              "fillmode": "overlay",
              "size": 10,
              "solidity": 0.2
             }
            },
            "type": "histogram"
           }
          ],
          "histogram2d": [
           {
            "colorbar": {
             "outlinewidth": 0,
             "ticks": ""
            },
            "colorscale": [
             [
              0,
              "#0d0887"
             ],
             [
              0.1111111111111111,
              "#46039f"
             ],
             [
              0.2222222222222222,
              "#7201a8"
             ],
             [
              0.3333333333333333,
              "#9c179e"
             ],
             [
              0.4444444444444444,
              "#bd3786"
             ],
             [
              0.5555555555555556,
              "#d8576b"
             ],
             [
              0.6666666666666666,
              "#ed7953"
             ],
             [
              0.7777777777777778,
              "#fb9f3a"
             ],
             [
              0.8888888888888888,
              "#fdca26"
             ],
             [
              1,
              "#f0f921"
             ]
            ],
            "type": "histogram2d"
           }
          ],
          "histogram2dcontour": [
           {
            "colorbar": {
             "outlinewidth": 0,
             "ticks": ""
            },
            "colorscale": [
             [
              0,
              "#0d0887"
             ],
             [
              0.1111111111111111,
              "#46039f"
             ],
             [
              0.2222222222222222,
              "#7201a8"
             ],
             [
              0.3333333333333333,
              "#9c179e"
             ],
             [
              0.4444444444444444,
              "#bd3786"
             ],
             [
              0.5555555555555556,
              "#d8576b"
             ],
             [
              0.6666666666666666,
              "#ed7953"
             ],
             [
              0.7777777777777778,
              "#fb9f3a"
             ],
             [
              0.8888888888888888,
              "#fdca26"
             ],
             [
              1,
              "#f0f921"
             ]
            ],
            "type": "histogram2dcontour"
           }
          ],
          "mesh3d": [
           {
            "colorbar": {
             "outlinewidth": 0,
             "ticks": ""
            },
            "type": "mesh3d"
           }
          ],
          "parcoords": [
           {
            "line": {
             "colorbar": {
              "outlinewidth": 0,
              "ticks": ""
             }
            },
            "type": "parcoords"
           }
          ],
          "pie": [
           {
            "automargin": true,
            "type": "pie"
           }
          ],
          "scatter": [
           {
            "fillpattern": {
             "fillmode": "overlay",
             "size": 10,
             "solidity": 0.2
            },
            "type": "scatter"
           }
          ],
          "scatter3d": [
           {
            "line": {
             "colorbar": {
              "outlinewidth": 0,
              "ticks": ""
             }
            },
            "marker": {
             "colorbar": {
              "outlinewidth": 0,
              "ticks": ""
             }
            },
            "type": "scatter3d"
           }
          ],
          "scattercarpet": [
           {
            "marker": {
             "colorbar": {
              "outlinewidth": 0,
              "ticks": ""
             }
            },
            "type": "scattercarpet"
           }
          ],
          "scattergeo": [
           {
            "marker": {
             "colorbar": {
              "outlinewidth": 0,
              "ticks": ""
             }
            },
            "type": "scattergeo"
           }
          ],
          "scattergl": [
           {
            "marker": {
             "colorbar": {
              "outlinewidth": 0,
              "ticks": ""
             }
            },
            "type": "scattergl"
           }
          ],
          "scattermapbox": [
           {
            "marker": {
             "colorbar": {
              "outlinewidth": 0,
              "ticks": ""
             }
            },
            "type": "scattermapbox"
           }
          ],
          "scatterpolar": [
           {
            "marker": {
             "colorbar": {
              "outlinewidth": 0,
              "ticks": ""
             }
            },
            "type": "scatterpolar"
           }
          ],
          "scatterpolargl": [
           {
            "marker": {
             "colorbar": {
              "outlinewidth": 0,
              "ticks": ""
             }
            },
            "type": "scatterpolargl"
           }
          ],
          "scatterternary": [
           {
            "marker": {
             "colorbar": {
              "outlinewidth": 0,
              "ticks": ""
             }
            },
            "type": "scatterternary"
           }
          ],
          "surface": [
           {
            "colorbar": {
             "outlinewidth": 0,
             "ticks": ""
            },
            "colorscale": [
             [
              0,
              "#0d0887"
             ],
             [
              0.1111111111111111,
              "#46039f"
             ],
             [
              0.2222222222222222,
              "#7201a8"
             ],
             [
              0.3333333333333333,
              "#9c179e"
             ],
             [
              0.4444444444444444,
              "#bd3786"
             ],
             [
              0.5555555555555556,
              "#d8576b"
             ],
             [
              0.6666666666666666,
              "#ed7953"
             ],
             [
              0.7777777777777778,
              "#fb9f3a"
             ],
             [
              0.8888888888888888,
              "#fdca26"
             ],
             [
              1,
              "#f0f921"
             ]
            ],
            "type": "surface"
           }
          ],
          "table": [
           {
            "cells": {
             "fill": {
              "color": "#EBF0F8"
             },
             "line": {
              "color": "white"
             }
            },
            "header": {
             "fill": {
              "color": "#C8D4E3"
             },
             "line": {
              "color": "white"
             }
            },
            "type": "table"
           }
          ]
         },
         "layout": {
          "annotationdefaults": {
           "arrowcolor": "#2a3f5f",
           "arrowhead": 0,
           "arrowwidth": 1
          },
          "autotypenumbers": "strict",
          "coloraxis": {
           "colorbar": {
            "outlinewidth": 0,
            "ticks": ""
           }
          },
          "colorscale": {
           "diverging": [
            [
             0,
             "#8e0152"
            ],
            [
             0.1,
             "#c51b7d"
            ],
            [
             0.2,
             "#de77ae"
            ],
            [
             0.3,
             "#f1b6da"
            ],
            [
             0.4,
             "#fde0ef"
            ],
            [
             0.5,
             "#f7f7f7"
            ],
            [
             0.6,
             "#e6f5d0"
            ],
            [
             0.7,
             "#b8e186"
            ],
            [
             0.8,
             "#7fbc41"
            ],
            [
             0.9,
             "#4d9221"
            ],
            [
             1,
             "#276419"
            ]
           ],
           "sequential": [
            [
             0,
             "#0d0887"
            ],
            [
             0.1111111111111111,
             "#46039f"
            ],
            [
             0.2222222222222222,
             "#7201a8"
            ],
            [
             0.3333333333333333,
             "#9c179e"
            ],
            [
             0.4444444444444444,
             "#bd3786"
            ],
            [
             0.5555555555555556,
             "#d8576b"
            ],
            [
             0.6666666666666666,
             "#ed7953"
            ],
            [
             0.7777777777777778,
             "#fb9f3a"
            ],
            [
             0.8888888888888888,
             "#fdca26"
            ],
            [
             1,
             "#f0f921"
            ]
           ],
           "sequentialminus": [
            [
             0,
             "#0d0887"
            ],
            [
             0.1111111111111111,
             "#46039f"
            ],
            [
             0.2222222222222222,
             "#7201a8"
            ],
            [
             0.3333333333333333,
             "#9c179e"
            ],
            [
             0.4444444444444444,
             "#bd3786"
            ],
            [
             0.5555555555555556,
             "#d8576b"
            ],
            [
             0.6666666666666666,
             "#ed7953"
            ],
            [
             0.7777777777777778,
             "#fb9f3a"
            ],
            [
             0.8888888888888888,
             "#fdca26"
            ],
            [
             1,
             "#f0f921"
            ]
           ]
          },
          "colorway": [
           "#636efa",
           "#EF553B",
           "#00cc96",
           "#ab63fa",
           "#FFA15A",
           "#19d3f3",
           "#FF6692",
           "#B6E880",
           "#FF97FF",
           "#FECB52"
          ],
          "font": {
           "color": "#2a3f5f"
          },
          "geo": {
           "bgcolor": "white",
           "lakecolor": "white",
           "landcolor": "#E5ECF6",
           "showlakes": true,
           "showland": true,
           "subunitcolor": "white"
          },
          "hoverlabel": {
           "align": "left"
          },
          "hovermode": "closest",
          "mapbox": {
           "style": "light"
          },
          "paper_bgcolor": "white",
          "plot_bgcolor": "#E5ECF6",
          "polar": {
           "angularaxis": {
            "gridcolor": "white",
            "linecolor": "white",
            "ticks": ""
           },
           "bgcolor": "#E5ECF6",
           "radialaxis": {
            "gridcolor": "white",
            "linecolor": "white",
            "ticks": ""
           }
          },
          "scene": {
           "xaxis": {
            "backgroundcolor": "#E5ECF6",
            "gridcolor": "white",
            "gridwidth": 2,
            "linecolor": "white",
            "showbackground": true,
            "ticks": "",
            "zerolinecolor": "white"
           },
           "yaxis": {
            "backgroundcolor": "#E5ECF6",
            "gridcolor": "white",
            "gridwidth": 2,
            "linecolor": "white",
            "showbackground": true,
            "ticks": "",
            "zerolinecolor": "white"
           },
           "zaxis": {
            "backgroundcolor": "#E5ECF6",
            "gridcolor": "white",
            "gridwidth": 2,
            "linecolor": "white",
            "showbackground": true,
            "ticks": "",
            "zerolinecolor": "white"
           }
          },
          "shapedefaults": {
           "line": {
            "color": "#2a3f5f"
           }
          },
          "ternary": {
           "aaxis": {
            "gridcolor": "white",
            "linecolor": "white",
            "ticks": ""
           },
           "baxis": {
            "gridcolor": "white",
            "linecolor": "white",
            "ticks": ""
           },
           "bgcolor": "#E5ECF6",
           "caxis": {
            "gridcolor": "white",
            "linecolor": "white",
            "ticks": ""
           }
          },
          "title": {
           "x": 0.05
          },
          "xaxis": {
           "automargin": true,
           "gridcolor": "white",
           "linecolor": "white",
           "ticks": "",
           "title": {
            "standoff": 15
           },
           "zerolinecolor": "white",
           "zerolinewidth": 2
          },
          "yaxis": {
           "automargin": true,
           "gridcolor": "white",
           "linecolor": "white",
           "ticks": "",
           "title": {
            "standoff": 15
           },
           "zerolinecolor": "white",
           "zerolinewidth": 2
          }
         }
        },
        "xaxis": {
         "anchor": "y",
         "domain": [
          0,
          0.105
         ],
         "title": {
          "text": "beta"
         }
        },
        "xaxis10": {
         "anchor": "y10",
         "domain": [
          0.125,
          0.22999999999999998
         ],
         "matches": "x",
         "showticklabels": false
        },
        "xaxis11": {
         "anchor": "y11",
         "domain": [
          0.25,
          0.355
         ],
         "matches": "x",
         "showticklabels": false
        },
        "xaxis12": {
         "anchor": "y12",
         "domain": [
          0.375,
          0.48
         ],
         "matches": "x",
         "showticklabels": false
        },
        "xaxis13": {
         "anchor": "y13",
         "domain": [
          0.5,
          0.605
         ],
         "matches": "x",
         "showticklabels": false
        },
        "xaxis14": {
         "anchor": "y14",
         "domain": [
          0.625,
          0.73
         ],
         "matches": "x",
         "showticklabels": false
        },
        "xaxis15": {
         "anchor": "y15",
         "domain": [
          0.75,
          0.855
         ],
         "matches": "x",
         "showticklabels": false
        },
        "xaxis16": {
         "anchor": "y16",
         "domain": [
          0.875,
          0.98
         ],
         "matches": "x",
         "showticklabels": false
        },
        "xaxis2": {
         "anchor": "y2",
         "domain": [
          0.125,
          0.22999999999999998
         ],
         "matches": "x",
         "title": {
          "text": "beta"
         }
        },
        "xaxis3": {
         "anchor": "y3",
         "domain": [
          0.25,
          0.355
         ],
         "matches": "x",
         "title": {
          "text": "beta"
         }
        },
        "xaxis4": {
         "anchor": "y4",
         "domain": [
          0.375,
          0.48
         ],
         "matches": "x",
         "title": {
          "text": "beta"
         }
        },
        "xaxis5": {
         "anchor": "y5",
         "domain": [
          0.5,
          0.605
         ],
         "matches": "x",
         "title": {
          "text": "beta"
         }
        },
        "xaxis6": {
         "anchor": "y6",
         "domain": [
          0.625,
          0.73
         ],
         "matches": "x",
         "title": {
          "text": "beta"
         }
        },
        "xaxis7": {
         "anchor": "y7",
         "domain": [
          0.75,
          0.855
         ],
         "matches": "x",
         "title": {
          "text": "beta"
         }
        },
        "xaxis8": {
         "anchor": "y8",
         "domain": [
          0.875,
          0.98
         ],
         "matches": "x",
         "title": {
          "text": "beta"
         }
        },
        "xaxis9": {
         "anchor": "y9",
         "domain": [
          0,
          0.105
         ],
         "matches": "x",
         "showticklabels": false
        },
        "yaxis": {
         "anchor": "x",
         "domain": [
          0,
          0.485
         ],
         "title": {
          "text": "value"
         }
        },
        "yaxis10": {
         "anchor": "x10",
         "domain": [
          0.515,
          1
         ],
         "matches": "y",
         "showticklabels": false
        },
        "yaxis11": {
         "anchor": "x11",
         "domain": [
          0.515,
          1
         ],
         "matches": "y",
         "showticklabels": false
        },
        "yaxis12": {
         "anchor": "x12",
         "domain": [
          0.515,
          1
         ],
         "matches": "y",
         "showticklabels": false
        },
        "yaxis13": {
         "anchor": "x13",
         "domain": [
          0.515,
          1
         ],
         "matches": "y",
         "showticklabels": false
        },
        "yaxis14": {
         "anchor": "x14",
         "domain": [
          0.515,
          1
         ],
         "matches": "y",
         "showticklabels": false
        },
        "yaxis15": {
         "anchor": "x15",
         "domain": [
          0.515,
          1
         ],
         "matches": "y",
         "showticklabels": false
        },
        "yaxis16": {
         "anchor": "x16",
         "domain": [
          0.515,
          1
         ],
         "matches": "y",
         "showticklabels": false
        },
        "yaxis2": {
         "anchor": "x2",
         "domain": [
          0,
          0.485
         ],
         "matches": "y",
         "showticklabels": false
        },
        "yaxis3": {
         "anchor": "x3",
         "domain": [
          0,
          0.485
         ],
         "matches": "y",
         "showticklabels": false
        },
        "yaxis4": {
         "anchor": "x4",
         "domain": [
          0,
          0.485
         ],
         "matches": "y",
         "showticklabels": false
        },
        "yaxis5": {
         "anchor": "x5",
         "domain": [
          0,
          0.485
         ],
         "matches": "y",
         "showticklabels": false
        },
        "yaxis6": {
         "anchor": "x6",
         "domain": [
          0,
          0.485
         ],
         "matches": "y",
         "showticklabels": false
        },
        "yaxis7": {
         "anchor": "x7",
         "domain": [
          0,
          0.485
         ],
         "matches": "y",
         "showticklabels": false
        },
        "yaxis8": {
         "anchor": "x8",
         "domain": [
          0,
          0.485
         ],
         "matches": "y",
         "showticklabels": false
        },
        "yaxis9": {
         "anchor": "x9",
         "domain": [
          0.515,
          1
         ],
         "matches": "y",
         "title": {
          "text": "value"
         }
        }
       }
      },
      "text/html": [
       "<div>                            <div id=\"d912e46d-2abd-4b7d-8d21-7386f0c1822b\" class=\"plotly-graph-div\" style=\"height:525px; width:100%;\"></div>            <script type=\"text/javascript\">                require([\"plotly\"], function(Plotly) {                    window.PLOTLYENV=window.PLOTLYENV || {};                                    if (document.getElementById(\"d912e46d-2abd-4b7d-8d21-7386f0c1822b\")) {                    Plotly.newPlot(                        \"d912e46d-2abd-4b7d-8d21-7386f0c1822b\",                        [{\"hovertemplate\":\"prompt=This is a sound of<br>CLAP_type=no_fusion_no_keyword_to_caption.pt<br>dataset=audiocaps<br>variable=Bleu_1<br>beta=%{x}<br>value=%{y}<extra></extra>\",\"legendgroup\":\"This is a sound of, no_fusion_no_keyword_to_caption.pt\",\"marker\":{\"color\":\"#636efa\",\"symbol\":\"circle\"},\"mode\":\"markers\",\"name\":\"This is a sound of, no_fusion_no_keyword_to_caption.pt\",\"showlegend\":true,\"x\":[2.25,2.5999999046325684,0.5,0.15000000596046448,0.44999998807907104,0.4000000059604645,3.299999952316284,0.05000000074505806,0.30000001192092896,1.2000000476837158,0.20000000298023224,0.25,2.950000047683716,0.0,3.6500000953674316,1.5499999523162842,0.8500000238418579,0.3499999940395355,0.10000000149011612,1.899999976158142],\"xaxis\":\"x9\",\"y\":[0.13413916270470408,0.13559710052962168,0.16578732702116228,0.19004321209937072,0.16775512639679147,0.16936702445252785,0.13301164376375402,0.22361078362019776,0.1754856713534211,0.13950671754973726,0.1854304635761414,0.1781405251951558,0.13268051221347973,0.18933887158185403,0.13006878143926393,0.1394375751144801,0.15335371116508933,0.1723229207297211,0.21428571428569476,0.13920399336294903],\"yaxis\":\"y9\",\"type\":\"scattergl\"},{\"hovertemplate\":\"prompt=This is a sound of<br>CLAP_type=no_fusion_no_keyword_to_caption.pt<br>dataset=audiocaps<br>variable=Bleu_2<br>beta=%{x}<br>value=%{y}<extra></extra>\",\"legendgroup\":\"This is a sound of, no_fusion_no_keyword_to_caption.pt\",\"marker\":{\"color\":\"#636efa\",\"symbol\":\"circle\"},\"mode\":\"markers\",\"name\":\"This is a sound of, no_fusion_no_keyword_to_caption.pt\",\"showlegend\":false,\"x\":[2.25,2.5999999046325684,0.5,0.15000000596046448,0.44999998807907104,0.4000000059604645,3.299999952316284,0.05000000074505806,0.30000001192092896,1.2000000476837158,0.20000000298023224,0.25,2.950000047683716,0.0,3.6500000953674316,1.5499999523162842,0.8500000238418579,0.3499999940395355,0.10000000149011612,1.899999976158142],\"xaxis\":\"x10\",\"y\":[0.03856487323082113,0.038949031573533875,0.053488743165738296,0.054917795234468846,0.05414876906005717,0.05179296067794312,0.037992326913741624,0.08376370796326776,0.0528566233755647,0.043562322078908866,0.05344751334300648,0.05387290093754345,0.037861892993904064,0.08049658079430297,0.03651825376751744,0.04089017859127497,0.04865539555864046,0.0511616755949152,0.06607384575161042,0.04079315544813934],\"yaxis\":\"y10\",\"type\":\"scattergl\"},{\"hovertemplate\":\"prompt=This is a sound of<br>CLAP_type=no_fusion_no_keyword_to_caption.pt<br>dataset=audiocaps<br>variable=Bleu_3<br>beta=%{x}<br>value=%{y}<extra></extra>\",\"legendgroup\":\"This is a sound of, no_fusion_no_keyword_to_caption.pt\",\"marker\":{\"color\":\"#636efa\",\"symbol\":\"circle\"},\"mode\":\"markers\",\"name\":\"This is a sound of, no_fusion_no_keyword_to_caption.pt\",\"showlegend\":false,\"x\":[2.25,2.5999999046325684,0.5,0.15000000596046448,0.44999998807907104,0.4000000059604645,3.299999952316284,0.05000000074505806,0.30000001192092896,1.2000000476837158,0.20000000298023224,0.25,2.950000047683716,0.0,3.6500000953674316,1.5499999523162842,0.8500000238418579,0.3499999940395355,0.10000000149011612,1.899999976158142],\"xaxis\":\"x11\",\"y\":[0.010178735325794126,0.010783339767902448,0.020074356299032557,0.01773075522419486,0.0198708773898008,0.018358361995617162,0.010357641586032487,0.012492326135442383,0.01954133952297029,0.012809173666348296,0.017753940556276798,0.02028018509148793,0.009825641194753269,6.737549460068727e-08,0.010001457297567141,0.01213942937855175,0.01374562180981197,0.018474757863039912,0.01889804725908372,0.010687292133457723],\"yaxis\":\"y11\",\"type\":\"scattergl\"},{\"hovertemplate\":\"prompt=This is a sound of<br>CLAP_type=no_fusion_no_keyword_to_caption.pt<br>dataset=audiocaps<br>variable=Bleu_4<br>beta=%{x}<br>value=%{y}<extra></extra>\",\"legendgroup\":\"This is a sound of, no_fusion_no_keyword_to_caption.pt\",\"marker\":{\"color\":\"#636efa\",\"symbol\":\"circle\"},\"mode\":\"markers\",\"name\":\"This is a sound of, no_fusion_no_keyword_to_caption.pt\",\"showlegend\":false,\"x\":[2.25,2.5999999046325684,0.5,0.15000000596046448,0.44999998807907104,0.4000000059604645,3.299999952316284,0.05000000074505806,0.30000001192092896,1.2000000476837158,0.20000000298023224,0.25,2.950000047683716,0.0,3.6500000953674316,1.5499999523162842,0.8500000238418579,0.3499999940395355,0.10000000149011612,1.899999976158142],\"xaxis\":\"x12\",\"y\":[6.397354555031119e-07,6.625151973111167e-07,0.009083144168935298,0.007202566809590126,0.009014007528825996,0.008422339594659288,6.301062412821469e-07,6.670979162210735e-07,0.009054928037308507,7.842661516647741e-07,0.007322938082976791,0.009147676607426006,6.108296971864591e-07,6.236128840719041e-11,6.095059349348607e-07,7.457180968259322e-07,8.245891411123723e-07,0.008425815595940477,0.007066276612688686,6.6994798372889e-07],\"yaxis\":\"y12\",\"type\":\"scattergl\"},{\"hovertemplate\":\"prompt=This is a sound of<br>CLAP_type=no_fusion_no_keyword_to_caption.pt<br>dataset=audiocaps<br>variable=METEOR<br>beta=%{x}<br>value=%{y}<extra></extra>\",\"legendgroup\":\"This is a sound of, no_fusion_no_keyword_to_caption.pt\",\"marker\":{\"color\":\"#636efa\",\"symbol\":\"circle\"},\"mode\":\"markers\",\"name\":\"This is a sound of, no_fusion_no_keyword_to_caption.pt\",\"showlegend\":false,\"x\":[2.25,2.5999999046325684,0.5,0.15000000596046448,0.44999998807907104,0.4000000059604645,3.299999952316284,0.05000000074505806,0.30000001192092896,1.2000000476837158,0.20000000298023224,0.25,2.950000047683716,0.0,3.6500000953674316,1.5499999523162842,0.8500000238418579,0.3499999940395355,0.10000000149011612,1.899999976158142],\"xaxis\":\"x13\",\"y\":[0.03586405548243719,0.036723905980109516,0.04272938703839427,0.06005440766861381,0.04371836720939686,0.04475753068512637,0.038179757111041046,0.07212265231222842,0.04978082323297069,0.03535840361589578,0.057534351331002834,0.05428618669593793,0.03680940401187516,0.07915994344437695,0.03808244346605566,0.035830275043934275,0.03833577790509887,0.04735447001715695,0.06528835919564303,0.0360675241615865],\"yaxis\":\"y13\",\"type\":\"scattergl\"},{\"hovertemplate\":\"prompt=This is a sound of<br>CLAP_type=no_fusion_no_keyword_to_caption.pt<br>dataset=audiocaps<br>variable=ROUGE_L<br>beta=%{x}<br>value=%{y}<extra></extra>\",\"legendgroup\":\"This is a sound of, no_fusion_no_keyword_to_caption.pt\",\"marker\":{\"color\":\"#636efa\",\"symbol\":\"circle\"},\"mode\":\"markers\",\"name\":\"This is a sound of, no_fusion_no_keyword_to_caption.pt\",\"showlegend\":false,\"x\":[2.25,2.5999999046325684,0.5,0.15000000596046448,0.44999998807907104,0.4000000059604645,3.299999952316284,0.05000000074505806,0.30000001192092896,1.2000000476837158,0.20000000298023224,0.25,2.950000047683716,0.0,3.6500000953674316,1.5499999523162842,0.8500000238418579,0.3499999940395355,0.10000000149011612,1.899999976158142],\"xaxis\":\"x14\",\"y\":[0.0878744591707655,0.08863991735286493,0.110516357656975,0.1699497625500044,0.11344230628144818,0.11722411390562801,0.08814833939450635,0.20492296980964345,0.13328102454013874,0.0931869373997727,0.16080816606160514,0.14605861586071284,0.08735886695909058,0.18992227717775395,0.08720522335768352,0.09034431377877578,0.10046334578595222,0.12380923979019783,0.19083736439669288,0.0900054914426333],\"yaxis\":\"y14\",\"type\":\"scattergl\"},{\"hovertemplate\":\"prompt=This is a sound of<br>CLAP_type=no_fusion_no_keyword_to_caption.pt<br>dataset=audiocaps<br>variable=CIDEr<br>beta=%{x}<br>value=%{y}<extra></extra>\",\"legendgroup\":\"This is a sound of, no_fusion_no_keyword_to_caption.pt\",\"marker\":{\"color\":\"#636efa\",\"symbol\":\"circle\"},\"mode\":\"markers\",\"name\":\"This is a sound of, no_fusion_no_keyword_to_caption.pt\",\"showlegend\":false,\"x\":[2.25,2.5999999046325684,0.5,0.15000000596046448,0.44999998807907104,0.4000000059604645,3.299999952316284,0.05000000074505806,0.30000001192092896,1.2000000476837158,0.20000000298023224,0.25,2.950000047683716,0.0,3.6500000953674316,1.5499999523162842,0.8500000238418579,0.3499999940395355,0.10000000149011612,1.899999976158142],\"xaxis\":\"x15\",\"y\":[0.020622649275739417,0.01985567108633485,0.02851022987403715,0.03801703904133768,0.03042413344275831,0.030180678369587786,0.021524414820034418,0.028191791109712604,0.03320630782305052,0.023487947876664528,0.035891294212136084,0.03687860490504186,0.01998373425524812,0.0027365322608267468,0.021009478140452426,0.021170474133208415,0.024294069438943446,0.03251039252547973,0.0345128976575515,0.020449062596093515],\"yaxis\":\"y15\",\"type\":\"scattergl\"},{\"hovertemplate\":\"prompt=This is a sound of<br>CLAP_type=no_fusion_no_keyword_to_caption.pt<br>dataset=audiocaps<br>variable=SPICE<br>beta=%{x}<br>value=%{y}<extra></extra>\",\"legendgroup\":\"This is a sound of, no_fusion_no_keyword_to_caption.pt\",\"marker\":{\"color\":\"#636efa\",\"symbol\":\"circle\"},\"mode\":\"markers\",\"name\":\"This is a sound of, no_fusion_no_keyword_to_caption.pt\",\"showlegend\":false,\"x\":[2.25,2.5999999046325684,0.5,0.15000000596046448,0.44999998807907104,0.4000000059604645,3.299999952316284,0.05000000074505806,0.30000001192092896,1.2000000476837158,0.20000000298023224,0.25,2.950000047683716,0.0,3.6500000953674316,1.5499999523162842,0.8500000238418579,0.3499999940395355,0.10000000149011612,1.899999976158142],\"xaxis\":\"x16\",\"y\":[0.017064535446666442,0.017586705603375063,0.017410227910895155,0.025553648439040122,0.01801532596336138,0.019474363362464525,0.018243840924599172,0.028860811792459695,0.021640286804232335,0.016891709044129125,0.025805228961847056,0.025325351771267438,0.01746607647881361,0.02385448250990439,0.017857845833098445,0.016347561453129728,0.017318231267800698,0.021579132987414422,0.02600094262282455,0.016807087556799036],\"yaxis\":\"y16\",\"type\":\"scattergl\"},{\"hovertemplate\":\"prompt=This is a sound of<br>CLAP_type=no_fusion_no_keyword_to_caption.pt<br>dataset=clotho<br>variable=Bleu_1<br>beta=%{x}<br>value=%{y}<extra></extra>\",\"legendgroup\":\"This is a sound of, no_fusion_no_keyword_to_caption.pt\",\"marker\":{\"color\":\"#636efa\",\"symbol\":\"circle\"},\"mode\":\"markers\",\"name\":\"This is a sound of, no_fusion_no_keyword_to_caption.pt\",\"showlegend\":false,\"x\":[0.5,0.15000000596046448,0.44999998807907104,0.4000000059604645,0.05000000074505806,0.30000001192092896,1.2000000476837158,0.20000000298023224,0.25,0.0,1.5499999523162842,0.8500000238418579,0.3499999940395355,0.10000000149011612,0.5,0.15000000596046448,0.44999998807907104,0.4000000059604645,0.05000000074505806,0.30000001192092896,1.2000000476837158,0.20000000298023224,0.25,0.0,1.5499999523162842,0.8500000238418579,0.3499999940395355,0.10000000149011612],\"xaxis\":\"x\",\"y\":[0.17385808334492114,0.19385619179722785,0.17067464661224793,0.1748382105543523,0.23377083704560933,0.18044601055206744,0.16599109882467503,0.1918830717928871,0.1818119364567227,0.21815134099615988,0.1689076666977332,0.16274199849112697,0.1775683149808747,0.20733114773241715,0.20590688474538235,0.23518556322274883,0.20681275829639081,0.21414873311261445,0.23832692458602853,0.22612669467026886,0.17355376427739608,0.23086429875335937,0.23355894123618992,0.21815134099615988,0.1765538490633292,0.1918986751883971,0.21750807237927378,0.2357639196814586],\"yaxis\":\"y\",\"type\":\"scattergl\"},{\"hovertemplate\":\"prompt=This is a sound of<br>CLAP_type=no_fusion_no_keyword_to_caption.pt<br>dataset=clotho<br>variable=Bleu_2<br>beta=%{x}<br>value=%{y}<extra></extra>\",\"legendgroup\":\"This is a sound of, no_fusion_no_keyword_to_caption.pt\",\"marker\":{\"color\":\"#636efa\",\"symbol\":\"circle\"},\"mode\":\"markers\",\"name\":\"This is a sound of, no_fusion_no_keyword_to_caption.pt\",\"showlegend\":false,\"x\":[0.5,0.15000000596046448,0.44999998807907104,0.4000000059604645,0.05000000074505806,0.30000001192092896,1.2000000476837158,0.20000000298023224,0.25,0.0,1.5499999523162842,0.8500000238418579,0.3499999940395355,0.10000000149011612,0.5,0.15000000596046448,0.44999998807907104,0.4000000059604645,0.05000000074505806,0.30000001192092896,1.2000000476837158,0.20000000298023224,0.25,0.0,1.5499999523162842,0.8500000238418579,0.3499999940395355,0.10000000149011612],\"xaxis\":\"x2\",\"y\":[0.04791593111431598,0.05209376333525513,0.042361789640242654,0.04635881570787526,0.06910221530428765,0.04783845668284353,0.04687984208292857,0.05187356832639555,0.04823734583963007,0.07049502019954414,0.048517485253113474,0.04288395770137474,0.045752486273122075,0.05929867830732587,0.05725937991225348,0.07185899862095056,0.06145964957957645,0.06002792264745514,0.073750983230874,0.06767213085622464,0.045331965526698874,0.0681818420497007,0.07293653366860292,0.07049502019954414,0.04814140938277852,0.057957472760901955,0.062338665835153774,0.07032070859949939],\"yaxis\":\"y2\",\"type\":\"scattergl\"},{\"hovertemplate\":\"prompt=This is a sound of<br>CLAP_type=no_fusion_no_keyword_to_caption.pt<br>dataset=clotho<br>variable=Bleu_3<br>beta=%{x}<br>value=%{y}<extra></extra>\",\"legendgroup\":\"This is a sound of, no_fusion_no_keyword_to_caption.pt\",\"marker\":{\"color\":\"#636efa\",\"symbol\":\"circle\"},\"mode\":\"markers\",\"name\":\"This is a sound of, no_fusion_no_keyword_to_caption.pt\",\"showlegend\":false,\"x\":[0.5,0.15000000596046448,0.44999998807907104,0.4000000059604645,0.05000000074505806,0.30000001192092896,1.2000000476837158,0.20000000298023224,0.25,0.0,1.5499999523162842,0.8500000238418579,0.3499999940395355,0.10000000149011612,0.5,0.15000000596046448,0.44999998807907104,0.4000000059604645,0.05000000074505806,0.30000001192092896,1.2000000476837158,0.20000000298023224,0.25,0.0,1.5499999523162842,0.8500000238418579,0.3499999940395355,0.10000000149011612],\"xaxis\":\"x3\",\"y\":[0.01559955655084187,0.014973176967883127,0.013196748054386209,0.010795541914006704,0.01607956846749586,0.012786623235080783,0.011655240647704172,0.015394046801510694,0.013801534154169296,0.009529817054392632,0.012527703831341696,0.009613694852640608,0.013434531695220318,0.015761692495102737,0.02065885167144464,0.024557951329003694,0.022246302756903247,0.02068071686478631,0.015984193218747757,0.024005342213529443,0.010528695019901588,0.02423635656750736,0.026337781062858685,0.009529817054392632,0.01098298589979982,0.02038210861446507,0.021099839605043542,0.019654653469705595],\"yaxis\":\"y3\",\"type\":\"scattergl\"},{\"hovertemplate\":\"prompt=This is a sound of<br>CLAP_type=no_fusion_no_keyword_to_caption.pt<br>dataset=clotho<br>variable=Bleu_4<br>beta=%{x}<br>value=%{y}<extra></extra>\",\"legendgroup\":\"This is a sound of, no_fusion_no_keyword_to_caption.pt\",\"marker\":{\"color\":\"#636efa\",\"symbol\":\"circle\"},\"mode\":\"markers\",\"name\":\"This is a sound of, no_fusion_no_keyword_to_caption.pt\",\"showlegend\":false,\"x\":[0.5,0.15000000596046448,0.44999998807907104,0.4000000059604645,0.05000000074505806,0.30000001192092896,1.2000000476837158,0.20000000298023224,0.25,0.0,1.5499999523162842,0.8500000238418579,0.3499999940395355,0.10000000149011612,0.5,0.15000000596046448,0.44999998807907104,0.4000000059604645,0.05000000074505806,0.30000001192092896,1.2000000476837158,0.20000000298023224,0.25,0.0,1.5499999523162842,0.8500000238418579,0.3499999940395355,0.10000000149011612],\"xaxis\":\"x4\",\"y\":[0.006288272871470743,0.005416682160916221,0.005520706302494047,0.0036161108410236844,8.452342556403905e-07,0.004072477032569396,6.866054726383221e-07,0.005541127093116753,0.004294535807610963,4.457419147035081e-07,7.229822810483805e-07,5.95512478847852e-07,0.005588367218730928,0.004719851837524489,0.008764826970667718,0.010664796472587269,0.010067247099238114,0.008775655500426478,8.071872113069084e-07,0.010245112695333873,0.003502503302189658,0.010247132068093523,0.010445933170940416,4.457419147035081e-07,6.442542112809597e-07,0.009693849466257645,0.008378091652864622,0.0065880311614978735],\"yaxis\":\"y4\",\"type\":\"scattergl\"},{\"hovertemplate\":\"prompt=This is a sound of<br>CLAP_type=no_fusion_no_keyword_to_caption.pt<br>dataset=clotho<br>variable=METEOR<br>beta=%{x}<br>value=%{y}<extra></extra>\",\"legendgroup\":\"This is a sound of, no_fusion_no_keyword_to_caption.pt\",\"marker\":{\"color\":\"#636efa\",\"symbol\":\"circle\"},\"mode\":\"markers\",\"name\":\"This is a sound of, no_fusion_no_keyword_to_caption.pt\",\"showlegend\":false,\"x\":[0.5,0.15000000596046448,0.44999998807907104,0.4000000059604645,0.05000000074505806,0.30000001192092896,1.2000000476837158,0.20000000298023224,0.25,0.0,1.5499999523162842,0.8500000238418579,0.3499999940395355,0.10000000149011612,0.5,0.15000000596046448,0.44999998807907104,0.4000000059604645,0.05000000074505806,0.30000001192092896,1.2000000476837158,0.20000000298023224,0.25,0.0,1.5499999523162842,0.8500000238418579,0.3499999940395355,0.10000000149011612],\"xaxis\":\"x5\",\"y\":[0.045319847075678835,0.05173986915069957,0.043429977285797366,0.0447988923447993,0.06418429991732741,0.04678883272290609,0.044462368402018705,0.05044552154755332,0.04763322238078704,0.08385257111198818,0.045756090765680116,0.04471089660792031,0.045206986410986874,0.055927250970805475,0.05036693756895872,0.05916734126096172,0.051026861143031024,0.05311829825593085,0.06695959844799888,0.05363975075789766,0.04690521447156466,0.056550540523385824,0.05699012836079731,0.08385257111198818,0.04721946936748819,0.04992437275192173,0.05222424327933963,0.060040551635079924],\"yaxis\":\"y5\",\"type\":\"scattergl\"},{\"hovertemplate\":\"prompt=This is a sound of<br>CLAP_type=no_fusion_no_keyword_to_caption.pt<br>dataset=clotho<br>variable=ROUGE_L<br>beta=%{x}<br>value=%{y}<extra></extra>\",\"legendgroup\":\"This is a sound of, no_fusion_no_keyword_to_caption.pt\",\"marker\":{\"color\":\"#636efa\",\"symbol\":\"circle\"},\"mode\":\"markers\",\"name\":\"This is a sound of, no_fusion_no_keyword_to_caption.pt\",\"showlegend\":false,\"x\":[0.5,0.15000000596046448,0.44999998807907104,0.4000000059604645,0.05000000074505806,0.30000001192092896,1.2000000476837158,0.20000000298023224,0.25,0.0,1.5499999523162842,0.8500000238418579,0.3499999940395355,0.10000000149011612,0.5,0.15000000596046448,0.44999998807907104,0.4000000059604645,0.05000000074505806,0.30000001192092896,1.2000000476837158,0.20000000298023224,0.25,0.0,1.5499999523162842,0.8500000238418579,0.3499999940395355,0.10000000149011612],\"xaxis\":\"x6\",\"y\":[0.12533000500604918,0.1500038060020912,0.1229524195476058,0.12687256801681668,0.1769271774223434,0.13499104046841515,0.11374732777887803,0.14634828166983177,0.13777061228644946,0.18356525328978876,0.11530024628229604,0.11448765161350671,0.13280953838895496,0.16058289631091124,0.13987871809446845,0.1756594940464285,0.1412387233455264,0.14669444399478537,0.18334295047662524,0.1565720416660532,0.11667080279074407,0.16861463362812282,0.1641217089460135,0.18356525328978876,0.11879471311026177,0.12665092281498025,0.14745190356958626,0.17932176890852508],\"yaxis\":\"y6\",\"type\":\"scattergl\"},{\"hovertemplate\":\"prompt=This is a sound of<br>CLAP_type=no_fusion_no_keyword_to_caption.pt<br>dataset=clotho<br>variable=CIDEr<br>beta=%{x}<br>value=%{y}<extra></extra>\",\"legendgroup\":\"This is a sound of, no_fusion_no_keyword_to_caption.pt\",\"marker\":{\"color\":\"#636efa\",\"symbol\":\"circle\"},\"mode\":\"markers\",\"name\":\"This is a sound of, no_fusion_no_keyword_to_caption.pt\",\"showlegend\":false,\"x\":[0.5,0.15000000596046448,0.44999998807907104,0.4000000059604645,0.05000000074505806,0.30000001192092896,1.2000000476837158,0.20000000298023224,0.25,0.0,1.5499999523162842,0.8500000238418579,0.3499999940395355,0.10000000149011612,0.5,0.15000000596046448,0.44999998807907104,0.4000000059604645,0.05000000074505806,0.30000001192092896,1.2000000476837158,0.20000000298023224,0.25,0.0,1.5499999523162842,0.8500000238418579,0.3499999940395355,0.10000000149011612],\"xaxis\":\"x7\",\"y\":[0.023755072549070885,0.02592523818212088,0.018326797115462524,0.020563230287620693,0.026112428382070303,0.021697246073310757,0.021288649650062566,0.024091682697082988,0.02296558580218924,0.0026392629823887835,0.021342395749216963,0.021101970059964302,0.02052703969778522,0.02756777965635569,0.02610972018278645,0.03347750655970852,0.028884119329850556,0.031249863101894527,0.02825145625683641,0.03201430930983196,0.019025801111576455,0.03187913091886305,0.03282569129138056,0.0026392629823887835,0.018813643404793346,0.02563249161603754,0.030308401432549297,0.03276207057320502],\"yaxis\":\"y7\",\"type\":\"scattergl\"},{\"hovertemplate\":\"prompt=This is a sound of<br>CLAP_type=no_fusion_no_keyword_to_caption.pt<br>dataset=clotho<br>variable=SPICE<br>beta=%{x}<br>value=%{y}<extra></extra>\",\"legendgroup\":\"This is a sound of, no_fusion_no_keyword_to_caption.pt\",\"marker\":{\"color\":\"#636efa\",\"symbol\":\"circle\"},\"mode\":\"markers\",\"name\":\"This is a sound of, no_fusion_no_keyword_to_caption.pt\",\"showlegend\":false,\"x\":[0.5,0.15000000596046448,0.44999998807907104,0.4000000059604645,0.05000000074505806,0.30000001192092896,1.2000000476837158,0.20000000298023224,0.25,0.0,1.5499999523162842,0.8500000238418579,0.3499999940395355,0.10000000149011612,0.5,0.15000000596046448,0.44999998807907104,0.4000000059604645,0.05000000074505806,0.30000001192092896,1.2000000476837158,0.20000000298023224,0.25,0.0,1.5499999523162842,0.8500000238418579,0.3499999940395355,0.10000000149011612],\"xaxis\":\"x8\",\"y\":[0.019564048931511136,0.01745871987753254,0.016554916761859745,0.017850127438913316,0.018247933904110156,0.01731373344998104,0.02002591395367954,0.017405309013647455,0.016569649032419323,0.008800117433898573,0.019455537751096194,0.019020333699324,0.017601687821190138,0.01799694996240069,0.017360585545187022,0.023044423980732722,0.01825970183029389,0.019589960526699732,0.019633329185962545,0.02155357196735174,0.0163946077518169,0.022225793912723918,0.021093806299490918,0.008800117433898573,0.016569292123915294,0.0178517313299452,0.01880188074843301,0.020999906510798333],\"yaxis\":\"y8\",\"type\":\"scattergl\"},{\"hovertemplate\":\"prompt=The sound of<br>CLAP_type=no_fusion_no_keyword_to_caption.pt<br>dataset=audiocaps<br>variable=Bleu_1<br>beta=%{x}<br>value=%{y}<extra></extra>\",\"legendgroup\":\"The sound of, no_fusion_no_keyword_to_caption.pt\",\"marker\":{\"color\":\"#EF553B\",\"symbol\":\"circle\"},\"mode\":\"markers\",\"name\":\"The sound of, no_fusion_no_keyword_to_caption.pt\",\"showlegend\":true,\"x\":[0.10000000149011612,0.30000001192092896,1.2000000476837158,0.15000000596046448,0.4000000059604645,0.5,0.0,2.5999999046325684,2.25,2.950000047683716,0.25,3.6500000953674316,0.05000000074505806,1.899999976158142,0.3499999940395355,1.5499999523162842,0.8500000238418579,0.44999998807907104,3.299999952316284,0.20000000298023224],\"xaxis\":\"x9\",\"y\":[0.11137551083750911,0.11877210863959957,0.16811279826462905,0.10933203946303793,0.12839268527429398,0.1350037144593682,0.12041175673844777,0.15747915283003783,0.16141791044774914,0.15643404004710273,0.11400785048918424,0.14977329237968773,0.11863652105080301,0.1674252768927198,0.12165102256479632,0.17108099784415068,0.1557469112691759,0.13300492610836565,0.15218516601344728,0.11100375127883876],\"yaxis\":\"y9\",\"type\":\"scattergl\"},{\"hovertemplate\":\"prompt=The sound of<br>CLAP_type=no_fusion_no_keyword_to_caption.pt<br>dataset=audiocaps<br>variable=Bleu_2<br>beta=%{x}<br>value=%{y}<extra></extra>\",\"legendgroup\":\"The sound of, no_fusion_no_keyword_to_caption.pt\",\"marker\":{\"color\":\"#EF553B\",\"symbol\":\"circle\"},\"mode\":\"markers\",\"name\":\"The sound of, no_fusion_no_keyword_to_caption.pt\",\"showlegend\":false,\"x\":[0.10000000149011612,0.30000001192092896,1.2000000476837158,0.15000000596046448,0.4000000059604645,0.5,0.0,2.5999999046325684,2.25,2.950000047683716,0.25,3.6500000953674316,0.05000000074505806,1.899999976158142,0.3499999940395355,1.5499999523162842,0.8500000238418579,0.44999998807907104,3.299999952316284,0.20000000298023224],\"xaxis\":\"x10\",\"y\":[0.027309671417461396,0.03194133823054082,0.054105196542746724,0.026970135052668293,0.037482344034764165,0.039003570258330914,0.02064622205627405,0.047847440676315016,0.04926504078232642,0.04549639470045476,0.029023314778097983,0.04218089618834098,0.02841381066948372,0.05155770122835786,0.0342689640146147,0.051025102953669736,0.048349890074787745,0.038868801925394256,0.042915397102238795,0.02865247892542152],\"yaxis\":\"y10\",\"type\":\"scattergl\"},{\"hovertemplate\":\"prompt=The sound of<br>CLAP_type=no_fusion_no_keyword_to_caption.pt<br>dataset=audiocaps<br>variable=Bleu_3<br>beta=%{x}<br>value=%{y}<extra></extra>\",\"legendgroup\":\"The sound of, no_fusion_no_keyword_to_caption.pt\",\"marker\":{\"color\":\"#EF553B\",\"symbol\":\"circle\"},\"mode\":\"markers\",\"name\":\"The sound of, no_fusion_no_keyword_to_caption.pt\",\"showlegend\":false,\"x\":[0.10000000149011612,0.30000001192092896,1.2000000476837158,0.15000000596046448,0.4000000059604645,0.5,0.0,2.5999999046325684,2.25,2.950000047683716,0.25,3.6500000953674316,0.05000000074505806,1.899999976158142,0.3499999940395355,1.5499999523162842,0.8500000238418579,0.44999998807907104,3.299999952316284,0.20000000298023224],\"xaxis\":\"x11\",\"y\":[0.007782465469627365,0.009397072136249168,0.018781251897154905,0.008067631032619373,0.012275875970530196,0.012609577484618929,0.005284183395559547,0.014313249261138484,0.01613305514503653,0.012469341987016744,0.007940384576030995,0.011059409175669159,0.00809156601952151,0.015855009986211886,0.010753470734394727,0.016144478523107273,0.016232348273191796,0.012199995227824681,0.011235721508654753,0.008322130248760454],\"yaxis\":\"y11\",\"type\":\"scattergl\"},{\"hovertemplate\":\"prompt=The sound of<br>CLAP_type=no_fusion_no_keyword_to_caption.pt<br>dataset=audiocaps<br>variable=Bleu_4<br>beta=%{x}<br>value=%{y}<extra></extra>\",\"legendgroup\":\"The sound of, no_fusion_no_keyword_to_caption.pt\",\"marker\":{\"color\":\"#EF553B\",\"symbol\":\"circle\"},\"mode\":\"markers\",\"name\":\"The sound of, no_fusion_no_keyword_to_caption.pt\",\"showlegend\":false,\"x\":[0.10000000149011612,0.30000001192092896,1.2000000476837158,0.15000000596046448,0.4000000059604645,0.5,0.0,2.5999999046325684,2.25,2.950000047683716,0.25,3.6500000953674316,0.05000000074505806,1.899999976158142,0.3499999940395355,1.5499999523162842,0.8500000238418579,0.44999998807907104,3.299999952316284,0.20000000298023224],\"xaxis\":\"x12\",\"y\":[4.1134295390117365e-07,4.941757394400844e-07,0.005992609959571575,4.2752370462770615e-07,0.003463212391780472,0.003587065981102259,2.9584847899469787e-07,7.203056144843437e-07,0.00444575420560496,0.0036497020908448103,4.326061691510139e-07,0.0033283117096027503,4.181670980173306e-07,7.842339602036134e-07,5.525408571756485e-07,7.985340132178812e-07,0.004470529072133721,0.0034712145549081895,0.0033798959240947083,4.4421011820265934e-07],\"yaxis\":\"y12\",\"type\":\"scattergl\"},{\"hovertemplate\":\"prompt=The sound of<br>CLAP_type=no_fusion_no_keyword_to_caption.pt<br>dataset=audiocaps<br>variable=METEOR<br>beta=%{x}<br>value=%{y}<extra></extra>\",\"legendgroup\":\"The sound of, no_fusion_no_keyword_to_caption.pt\",\"marker\":{\"color\":\"#EF553B\",\"symbol\":\"circle\"},\"mode\":\"markers\",\"name\":\"The sound of, no_fusion_no_keyword_to_caption.pt\",\"showlegend\":false,\"x\":[0.10000000149011612,0.30000001192092896,1.2000000476837158,0.15000000596046448,0.4000000059604645,0.5,0.0,2.5999999046325684,2.25,2.950000047683716,0.25,3.6500000953674316,0.05000000074505806,1.899999976158142,0.3499999940395355,1.5499999523162842,0.8500000238418579,0.44999998807907104,3.299999952316284,0.20000000298023224],\"xaxis\":\"x13\",\"y\":[0.05896484252714755,0.05870708148871736,0.06789425337067209,0.057475958203315705,0.06050675641575187,0.061885872212594846,0.050569545886724784,0.06461278798995113,0.06496013023011339,0.06399271558031609,0.056840752921136065,0.06406891571964111,0.06101750887780924,0.06832524715352849,0.059813742464278195,0.06888618202405002,0.06639633275416311,0.06189613289188535,0.06391146745103961,0.05657268824794361],\"yaxis\":\"y13\",\"type\":\"scattergl\"},{\"hovertemplate\":\"prompt=The sound of<br>CLAP_type=no_fusion_no_keyword_to_caption.pt<br>dataset=audiocaps<br>variable=ROUGE_L<br>beta=%{x}<br>value=%{y}<extra></extra>\",\"legendgroup\":\"The sound of, no_fusion_no_keyword_to_caption.pt\",\"marker\":{\"color\":\"#EF553B\",\"symbol\":\"circle\"},\"mode\":\"markers\",\"name\":\"The sound of, no_fusion_no_keyword_to_caption.pt\",\"showlegend\":false,\"x\":[0.10000000149011612,0.30000001192092896,1.2000000476837158,0.15000000596046448,0.4000000059604645,0.5,0.0,2.5999999046325684,2.25,2.950000047683716,0.25,3.6500000953674316,0.05000000074505806,1.899999976158142,0.3499999940395355,1.5499999523162842,0.8500000238418579,0.44999998807907104,3.299999952316284,0.20000000298023224],\"xaxis\":\"x14\",\"y\":[0.12024281618976702,0.11927669984283508,0.13471738870270844,0.11713106702026671,0.12224941408931579,0.12381489233162063,0.13172554757376584,0.12982177786140886,0.13167507963113,0.12784114902421612,0.1165128577063397,0.12479894260859306,0.12841608003539223,0.13506836812847975,0.12033744878031805,0.13910648452354504,0.1317029203084051,0.12315350776077898,0.12608121800219355,0.11670096617721601],\"yaxis\":\"y14\",\"type\":\"scattergl\"},{\"hovertemplate\":\"prompt=The sound of<br>CLAP_type=no_fusion_no_keyword_to_caption.pt<br>dataset=audiocaps<br>variable=CIDEr<br>beta=%{x}<br>value=%{y}<extra></extra>\",\"legendgroup\":\"The sound of, no_fusion_no_keyword_to_caption.pt\",\"marker\":{\"color\":\"#EF553B\",\"symbol\":\"circle\"},\"mode\":\"markers\",\"name\":\"The sound of, no_fusion_no_keyword_to_caption.pt\",\"showlegend\":false,\"x\":[0.10000000149011612,0.30000001192092896,1.2000000476837158,0.15000000596046448,0.4000000059604645,0.5,0.0,2.5999999046325684,2.25,2.950000047683716,0.25,3.6500000953674316,0.05000000074505806,1.899999976158142,0.3499999940395355,1.5499999523162842,0.8500000238418579,0.44999998807907104,3.299999952316284,0.20000000298023224],\"xaxis\":\"x15\",\"y\":[0.021085280689461278,0.03202109696030559,0.04449986121520476,0.023010349680399958,0.03777013729320829,0.04008264952605391,0.005025427253811238,0.04129156911002048,0.04270690124931731,0.04063843416354703,0.02813038125612389,0.038711155579922316,0.017389005184571014,0.04635133357349003,0.03529417642009393,0.050547562921631116,0.04732151590252922,0.038778526317048034,0.04095671460254273,0.02772335027115823],\"yaxis\":\"y15\",\"type\":\"scattergl\"},{\"hovertemplate\":\"prompt=The sound of<br>CLAP_type=no_fusion_no_keyword_to_caption.pt<br>dataset=audiocaps<br>variable=SPICE<br>beta=%{x}<br>value=%{y}<extra></extra>\",\"legendgroup\":\"The sound of, no_fusion_no_keyword_to_caption.pt\",\"marker\":{\"color\":\"#EF553B\",\"symbol\":\"circle\"},\"mode\":\"markers\",\"name\":\"The sound of, no_fusion_no_keyword_to_caption.pt\",\"showlegend\":false,\"x\":[0.10000000149011612,0.30000001192092896,1.2000000476837158,0.15000000596046448,0.4000000059604645,0.5,0.0,2.5999999046325684,2.25,2.950000047683716,0.25,3.6500000953674316,0.05000000074505806,1.899999976158142,0.3499999940395355,1.5499999523162842,0.8500000238418579,0.44999998807907104,3.299999952316284,0.20000000298023224],\"xaxis\":\"x16\",\"y\":[0.049252608613102884,0.051676173604090554,0.045770223108617156,0.049489511036189406,0.051822859700752816,0.05355209326552669,0.03574165405678197,0.038744713889820606,0.039008728695673824,0.0378079466958206,0.051188380336915425,0.03741437167025824,0.050359149898284904,0.0432754784564231,0.05248037633543321,0.04450946627927526,0.04967484127641814,0.0539169678752127,0.037600954788347705,0.0506913059628841],\"yaxis\":\"y16\",\"type\":\"scattergl\"},{\"hovertemplate\":\"prompt=The sound of<br>CLAP_type=no_fusion_no_keyword_to_caption.pt<br>dataset=clotho<br>variable=Bleu_1<br>beta=%{x}<br>value=%{y}<extra></extra>\",\"legendgroup\":\"The sound of, no_fusion_no_keyword_to_caption.pt\",\"marker\":{\"color\":\"#EF553B\",\"symbol\":\"circle\"},\"mode\":\"markers\",\"name\":\"The sound of, no_fusion_no_keyword_to_caption.pt\",\"showlegend\":false,\"x\":[0.10000000149011612,0.30000001192092896,1.2000000476837158,0.15000000596046448,0.4000000059604645,0.5,0.0,0.25,0.05000000074505806,0.3499999940395355,1.5499999523162842,0.8500000238418579,0.44999998807907104,0.20000000298023224,0.10000000149011612,0.30000001192092896,1.2000000476837158,0.15000000596046448,0.4000000059604645,0.5,0.0,0.25,0.05000000074505806,0.3499999940395355,1.5499999523162842,0.8500000238418579,0.44999998807907104,0.20000000298023224],\"xaxis\":\"x\",\"y\":[0.148288770053468,0.1666232921275103,0.22007343941246674,0.1514784713816271,0.17292006525284254,0.18344131384660362,0.15304847576211256,0.1581224173553617,0.14946457051719528,0.16967089990439918,0.2164784475902484,0.20820545953802228,0.18161367726453348,0.15603532875367052,0.17632925937531724,0.17007924267403232,0.2079593245872696,0.1697096521056673,0.1793166828846265,0.1857111404667445,0.15304847576211256,0.16553631051752057,0.1786552188888245,0.1747915330339868,0.212065932634034,0.19830028328610727,0.18455175497427986,0.1649260676248493],\"yaxis\":\"y\",\"type\":\"scattergl\"},{\"hovertemplate\":\"prompt=The sound of<br>CLAP_type=no_fusion_no_keyword_to_caption.pt<br>dataset=clotho<br>variable=Bleu_2<br>beta=%{x}<br>value=%{y}<extra></extra>\",\"legendgroup\":\"The sound of, no_fusion_no_keyword_to_caption.pt\",\"marker\":{\"color\":\"#EF553B\",\"symbol\":\"circle\"},\"mode\":\"markers\",\"name\":\"The sound of, no_fusion_no_keyword_to_caption.pt\",\"showlegend\":false,\"x\":[0.10000000149011612,0.30000001192092896,1.2000000476837158,0.15000000596046448,0.4000000059604645,0.5,0.0,0.25,0.05000000074505806,0.3499999940395355,1.5499999523162842,0.8500000238418579,0.44999998807907104,0.20000000298023224,0.10000000149011612,0.30000001192092896,1.2000000476837158,0.15000000596046448,0.4000000059604645,0.5,0.0,0.25,0.05000000074505806,0.3499999940395355,1.5499999523162842,0.8500000238418579,0.44999998807907104,0.20000000298023224],\"xaxis\":\"x2\",\"y\":[0.03665793212658823,0.04485681498062949,0.06733914983934688,0.03733023164759481,0.0442756672610027,0.051086949599713154,0.037850545645733584,0.03786941798756854,0.03856712488304231,0.044953116278800026,0.06382966214787228,0.061205847244923,0.04800929177514632,0.03863764351761961,0.05459584909006961,0.05206065415514781,0.06441156178428079,0.05299047015724213,0.05715792080653667,0.059185814699880275,0.037850545645733584,0.05038972716788254,0.05417938905130855,0.05366142016045781,0.06887577704031445,0.06167554911496643,0.059757677868188815,0.051214075209393584],\"yaxis\":\"y2\",\"type\":\"scattergl\"},{\"hovertemplate\":\"prompt=The sound of<br>CLAP_type=no_fusion_no_keyword_to_caption.pt<br>dataset=clotho<br>variable=Bleu_3<br>beta=%{x}<br>value=%{y}<extra></extra>\",\"legendgroup\":\"The sound of, no_fusion_no_keyword_to_caption.pt\",\"marker\":{\"color\":\"#EF553B\",\"symbol\":\"circle\"},\"mode\":\"markers\",\"name\":\"The sound of, no_fusion_no_keyword_to_caption.pt\",\"showlegend\":false,\"x\":[0.10000000149011612,0.30000001192092896,1.2000000476837158,0.15000000596046448,0.4000000059604645,0.5,0.0,0.25,0.05000000074505806,0.3499999940395355,1.5499999523162842,0.8500000238418579,0.44999998807907104,0.20000000298023224,0.10000000149011612,0.30000001192092896,1.2000000476837158,0.15000000596046448,0.4000000059604645,0.5,0.0,0.25,0.05000000074505806,0.3499999940395355,1.5499999523162842,0.8500000238418579,0.44999998807907104,0.20000000298023224],\"xaxis\":\"x3\",\"y\":[0.009901441282990446,0.010661465204941392,0.020012929854757357,0.009366851368001203,0.010453432782096797,0.014473639004193479,0.011286234221163503,0.008118593979070849,0.011047511589739736,0.009883112509952496,0.019794562019736544,0.017202176049657403,0.012261806590271953,0.008572977804866995,0.0182874461878467,0.016752089345006584,0.019014664910015622,0.01843657886122979,0.018534691994204006,0.01967765868099309,0.011286234221163503,0.016275389160940196,0.018223934931705228,0.017125562642766382,0.018582219192616524,0.015993143204221703,0.01912864266717531,0.016583265107409314],\"yaxis\":\"y3\",\"type\":\"scattergl\"},{\"hovertemplate\":\"prompt=The sound of<br>CLAP_type=no_fusion_no_keyword_to_caption.pt<br>dataset=clotho<br>variable=Bleu_4<br>beta=%{x}<br>value=%{y}<extra></extra>\",\"legendgroup\":\"The sound of, no_fusion_no_keyword_to_caption.pt\",\"marker\":{\"color\":\"#EF553B\",\"symbol\":\"circle\"},\"mode\":\"markers\",\"name\":\"The sound of, no_fusion_no_keyword_to_caption.pt\",\"showlegend\":false,\"x\":[0.10000000149011612,0.30000001192092896,1.2000000476837158,0.15000000596046448,0.4000000059604645,0.5,0.0,0.25,0.05000000074505806,0.3499999940395355,1.5499999523162842,0.8500000238418579,0.44999998807907104,0.20000000298023224,0.10000000149011612,0.30000001192092896,1.2000000476837158,0.15000000596046448,0.4000000059604645,0.5,0.0,0.25,0.05000000074505806,0.3499999940395355,1.5499999523162842,0.8500000238418579,0.44999998807907104,0.20000000298023224],\"xaxis\":\"x4\",\"y\":[0.002809203355125119,5.601079030326242e-07,0.005419893641679863,0.0027557607207720543,5.666938003390533e-07,7.370166148181183e-07,0.0028805748896274545,4.5547719070900646e-07,0.002909603667787865,5.369388757647623e-07,0.007015791897233156,0.005735644874264307,6.499504604925168e-07,0.0026269427440643012,0.005816681393473589,0.0041567344286674145,0.0063208107780629115,0.005289234163656919,0.005358057634608968,0.007085500461135512,0.0028805748896274545,0.004045784792613736,0.005725109932230589,0.004232781651095952,0.004773684462896452,7.362890822525712e-07,0.005540917580276283,0.004867321225563162],\"yaxis\":\"y4\",\"type\":\"scattergl\"},{\"hovertemplate\":\"prompt=The sound of<br>CLAP_type=no_fusion_no_keyword_to_caption.pt<br>dataset=clotho<br>variable=METEOR<br>beta=%{x}<br>value=%{y}<extra></extra>\",\"legendgroup\":\"The sound of, no_fusion_no_keyword_to_caption.pt\",\"marker\":{\"color\":\"#EF553B\",\"symbol\":\"circle\"},\"mode\":\"markers\",\"name\":\"The sound of, no_fusion_no_keyword_to_caption.pt\",\"showlegend\":false,\"x\":[0.10000000149011612,0.30000001192092896,1.2000000476837158,0.15000000596046448,0.4000000059604645,0.5,0.0,0.25,0.05000000074505806,0.3499999940395355,1.5499999523162842,0.8500000238418579,0.44999998807907104,0.20000000298023224,0.10000000149011612,0.30000001192092896,1.2000000476837158,0.15000000596046448,0.4000000059604645,0.5,0.0,0.25,0.05000000074505806,0.3499999940395355,1.5499999523162842,0.8500000238418579,0.44999998807907104,0.20000000298023224],\"xaxis\":\"x5\",\"y\":[0.0569731949775403,0.05989516136283669,0.06146137187460135,0.05822557915791514,0.05760585988488872,0.05700202006404178,0.05710232904507437,0.056484870581227184,0.05643596465288437,0.05809652501364044,0.06229914702133817,0.05905194824123357,0.057441745460003794,0.057705025616031434,0.07199547163603615,0.06909986515425597,0.07548865726360535,0.07089030266124759,0.07094176067047252,0.07303463586881674,0.05710232904507437,0.06947039582417334,0.07166947938518373,0.07144097475042069,0.07550763156014065,0.07391313155422473,0.07178006573006326,0.0695495787873597],\"yaxis\":\"y5\",\"type\":\"scattergl\"},{\"hovertemplate\":\"prompt=The sound of<br>CLAP_type=no_fusion_no_keyword_to_caption.pt<br>dataset=clotho<br>variable=ROUGE_L<br>beta=%{x}<br>value=%{y}<extra></extra>\",\"legendgroup\":\"The sound of, no_fusion_no_keyword_to_caption.pt\",\"marker\":{\"color\":\"#EF553B\",\"symbol\":\"circle\"},\"mode\":\"markers\",\"name\":\"The sound of, no_fusion_no_keyword_to_caption.pt\",\"showlegend\":false,\"x\":[0.10000000149011612,0.30000001192092896,1.2000000476837158,0.15000000596046448,0.4000000059604645,0.5,0.0,0.25,0.05000000074505806,0.3499999940395355,1.5499999523162842,0.8500000238418579,0.44999998807907104,0.20000000298023224,0.10000000149011612,0.30000001192092896,1.2000000476837158,0.15000000596046448,0.4000000059604645,0.5,0.0,0.25,0.05000000074505806,0.3499999940395355,1.5499999523162842,0.8500000238418579,0.44999998807907104,0.20000000298023224],\"xaxis\":\"x6\",\"y\":[0.13595072427058394,0.14129670744134026,0.15554430427049487,0.13465596639042965,0.14327551211357292,0.14626212678840492,0.15446851601638284,0.13648807822160144,0.14557059448390247,0.14281241066630737,0.1511355280949369,0.1528157603346717,0.14487395200278777,0.1358429924533426,0.1621561808677761,0.15401838858169897,0.1587815642416058,0.15732193766879154,0.15775663739861784,0.1585059535952644,0.15446851601638284,0.15277973970608916,0.16774810513742958,0.15605226198878305,0.15752700475162132,0.15978895569257426,0.15904200928082096,0.15504902099813364],\"yaxis\":\"y6\",\"type\":\"scattergl\"},{\"hovertemplate\":\"prompt=The sound of<br>CLAP_type=no_fusion_no_keyword_to_caption.pt<br>dataset=clotho<br>variable=CIDEr<br>beta=%{x}<br>value=%{y}<extra></extra>\",\"legendgroup\":\"The sound of, no_fusion_no_keyword_to_caption.pt\",\"marker\":{\"color\":\"#EF553B\",\"symbol\":\"circle\"},\"mode\":\"markers\",\"name\":\"The sound of, no_fusion_no_keyword_to_caption.pt\",\"showlegend\":false,\"x\":[0.10000000149011612,0.30000001192092896,1.2000000476837158,0.15000000596046448,0.4000000059604645,0.5,0.0,0.25,0.05000000074505806,0.3499999940395355,1.5499999523162842,0.8500000238418579,0.44999998807907104,0.20000000298023224,0.10000000149011612,0.30000001192092896,1.2000000476837158,0.15000000596046448,0.4000000059604645,0.5,0.0,0.25,0.05000000074505806,0.3499999940395355,1.5499999523162842,0.8500000238418579,0.44999998807907104,0.20000000298023224],\"xaxis\":\"x7\",\"y\":[0.014532307207691806,0.022674335271899538,0.029021338003747694,0.018085651937286673,0.023176199859133113,0.02401899889443898,0.004169733734205076,0.020651116188096213,0.008651518433255588,0.022852124740860107,0.025748042136430112,0.025841685962638593,0.022588595144601913,0.01951474828393067,0.03486305607248536,0.03081584005365898,0.034515587020349035,0.03249252927266865,0.02995111161527006,0.033538946917815435,0.004169733734205076,0.03074018704865136,0.032796930970503686,0.03342107505842878,0.03481857605233967,0.032093174600468996,0.036806190906592665,0.031066436525681307],\"yaxis\":\"y7\",\"type\":\"scattergl\"},{\"hovertemplate\":\"prompt=The sound of<br>CLAP_type=no_fusion_no_keyword_to_caption.pt<br>dataset=clotho<br>variable=SPICE<br>beta=%{x}<br>value=%{y}<extra></extra>\",\"legendgroup\":\"The sound of, no_fusion_no_keyword_to_caption.pt\",\"marker\":{\"color\":\"#EF553B\",\"symbol\":\"circle\"},\"mode\":\"markers\",\"name\":\"The sound of, no_fusion_no_keyword_to_caption.pt\",\"showlegend\":false,\"x\":[0.10000000149011612,0.30000001192092896,1.2000000476837158,0.15000000596046448,0.4000000059604645,0.5,0.0,0.25,0.05000000074505806,0.3499999940395355,1.5499999523162842,0.8500000238418579,0.44999998807907104,0.20000000298023224,0.10000000149011612,0.30000001192092896,1.2000000476837158,0.15000000596046448,0.4000000059604645,0.5,0.0,0.25,0.05000000074505806,0.3499999940395355,1.5499999523162842,0.8500000238418579,0.44999998807907104,0.20000000298023224],\"xaxis\":\"x8\",\"y\":[0.028165621377041337,0.03272037745722703,0.0326971196812049,0.02837246336477959,0.02870994036544304,0.03012069636629202,0.03287922784517167,0.028512176939929985,0.029509494386775584,0.030107264155037464,0.03176475226032655,0.03051533187764909,0.027819709615664955,0.029657881216982592,0.04521604753160838,0.04923485289063866,0.042167024590587916,0.04607342837053309,0.0493324935534292,0.048112244614923444,0.03287922784517167,0.046514112539907296,0.04435454070120486,0.04808350726880439,0.04253062812161123,0.04682835235980172,0.04967064604276671,0.047253381977141816],\"yaxis\":\"y8\",\"type\":\"scattergl\"},{\"hovertemplate\":\"prompt=This is the sound of<br>CLAP_type=no_fusion_no_keyword_to_caption.pt<br>dataset=audiocaps<br>variable=Bleu_1<br>beta=%{x}<br>value=%{y}<extra></extra>\",\"legendgroup\":\"This is the sound of, no_fusion_no_keyword_to_caption.pt\",\"marker\":{\"color\":\"#00cc96\",\"symbol\":\"circle\"},\"mode\":\"markers\",\"name\":\"This is the sound of, no_fusion_no_keyword_to_caption.pt\",\"showlegend\":true,\"x\":[2.950000047683716,0.44999998807907104,0.30000001192092896,0.3499999940395355,1.5499999523162842,3.299999952316284,0.05000000074505806,0.8500000238418579,1.899999976158142,0.5,0.0,0.4000000059604645,0.20000000298023224,2.25,2.5999999046325684,1.2000000476837158,0.10000000149011612,0.25,0.15000000596046448],\"xaxis\":\"x9\",\"y\":[0.1515549779983928,0.25757207659843706,0.27500265003864977,0.2687611847551048,0.16427202979400163,0.14837595946230153,0.3435272238867296,0.21711105012720433,0.15578531491478376,0.25009165531573274,0.33843890619588624,0.26639992060905227,0.2942138594760811,0.15440739421319155,0.1532315449926365,0.18515939232474335,0.321131439273054,0.28606033364951206,0.3032219036581649],\"yaxis\":\"y9\",\"type\":\"scattergl\"},{\"hovertemplate\":\"prompt=This is the sound of<br>CLAP_type=no_fusion_no_keyword_to_caption.pt<br>dataset=audiocaps<br>variable=Bleu_2<br>beta=%{x}<br>value=%{y}<extra></extra>\",\"legendgroup\":\"This is the sound of, no_fusion_no_keyword_to_caption.pt\",\"marker\":{\"color\":\"#00cc96\",\"symbol\":\"circle\"},\"mode\":\"markers\",\"name\":\"This is the sound of, no_fusion_no_keyword_to_caption.pt\",\"showlegend\":false,\"x\":[2.950000047683716,0.44999998807907104,0.30000001192092896,0.3499999940395355,1.5499999523162842,3.299999952316284,0.05000000074505806,0.8500000238418579,1.899999976158142,0.5,0.0,0.4000000059604645,0.20000000298023224,2.25,2.5999999046325684,1.2000000476837158,0.10000000149011612,0.25,0.15000000596046448],\"xaxis\":\"x10\",\"y\":[0.04115379315241906,0.11210626135537999,0.12604638392014564,0.12189621442416702,0.05238729337700286,0.04145605165486508,0.14669600624129803,0.08088922352839041,0.04840574207240711,0.10474124334402023,0.12764850809170808,0.11758007258085809,0.13741850171581418,0.04816616883904849,0.044621980867169855,0.06742609589867327,0.1500570945479043,0.132751688639599,0.14206341229758943],\"yaxis\":\"y10\",\"type\":\"scattergl\"},{\"hovertemplate\":\"prompt=This is the sound of<br>CLAP_type=no_fusion_no_keyword_to_caption.pt<br>dataset=audiocaps<br>variable=Bleu_3<br>beta=%{x}<br>value=%{y}<extra></extra>\",\"legendgroup\":\"This is the sound of, no_fusion_no_keyword_to_caption.pt\",\"marker\":{\"color\":\"#00cc96\",\"symbol\":\"circle\"},\"mode\":\"markers\",\"name\":\"This is the sound of, no_fusion_no_keyword_to_caption.pt\",\"showlegend\":false,\"x\":[2.950000047683716,0.44999998807907104,0.30000001192092896,0.3499999940395355,1.5499999523162842,3.299999952316284,0.05000000074505806,0.8500000238418579,1.899999976158142,0.5,0.0,0.4000000059604645,0.20000000298023224,2.25,2.5999999046325684,1.2000000476837158,0.10000000149011612,0.25,0.15000000596046448],\"xaxis\":\"x11\",\"y\":[0.007943069781782495,0.04762633888120212,0.05472033943176099,0.053931079919476224,0.014177652274245769,0.0062790290585703614,0.046829857939946866,0.028735093432644104,0.014562267187577867,0.04214631446587361,0.017186026801245525,0.050567485958796544,0.06153853964745904,0.014851306975146824,0.010642556890572705,0.02300351784173714,0.06129761536022559,0.058394000299795835,0.06143986659741586],\"yaxis\":\"y11\",\"type\":\"scattergl\"},{\"hovertemplate\":\"prompt=This is the sound of<br>CLAP_type=no_fusion_no_keyword_to_caption.pt<br>dataset=audiocaps<br>variable=Bleu_4<br>beta=%{x}<br>value=%{y}<extra></extra>\",\"legendgroup\":\"This is the sound of, no_fusion_no_keyword_to_caption.pt\",\"marker\":{\"color\":\"#00cc96\",\"symbol\":\"circle\"},\"mode\":\"markers\",\"name\":\"This is the sound of, no_fusion_no_keyword_to_caption.pt\",\"showlegend\":false,\"x\":[2.950000047683716,0.44999998807907104,0.30000001192092896,0.3499999940395355,1.5499999523162842,3.299999952316284,0.05000000074505806,0.8500000238418579,1.899999976158142,0.5,0.0,0.4000000059604645,0.20000000298023224,2.25,2.5999999046325684,1.2000000476837158,0.10000000149011612,0.25,0.15000000596046448],\"xaxis\":\"x12\",\"y\":[5.378847766509153e-07,0.014797092817381004,0.02073310173914024,0.019411783766648785,8.701247059622926e-07,4.4726925234556985e-07,0.011073146835538806,0.00842848365991993,8.752196354141903e-07,0.01139711154649956,8.748113608163958e-07,0.015493661923358165,0.0243424260047287,0.004922135336873507,6.74502345915934e-07,0.007100701427304387,0.02256004774599354,0.02284811923891004,0.02495357600297709],\"yaxis\":\"y12\",\"type\":\"scattergl\"},{\"hovertemplate\":\"prompt=This is the sound of<br>CLAP_type=no_fusion_no_keyword_to_caption.pt<br>dataset=audiocaps<br>variable=METEOR<br>beta=%{x}<br>value=%{y}<extra></extra>\",\"legendgroup\":\"This is the sound of, no_fusion_no_keyword_to_caption.pt\",\"marker\":{\"color\":\"#00cc96\",\"symbol\":\"circle\"},\"mode\":\"markers\",\"name\":\"This is the sound of, no_fusion_no_keyword_to_caption.pt\",\"showlegend\":false,\"x\":[2.950000047683716,0.44999998807907104,0.30000001192092896,0.3499999940395355,1.5499999523162842,3.299999952316284,0.05000000074505806,0.8500000238418579,1.899999976158142,0.5,0.0,0.4000000059604645,0.20000000298023224,2.25,2.5999999046325684,1.2000000476837158,0.10000000149011612,0.25,0.15000000596046448],\"xaxis\":\"x13\",\"y\":[0.046019958087248486,0.06706112002436018,0.0723168229162812,0.0711381209644343,0.04574028863206174,0.04607671604700654,0.0869582443447927,0.05702940292262855,0.04552487222729926,0.06538073258876033,0.08165018089347771,0.06988241234068156,0.07580967620886299,0.045631344256285934,0.046585578855174635,0.05021779110712257,0.08125351341656367,0.07436551138754617,0.07732676998579718],\"yaxis\":\"y13\",\"type\":\"scattergl\"},{\"hovertemplate\":\"prompt=This is the sound of<br>CLAP_type=no_fusion_no_keyword_to_caption.pt<br>dataset=audiocaps<br>variable=ROUGE_L<br>beta=%{x}<br>value=%{y}<extra></extra>\",\"legendgroup\":\"This is the sound of, no_fusion_no_keyword_to_caption.pt\",\"marker\":{\"color\":\"#00cc96\",\"symbol\":\"circle\"},\"mode\":\"markers\",\"name\":\"This is the sound of, no_fusion_no_keyword_to_caption.pt\",\"showlegend\":false,\"x\":[2.950000047683716,0.44999998807907104,0.30000001192092896,0.3499999940395355,1.5499999523162842,3.299999952316284,0.05000000074505806,0.8500000238418579,1.899999976158142,0.5,0.0,0.4000000059604645,0.20000000298023224,2.25,2.5999999046325684,1.2000000476837158,0.10000000149011612,0.25,0.15000000596046448],\"xaxis\":\"x14\",\"y\":[0.10838040706531984,0.21478566229574994,0.2311087713883014,0.22554937685924178,0.1225466428303613,0.10694718539542272,0.2698350411006812,0.16893155900218018,0.11487506906804804,0.20690418340906372,0.2670464371215923,0.22167304017256323,0.24728803451449816,0.11379974373007826,0.11199250294461337,0.1416418232920284,0.25724386609147415,0.2388309000801584,0.24984974593577708],\"yaxis\":\"y14\",\"type\":\"scattergl\"},{\"hovertemplate\":\"prompt=This is the sound of<br>CLAP_type=no_fusion_no_keyword_to_caption.pt<br>dataset=audiocaps<br>variable=CIDEr<br>beta=%{x}<br>value=%{y}<extra></extra>\",\"legendgroup\":\"This is the sound of, no_fusion_no_keyword_to_caption.pt\",\"marker\":{\"color\":\"#00cc96\",\"symbol\":\"circle\"},\"mode\":\"markers\",\"name\":\"This is the sound of, no_fusion_no_keyword_to_caption.pt\",\"showlegend\":false,\"x\":[2.950000047683716,0.44999998807907104,0.30000001192092896,0.3499999940395355,1.5499999523162842,3.299999952316284,0.05000000074505806,0.8500000238418579,1.899999976158142,0.5,0.0,0.4000000059604645,0.20000000298023224,2.25,2.5999999046325684,1.2000000476837158,0.10000000149011612,0.25,0.15000000596046448],\"xaxis\":\"x15\",\"y\":[0.04518035889204035,0.11277782748297854,0.11647379396335615,0.11574484445980286,0.0561757594315415,0.04321505852902865,0.08723564101747398,0.0895746103257784,0.05128208477585824,0.11222111452297397,0.014919453075632978,0.11529076106144268,0.11753475422500742,0.051335290995516696,0.04991831471254948,0.0719934201610096,0.10487621671117975,0.11677630262187821,0.10714553709821392],\"yaxis\":\"y15\",\"type\":\"scattergl\"},{\"hovertemplate\":\"prompt=This is the sound of<br>CLAP_type=no_fusion_no_keyword_to_caption.pt<br>dataset=audiocaps<br>variable=SPICE<br>beta=%{x}<br>value=%{y}<extra></extra>\",\"legendgroup\":\"This is the sound of, no_fusion_no_keyword_to_caption.pt\",\"marker\":{\"color\":\"#00cc96\",\"symbol\":\"circle\"},\"mode\":\"markers\",\"name\":\"This is the sound of, no_fusion_no_keyword_to_caption.pt\",\"showlegend\":false,\"x\":[2.950000047683716,0.44999998807907104,0.30000001192092896,0.3499999940395355,1.5499999523162842,3.299999952316284,0.05000000074505806,0.8500000238418579,1.899999976158142,0.5,0.0,0.4000000059604645,0.20000000298023224,2.25,2.5999999046325684,1.2000000476837158,0.10000000149011612,0.25,0.15000000596046448],\"xaxis\":\"x16\",\"y\":[0.02844244528657774,0.045828620850788516,0.04556820039292977,0.045770688606396964,0.030690482567592832,0.02702058684983693,0.053445790724287325,0.04212715637193999,0.029240865495865572,0.044908720295209,0.04264779175897098,0.046506942514251484,0.04751051699536134,0.028316143103536032,0.028260884547644475,0.03497510727947188,0.049928806040617814,0.04670876272240941,0.04769730063881312],\"yaxis\":\"y16\",\"type\":\"scattergl\"},{\"hovertemplate\":\"prompt=This is the sound of<br>CLAP_type=no_fusion_no_keyword_to_caption.pt<br>dataset=clotho<br>variable=Bleu_1<br>beta=%{x}<br>value=%{y}<extra></extra>\",\"legendgroup\":\"This is the sound of, no_fusion_no_keyword_to_caption.pt\",\"marker\":{\"color\":\"#00cc96\",\"symbol\":\"circle\"},\"mode\":\"markers\",\"name\":\"This is the sound of, no_fusion_no_keyword_to_caption.pt\",\"showlegend\":false,\"x\":[0.44999998807907104,0.30000001192092896,0.3499999940395355,1.5499999523162842,0.05000000074505806,0.8500000238418579,0.5,0.0,0.4000000059604645,0.20000000298023224,1.2000000476837158,0.10000000149011612,0.25,0.15000000596046448,0.44999998807907104,0.30000001192092896,0.3499999940395355,0.05000000074505806,0.8500000238418579,0.5,0.0,0.4000000059604645,0.20000000298023224,1.2000000476837158,0.10000000149011612,0.25,0.15000000596046448],\"xaxis\":\"x\",\"y\":[0.26218542913355825,0.26111893544387976,0.26630716790357517,0.2186628171803739,0.3255299071394663,0.24101597096302052,0.25770441326041377,0.3380427841634468,0.26099578364038617,0.2619025201458228,0.22785429049005348,0.2868088321567953,0.2635915833554589,0.26672085713504723,0.24011777857120933,0.24835350435478507,0.2500678945593002,0.32111435849353726,0.20861798243936325,0.23253638266873622,0.3380427841634468,0.24058542663603846,0.24776696896238226,0.20975742597958616,0.2807720402506106,0.24263351490636317,0.25370523162729225],\"yaxis\":\"y\",\"type\":\"scattergl\"},{\"hovertemplate\":\"prompt=This is the sound of<br>CLAP_type=no_fusion_no_keyword_to_caption.pt<br>dataset=clotho<br>variable=Bleu_2<br>beta=%{x}<br>value=%{y}<extra></extra>\",\"legendgroup\":\"This is the sound of, no_fusion_no_keyword_to_caption.pt\",\"marker\":{\"color\":\"#00cc96\",\"symbol\":\"circle\"},\"mode\":\"markers\",\"name\":\"This is the sound of, no_fusion_no_keyword_to_caption.pt\",\"showlegend\":false,\"x\":[0.44999998807907104,0.30000001192092896,0.3499999940395355,1.5499999523162842,0.05000000074505806,0.8500000238418579,0.5,0.0,0.4000000059604645,0.20000000298023224,1.2000000476837158,0.10000000149011612,0.25,0.15000000596046448,0.44999998807907104,0.30000001192092896,0.3499999940395355,0.05000000074505806,0.8500000238418579,0.5,0.0,0.4000000059604645,0.20000000298023224,1.2000000476837158,0.10000000149011612,0.25,0.15000000596046448],\"xaxis\":\"x2\",\"y\":[0.10061301913282646,0.1040981175753898,0.10163007120640412,0.07654036764713136,0.11591291827608675,0.0880802162135512,0.09632783263045147,0.10018816735730647,0.0997103690051076,0.10114964110023547,0.08651341618054564,0.11107520731276242,0.1049805786534445,0.10606973967877316,0.08758781449710672,0.09695137737854617,0.09596199626771365,0.12376241352139028,0.06812770544649396,0.08249840714865006,0.10018816735730647,0.09088028980275714,0.10363371332077072,0.06599072733303137,0.11681080499113214,0.09638276979684902,0.10585757457212128],\"yaxis\":\"y2\",\"type\":\"scattergl\"},{\"hovertemplate\":\"prompt=This is the sound of<br>CLAP_type=no_fusion_no_keyword_to_caption.pt<br>dataset=clotho<br>variable=Bleu_3<br>beta=%{x}<br>value=%{y}<extra></extra>\",\"legendgroup\":\"This is the sound of, no_fusion_no_keyword_to_caption.pt\",\"marker\":{\"color\":\"#00cc96\",\"symbol\":\"circle\"},\"mode\":\"markers\",\"name\":\"This is the sound of, no_fusion_no_keyword_to_caption.pt\",\"showlegend\":false,\"x\":[0.44999998807907104,0.30000001192092896,0.3499999940395355,1.5499999523162842,0.05000000074505806,0.8500000238418579,0.5,0.0,0.4000000059604645,0.20000000298023224,1.2000000476837158,0.10000000149011612,0.25,0.15000000596046448,0.44999998807907104,0.30000001192092896,0.3499999940395355,0.05000000074505806,0.8500000238418579,0.5,0.0,0.4000000059604645,0.20000000298023224,1.2000000476837158,0.10000000149011612,0.25,0.15000000596046448],\"xaxis\":\"x3\",\"y\":[0.037144405017105114,0.040875663479254344,0.03699629227986537,0.024276563092434096,0.04392113239054306,0.029267560815562563,0.034701181665909436,0.028068555790886105,0.03837519109051815,0.03839060415276513,0.028848193368176383,0.04362925828409794,0.042659577515136056,0.043192935278878505,0.029675513952123256,0.03481105899845722,0.0341003059535588,0.04721099749384145,0.022293114515339038,0.028220144576487766,0.028068555790886105,0.030130597181790054,0.0403408805610158,0.020833988865984445,0.04681828994347535,0.03534715337235867,0.04172437386030532],\"yaxis\":\"y3\",\"type\":\"scattergl\"},{\"hovertemplate\":\"prompt=This is the sound of<br>CLAP_type=no_fusion_no_keyword_to_caption.pt<br>dataset=clotho<br>variable=Bleu_4<br>beta=%{x}<br>value=%{y}<extra></extra>\",\"legendgroup\":\"This is the sound of, no_fusion_no_keyword_to_caption.pt\",\"marker\":{\"color\":\"#00cc96\",\"symbol\":\"circle\"},\"mode\":\"markers\",\"name\":\"This is the sound of, no_fusion_no_keyword_to_caption.pt\",\"showlegend\":false,\"x\":[0.44999998807907104,0.30000001192092896,0.3499999940395355,1.5499999523162842,0.05000000074505806,0.8500000238418579,0.5,0.0,0.4000000059604645,0.20000000298023224,1.2000000476837158,0.10000000149011612,0.25,0.15000000596046448,0.44999998807907104,0.30000001192092896,0.3499999940395355,0.05000000074505806,0.8500000238418579,0.5,0.0,0.4000000059604645,0.20000000298023224,1.2000000476837158,0.10000000149011612,0.25,0.15000000596046448],\"xaxis\":\"x4\",\"y\":[0.013757169926259485,0.014819959509252538,0.012039010298533003,0.009486993554230976,0.020417339717254825,0.007768118315262373,0.008770429366506252,0.0098501829406365,0.016348106845502388,0.01622410645247544,0.010085133760245018,0.020735428310950738,0.01894899365890735,0.020467776551659767,0.011827174701936631,0.014067352177559582,0.013776542700453873,0.021138804956071355,0.006370205990383785,0.010053503232478526,0.0098501829406365,0.012013112984065476,0.017356668670942262,0.0071226151109150945,0.021660623586678533,0.01287609348267059,0.018268189434519435],\"yaxis\":\"y4\",\"type\":\"scattergl\"},{\"hovertemplate\":\"prompt=This is the sound of<br>CLAP_type=no_fusion_no_keyword_to_caption.pt<br>dataset=clotho<br>variable=METEOR<br>beta=%{x}<br>value=%{y}<extra></extra>\",\"legendgroup\":\"This is the sound of, no_fusion_no_keyword_to_caption.pt\",\"marker\":{\"color\":\"#00cc96\",\"symbol\":\"circle\"},\"mode\":\"markers\",\"name\":\"This is the sound of, no_fusion_no_keyword_to_caption.pt\",\"showlegend\":false,\"x\":[0.44999998807907104,0.30000001192092896,0.3499999940395355,1.5499999523162842,0.05000000074505806,0.8500000238418579,0.5,0.0,0.4000000059604645,0.20000000298023224,1.2000000476837158,0.10000000149011612,0.25,0.15000000596046448,0.44999998807907104,0.30000001192092896,0.3499999940395355,0.05000000074505806,0.8500000238418579,0.5,0.0,0.4000000059604645,0.20000000298023224,1.2000000476837158,0.10000000149011612,0.25,0.15000000596046448],\"xaxis\":\"x5\",\"y\":[0.07106370927502609,0.07096143797840336,0.07150544938516658,0.05939707203563491,0.07581033656027929,0.06462673565184623,0.07020736903601903,0.06961112578743404,0.07105786144037249,0.0699027992767671,0.061620984823200345,0.07427614942378453,0.0706851625879239,0.07144767150831209,0.06592479412674125,0.06792158483015423,0.06842091089305485,0.07527960052472689,0.058460215758137625,0.06428902125298012,0.06961112578743404,0.06666639571512811,0.06869986223855873,0.05993092630973833,0.07162165391935169,0.06671983573274054,0.06842348434597251],\"yaxis\":\"y5\",\"type\":\"scattergl\"},{\"hovertemplate\":\"prompt=This is the sound of<br>CLAP_type=no_fusion_no_keyword_to_caption.pt<br>dataset=clotho<br>variable=ROUGE_L<br>beta=%{x}<br>value=%{y}<extra></extra>\",\"legendgroup\":\"This is the sound of, no_fusion_no_keyword_to_caption.pt\",\"marker\":{\"color\":\"#00cc96\",\"symbol\":\"circle\"},\"mode\":\"markers\",\"name\":\"This is the sound of, no_fusion_no_keyword_to_caption.pt\",\"showlegend\":false,\"x\":[0.44999998807907104,0.30000001192092896,0.3499999940395355,1.5499999523162842,0.05000000074505806,0.8500000238418579,0.5,0.0,0.4000000059604645,0.20000000298023224,1.2000000476837158,0.10000000149011612,0.25,0.15000000596046448,0.44999998807907104,0.30000001192092896,0.3499999940395355,0.05000000074505806,0.8500000238418579,0.5,0.0,0.4000000059604645,0.20000000298023224,1.2000000476837158,0.10000000149011612,0.25,0.15000000596046448],\"xaxis\":\"x6\",\"y\":[0.20520551466886858,0.20880170214085028,0.20486953800123858,0.16081866448819174,0.2309930379499358,0.1844970409394417,0.2018535434658043,0.23009280857852454,0.20334910885891766,0.2088524361684898,0.16989933420364703,0.2184675377096803,0.20799330936182356,0.21225116891624404,0.19288063376218464,0.20923771041942865,0.2031139417097094,0.23159140671036071,0.160310686631952,0.18950756348827782,0.23009280857852454,0.19796114430121006,0.21358758875575973,0.15509035367277807,0.22210438065238133,0.2072055306878933,0.21475071795970024],\"yaxis\":\"y6\",\"type\":\"scattergl\"},{\"hovertemplate\":\"prompt=This is the sound of<br>CLAP_type=no_fusion_no_keyword_to_caption.pt<br>dataset=clotho<br>variable=CIDEr<br>beta=%{x}<br>value=%{y}<extra></extra>\",\"legendgroup\":\"This is the sound of, no_fusion_no_keyword_to_caption.pt\",\"marker\":{\"color\":\"#00cc96\",\"symbol\":\"circle\"},\"mode\":\"markers\",\"name\":\"This is the sound of, no_fusion_no_keyword_to_caption.pt\",\"showlegend\":false,\"x\":[0.44999998807907104,0.30000001192092896,0.3499999940395355,1.5499999523162842,0.05000000074505806,0.8500000238418579,0.5,0.0,0.4000000059604645,0.20000000298023224,1.2000000476837158,0.10000000149011612,0.25,0.15000000596046448,0.44999998807907104,0.30000001192092896,0.3499999940395355,0.05000000074505806,0.8500000238418579,0.5,0.0,0.4000000059604645,0.20000000298023224,1.2000000476837158,0.10000000149011612,0.25,0.15000000596046448],\"xaxis\":\"x7\",\"y\":[0.05515297416344904,0.055870253859239924,0.05186107330218313,0.04227821961246811,0.04554429487922778,0.05068276248162922,0.05522454586386229,0.01028899493906891,0.05424763769899307,0.053756275484324274,0.04933055891939061,0.05517759884690445,0.05212094027137856,0.05558275533695113,0.0568520324925417,0.06181623270481782,0.06153320890201512,0.04953603944072541,0.050303088432430185,0.05854639722586347,0.01028899493906891,0.05952340604739487,0.05862720521683429,0.04472174603790194,0.05380406316268546,0.05724745164382678,0.05613678356383737],\"yaxis\":\"y7\",\"type\":\"scattergl\"},{\"hovertemplate\":\"prompt=This is the sound of<br>CLAP_type=no_fusion_no_keyword_to_caption.pt<br>dataset=clotho<br>variable=SPICE<br>beta=%{x}<br>value=%{y}<extra></extra>\",\"legendgroup\":\"This is the sound of, no_fusion_no_keyword_to_caption.pt\",\"marker\":{\"color\":\"#00cc96\",\"symbol\":\"circle\"},\"mode\":\"markers\",\"name\":\"This is the sound of, no_fusion_no_keyword_to_caption.pt\",\"showlegend\":false,\"x\":[0.44999998807907104,0.30000001192092896,0.3499999940395355,1.5499999523162842,0.05000000074505806,0.8500000238418579,0.5,0.0,0.4000000059604645,0.20000000298023224,1.2000000476837158,0.10000000149011612,0.25,0.15000000596046448,0.44999998807907104,0.30000001192092896,0.3499999940395355,0.05000000074505806,0.8500000238418579,0.5,0.0,0.4000000059604645,0.20000000298023224,1.2000000476837158,0.10000000149011612,0.25,0.15000000596046448],\"xaxis\":\"x8\",\"y\":[0.03694623713570203,0.03688626033044656,0.0357184664739626,0.033811794216244945,0.04022951750792292,0.0346270689981765,0.037846816883781054,0.021977457707802964,0.035695161593190104,0.03764478739406421,0.03571332131568119,0.04190093526478547,0.03563651927627018,0.03796941993218488,0.040021220602199925,0.042431416211620346,0.04071961328095873,0.03975875689177844,0.0347070915743762,0.03820505435598573,0.021977457707802964,0.04071947768075403,0.03860442231160994,0.03344227554739755,0.04019253399790282,0.039235586408117924,0.03706658409144862],\"yaxis\":\"y8\",\"type\":\"scattergl\"}],                        {\"template\":{\"data\":{\"histogram2dcontour\":[{\"type\":\"histogram2dcontour\",\"colorbar\":{\"outlinewidth\":0,\"ticks\":\"\"},\"colorscale\":[[0.0,\"#0d0887\"],[0.1111111111111111,\"#46039f\"],[0.2222222222222222,\"#7201a8\"],[0.3333333333333333,\"#9c179e\"],[0.4444444444444444,\"#bd3786\"],[0.5555555555555556,\"#d8576b\"],[0.6666666666666666,\"#ed7953\"],[0.7777777777777778,\"#fb9f3a\"],[0.8888888888888888,\"#fdca26\"],[1.0,\"#f0f921\"]]}],\"choropleth\":[{\"type\":\"choropleth\",\"colorbar\":{\"outlinewidth\":0,\"ticks\":\"\"}}],\"histogram2d\":[{\"type\":\"histogram2d\",\"colorbar\":{\"outlinewidth\":0,\"ticks\":\"\"},\"colorscale\":[[0.0,\"#0d0887\"],[0.1111111111111111,\"#46039f\"],[0.2222222222222222,\"#7201a8\"],[0.3333333333333333,\"#9c179e\"],[0.4444444444444444,\"#bd3786\"],[0.5555555555555556,\"#d8576b\"],[0.6666666666666666,\"#ed7953\"],[0.7777777777777778,\"#fb9f3a\"],[0.8888888888888888,\"#fdca26\"],[1.0,\"#f0f921\"]]}],\"heatmap\":[{\"type\":\"heatmap\",\"colorbar\":{\"outlinewidth\":0,\"ticks\":\"\"},\"colorscale\":[[0.0,\"#0d0887\"],[0.1111111111111111,\"#46039f\"],[0.2222222222222222,\"#7201a8\"],[0.3333333333333333,\"#9c179e\"],[0.4444444444444444,\"#bd3786\"],[0.5555555555555556,\"#d8576b\"],[0.6666666666666666,\"#ed7953\"],[0.7777777777777778,\"#fb9f3a\"],[0.8888888888888888,\"#fdca26\"],[1.0,\"#f0f921\"]]}],\"heatmapgl\":[{\"type\":\"heatmapgl\",\"colorbar\":{\"outlinewidth\":0,\"ticks\":\"\"},\"colorscale\":[[0.0,\"#0d0887\"],[0.1111111111111111,\"#46039f\"],[0.2222222222222222,\"#7201a8\"],[0.3333333333333333,\"#9c179e\"],[0.4444444444444444,\"#bd3786\"],[0.5555555555555556,\"#d8576b\"],[0.6666666666666666,\"#ed7953\"],[0.7777777777777778,\"#fb9f3a\"],[0.8888888888888888,\"#fdca26\"],[1.0,\"#f0f921\"]]}],\"contourcarpet\":[{\"type\":\"contourcarpet\",\"colorbar\":{\"outlinewidth\":0,\"ticks\":\"\"}}],\"contour\":[{\"type\":\"contour\",\"colorbar\":{\"outlinewidth\":0,\"ticks\":\"\"},\"colorscale\":[[0.0,\"#0d0887\"],[0.1111111111111111,\"#46039f\"],[0.2222222222222222,\"#7201a8\"],[0.3333333333333333,\"#9c179e\"],[0.4444444444444444,\"#bd3786\"],[0.5555555555555556,\"#d8576b\"],[0.6666666666666666,\"#ed7953\"],[0.7777777777777778,\"#fb9f3a\"],[0.8888888888888888,\"#fdca26\"],[1.0,\"#f0f921\"]]}],\"surface\":[{\"type\":\"surface\",\"colorbar\":{\"outlinewidth\":0,\"ticks\":\"\"},\"colorscale\":[[0.0,\"#0d0887\"],[0.1111111111111111,\"#46039f\"],[0.2222222222222222,\"#7201a8\"],[0.3333333333333333,\"#9c179e\"],[0.4444444444444444,\"#bd3786\"],[0.5555555555555556,\"#d8576b\"],[0.6666666666666666,\"#ed7953\"],[0.7777777777777778,\"#fb9f3a\"],[0.8888888888888888,\"#fdca26\"],[1.0,\"#f0f921\"]]}],\"mesh3d\":[{\"type\":\"mesh3d\",\"colorbar\":{\"outlinewidth\":0,\"ticks\":\"\"}}],\"scatter\":[{\"fillpattern\":{\"fillmode\":\"overlay\",\"size\":10,\"solidity\":0.2},\"type\":\"scatter\"}],\"parcoords\":[{\"type\":\"parcoords\",\"line\":{\"colorbar\":{\"outlinewidth\":0,\"ticks\":\"\"}}}],\"scatterpolargl\":[{\"type\":\"scatterpolargl\",\"marker\":{\"colorbar\":{\"outlinewidth\":0,\"ticks\":\"\"}}}],\"bar\":[{\"error_x\":{\"color\":\"#2a3f5f\"},\"error_y\":{\"color\":\"#2a3f5f\"},\"marker\":{\"line\":{\"color\":\"#E5ECF6\",\"width\":0.5},\"pattern\":{\"fillmode\":\"overlay\",\"size\":10,\"solidity\":0.2}},\"type\":\"bar\"}],\"scattergeo\":[{\"type\":\"scattergeo\",\"marker\":{\"colorbar\":{\"outlinewidth\":0,\"ticks\":\"\"}}}],\"scatterpolar\":[{\"type\":\"scatterpolar\",\"marker\":{\"colorbar\":{\"outlinewidth\":0,\"ticks\":\"\"}}}],\"histogram\":[{\"marker\":{\"pattern\":{\"fillmode\":\"overlay\",\"size\":10,\"solidity\":0.2}},\"type\":\"histogram\"}],\"scattergl\":[{\"type\":\"scattergl\",\"marker\":{\"colorbar\":{\"outlinewidth\":0,\"ticks\":\"\"}}}],\"scatter3d\":[{\"type\":\"scatter3d\",\"line\":{\"colorbar\":{\"outlinewidth\":0,\"ticks\":\"\"}},\"marker\":{\"colorbar\":{\"outlinewidth\":0,\"ticks\":\"\"}}}],\"scattermapbox\":[{\"type\":\"scattermapbox\",\"marker\":{\"colorbar\":{\"outlinewidth\":0,\"ticks\":\"\"}}}],\"scatterternary\":[{\"type\":\"scatterternary\",\"marker\":{\"colorbar\":{\"outlinewidth\":0,\"ticks\":\"\"}}}],\"scattercarpet\":[{\"type\":\"scattercarpet\",\"marker\":{\"colorbar\":{\"outlinewidth\":0,\"ticks\":\"\"}}}],\"carpet\":[{\"aaxis\":{\"endlinecolor\":\"#2a3f5f\",\"gridcolor\":\"white\",\"linecolor\":\"white\",\"minorgridcolor\":\"white\",\"startlinecolor\":\"#2a3f5f\"},\"baxis\":{\"endlinecolor\":\"#2a3f5f\",\"gridcolor\":\"white\",\"linecolor\":\"white\",\"minorgridcolor\":\"white\",\"startlinecolor\":\"#2a3f5f\"},\"type\":\"carpet\"}],\"table\":[{\"cells\":{\"fill\":{\"color\":\"#EBF0F8\"},\"line\":{\"color\":\"white\"}},\"header\":{\"fill\":{\"color\":\"#C8D4E3\"},\"line\":{\"color\":\"white\"}},\"type\":\"table\"}],\"barpolar\":[{\"marker\":{\"line\":{\"color\":\"#E5ECF6\",\"width\":0.5},\"pattern\":{\"fillmode\":\"overlay\",\"size\":10,\"solidity\":0.2}},\"type\":\"barpolar\"}],\"pie\":[{\"automargin\":true,\"type\":\"pie\"}]},\"layout\":{\"autotypenumbers\":\"strict\",\"colorway\":[\"#636efa\",\"#EF553B\",\"#00cc96\",\"#ab63fa\",\"#FFA15A\",\"#19d3f3\",\"#FF6692\",\"#B6E880\",\"#FF97FF\",\"#FECB52\"],\"font\":{\"color\":\"#2a3f5f\"},\"hovermode\":\"closest\",\"hoverlabel\":{\"align\":\"left\"},\"paper_bgcolor\":\"white\",\"plot_bgcolor\":\"#E5ECF6\",\"polar\":{\"bgcolor\":\"#E5ECF6\",\"angularaxis\":{\"gridcolor\":\"white\",\"linecolor\":\"white\",\"ticks\":\"\"},\"radialaxis\":{\"gridcolor\":\"white\",\"linecolor\":\"white\",\"ticks\":\"\"}},\"ternary\":{\"bgcolor\":\"#E5ECF6\",\"aaxis\":{\"gridcolor\":\"white\",\"linecolor\":\"white\",\"ticks\":\"\"},\"baxis\":{\"gridcolor\":\"white\",\"linecolor\":\"white\",\"ticks\":\"\"},\"caxis\":{\"gridcolor\":\"white\",\"linecolor\":\"white\",\"ticks\":\"\"}},\"coloraxis\":{\"colorbar\":{\"outlinewidth\":0,\"ticks\":\"\"}},\"colorscale\":{\"sequential\":[[0.0,\"#0d0887\"],[0.1111111111111111,\"#46039f\"],[0.2222222222222222,\"#7201a8\"],[0.3333333333333333,\"#9c179e\"],[0.4444444444444444,\"#bd3786\"],[0.5555555555555556,\"#d8576b\"],[0.6666666666666666,\"#ed7953\"],[0.7777777777777778,\"#fb9f3a\"],[0.8888888888888888,\"#fdca26\"],[1.0,\"#f0f921\"]],\"sequentialminus\":[[0.0,\"#0d0887\"],[0.1111111111111111,\"#46039f\"],[0.2222222222222222,\"#7201a8\"],[0.3333333333333333,\"#9c179e\"],[0.4444444444444444,\"#bd3786\"],[0.5555555555555556,\"#d8576b\"],[0.6666666666666666,\"#ed7953\"],[0.7777777777777778,\"#fb9f3a\"],[0.8888888888888888,\"#fdca26\"],[1.0,\"#f0f921\"]],\"diverging\":[[0,\"#8e0152\"],[0.1,\"#c51b7d\"],[0.2,\"#de77ae\"],[0.3,\"#f1b6da\"],[0.4,\"#fde0ef\"],[0.5,\"#f7f7f7\"],[0.6,\"#e6f5d0\"],[0.7,\"#b8e186\"],[0.8,\"#7fbc41\"],[0.9,\"#4d9221\"],[1,\"#276419\"]]},\"xaxis\":{\"gridcolor\":\"white\",\"linecolor\":\"white\",\"ticks\":\"\",\"title\":{\"standoff\":15},\"zerolinecolor\":\"white\",\"automargin\":true,\"zerolinewidth\":2},\"yaxis\":{\"gridcolor\":\"white\",\"linecolor\":\"white\",\"ticks\":\"\",\"title\":{\"standoff\":15},\"zerolinecolor\":\"white\",\"automargin\":true,\"zerolinewidth\":2},\"scene\":{\"xaxis\":{\"backgroundcolor\":\"#E5ECF6\",\"gridcolor\":\"white\",\"linecolor\":\"white\",\"showbackground\":true,\"ticks\":\"\",\"zerolinecolor\":\"white\",\"gridwidth\":2},\"yaxis\":{\"backgroundcolor\":\"#E5ECF6\",\"gridcolor\":\"white\",\"linecolor\":\"white\",\"showbackground\":true,\"ticks\":\"\",\"zerolinecolor\":\"white\",\"gridwidth\":2},\"zaxis\":{\"backgroundcolor\":\"#E5ECF6\",\"gridcolor\":\"white\",\"linecolor\":\"white\",\"showbackground\":true,\"ticks\":\"\",\"zerolinecolor\":\"white\",\"gridwidth\":2}},\"shapedefaults\":{\"line\":{\"color\":\"#2a3f5f\"}},\"annotationdefaults\":{\"arrowcolor\":\"#2a3f5f\",\"arrowhead\":0,\"arrowwidth\":1},\"geo\":{\"bgcolor\":\"white\",\"landcolor\":\"#E5ECF6\",\"subunitcolor\":\"white\",\"showland\":true,\"showlakes\":true,\"lakecolor\":\"white\"},\"title\":{\"x\":0.05},\"mapbox\":{\"style\":\"light\"}}},\"xaxis\":{\"anchor\":\"y\",\"domain\":[0.0,0.105],\"title\":{\"text\":\"beta\"}},\"yaxis\":{\"anchor\":\"x\",\"domain\":[0.0,0.485],\"title\":{\"text\":\"value\"}},\"xaxis2\":{\"anchor\":\"y2\",\"domain\":[0.125,0.22999999999999998],\"matches\":\"x\",\"title\":{\"text\":\"beta\"}},\"yaxis2\":{\"anchor\":\"x2\",\"domain\":[0.0,0.485],\"matches\":\"y\",\"showticklabels\":false},\"xaxis3\":{\"anchor\":\"y3\",\"domain\":[0.25,0.355],\"matches\":\"x\",\"title\":{\"text\":\"beta\"}},\"yaxis3\":{\"anchor\":\"x3\",\"domain\":[0.0,0.485],\"matches\":\"y\",\"showticklabels\":false},\"xaxis4\":{\"anchor\":\"y4\",\"domain\":[0.375,0.48],\"matches\":\"x\",\"title\":{\"text\":\"beta\"}},\"yaxis4\":{\"anchor\":\"x4\",\"domain\":[0.0,0.485],\"matches\":\"y\",\"showticklabels\":false},\"xaxis5\":{\"anchor\":\"y5\",\"domain\":[0.5,0.605],\"matches\":\"x\",\"title\":{\"text\":\"beta\"}},\"yaxis5\":{\"anchor\":\"x5\",\"domain\":[0.0,0.485],\"matches\":\"y\",\"showticklabels\":false},\"xaxis6\":{\"anchor\":\"y6\",\"domain\":[0.625,0.73],\"matches\":\"x\",\"title\":{\"text\":\"beta\"}},\"yaxis6\":{\"anchor\":\"x6\",\"domain\":[0.0,0.485],\"matches\":\"y\",\"showticklabels\":false},\"xaxis7\":{\"anchor\":\"y7\",\"domain\":[0.75,0.855],\"matches\":\"x\",\"title\":{\"text\":\"beta\"}},\"yaxis7\":{\"anchor\":\"x7\",\"domain\":[0.0,0.485],\"matches\":\"y\",\"showticklabels\":false},\"xaxis8\":{\"anchor\":\"y8\",\"domain\":[0.875,0.98],\"matches\":\"x\",\"title\":{\"text\":\"beta\"}},\"yaxis8\":{\"anchor\":\"x8\",\"domain\":[0.0,0.485],\"matches\":\"y\",\"showticklabels\":false},\"xaxis9\":{\"anchor\":\"y9\",\"domain\":[0.0,0.105],\"matches\":\"x\",\"showticklabels\":false},\"yaxis9\":{\"anchor\":\"x9\",\"domain\":[0.515,1.0],\"matches\":\"y\",\"title\":{\"text\":\"value\"}},\"xaxis10\":{\"anchor\":\"y10\",\"domain\":[0.125,0.22999999999999998],\"matches\":\"x\",\"showticklabels\":false},\"yaxis10\":{\"anchor\":\"x10\",\"domain\":[0.515,1.0],\"matches\":\"y\",\"showticklabels\":false},\"xaxis11\":{\"anchor\":\"y11\",\"domain\":[0.25,0.355],\"matches\":\"x\",\"showticklabels\":false},\"yaxis11\":{\"anchor\":\"x11\",\"domain\":[0.515,1.0],\"matches\":\"y\",\"showticklabels\":false},\"xaxis12\":{\"anchor\":\"y12\",\"domain\":[0.375,0.48],\"matches\":\"x\",\"showticklabels\":false},\"yaxis12\":{\"anchor\":\"x12\",\"domain\":[0.515,1.0],\"matches\":\"y\",\"showticklabels\":false},\"xaxis13\":{\"anchor\":\"y13\",\"domain\":[0.5,0.605],\"matches\":\"x\",\"showticklabels\":false},\"yaxis13\":{\"anchor\":\"x13\",\"domain\":[0.515,1.0],\"matches\":\"y\",\"showticklabels\":false},\"xaxis14\":{\"anchor\":\"y14\",\"domain\":[0.625,0.73],\"matches\":\"x\",\"showticklabels\":false},\"yaxis14\":{\"anchor\":\"x14\",\"domain\":[0.515,1.0],\"matches\":\"y\",\"showticklabels\":false},\"xaxis15\":{\"anchor\":\"y15\",\"domain\":[0.75,0.855],\"matches\":\"x\",\"showticklabels\":false},\"yaxis15\":{\"anchor\":\"x15\",\"domain\":[0.515,1.0],\"matches\":\"y\",\"showticklabels\":false},\"xaxis16\":{\"anchor\":\"y16\",\"domain\":[0.875,0.98],\"matches\":\"x\",\"showticklabels\":false},\"yaxis16\":{\"anchor\":\"x16\",\"domain\":[0.515,1.0],\"matches\":\"y\",\"showticklabels\":false},\"annotations\":[{\"font\":{},\"showarrow\":false,\"text\":\"variable=Bleu_1\",\"x\":0.0525,\"xanchor\":\"center\",\"xref\":\"paper\",\"y\":1.0,\"yanchor\":\"bottom\",\"yref\":\"paper\"},{\"font\":{},\"showarrow\":false,\"text\":\"variable=Bleu_2\",\"x\":0.1775,\"xanchor\":\"center\",\"xref\":\"paper\",\"y\":1.0,\"yanchor\":\"bottom\",\"yref\":\"paper\"},{\"font\":{},\"showarrow\":false,\"text\":\"variable=Bleu_3\",\"x\":0.3025,\"xanchor\":\"center\",\"xref\":\"paper\",\"y\":1.0,\"yanchor\":\"bottom\",\"yref\":\"paper\"},{\"font\":{},\"showarrow\":false,\"text\":\"variable=Bleu_4\",\"x\":0.4275,\"xanchor\":\"center\",\"xref\":\"paper\",\"y\":1.0,\"yanchor\":\"bottom\",\"yref\":\"paper\"},{\"font\":{},\"showarrow\":false,\"text\":\"variable=METEOR\",\"x\":0.5525,\"xanchor\":\"center\",\"xref\":\"paper\",\"y\":1.0,\"yanchor\":\"bottom\",\"yref\":\"paper\"},{\"font\":{},\"showarrow\":false,\"text\":\"variable=ROUGE_L\",\"x\":0.6775,\"xanchor\":\"center\",\"xref\":\"paper\",\"y\":1.0,\"yanchor\":\"bottom\",\"yref\":\"paper\"},{\"font\":{},\"showarrow\":false,\"text\":\"variable=CIDEr\",\"x\":0.8025,\"xanchor\":\"center\",\"xref\":\"paper\",\"y\":1.0,\"yanchor\":\"bottom\",\"yref\":\"paper\"},{\"font\":{},\"showarrow\":false,\"text\":\"variable=SPICE\",\"x\":0.9275,\"xanchor\":\"center\",\"xref\":\"paper\",\"y\":1.0,\"yanchor\":\"bottom\",\"yref\":\"paper\"},{\"font\":{},\"showarrow\":false,\"text\":\"dataset=clotho\",\"textangle\":90,\"x\":0.98,\"xanchor\":\"left\",\"xref\":\"paper\",\"y\":0.2425,\"yanchor\":\"middle\",\"yref\":\"paper\"},{\"font\":{},\"showarrow\":false,\"text\":\"dataset=audiocaps\",\"textangle\":90,\"x\":0.98,\"xanchor\":\"left\",\"xref\":\"paper\",\"y\":0.7575000000000001,\"yanchor\":\"middle\",\"yref\":\"paper\"}],\"legend\":{\"title\":{\"text\":\"prompt, CLAP_type\"},\"tracegroupgap\":0},\"margin\":{\"t\":60}},                        {\"responsive\": true}                    ).then(function(){\n",
       "                            \n",
       "var gd = document.getElementById('d912e46d-2abd-4b7d-8d21-7386f0c1822b');\n",
       "var x = new MutationObserver(function (mutations, observer) {{\n",
       "        var display = window.getComputedStyle(gd).display;\n",
       "        if (!display || display === 'none') {{\n",
       "            console.log([gd, 'removed!']);\n",
       "            Plotly.purge(gd);\n",
       "            observer.disconnect();\n",
       "        }}\n",
       "}});\n",
       "\n",
       "// Listen for the removal of the full notebook cells\n",
       "var notebookContainer = gd.closest('#notebook-container');\n",
       "if (notebookContainer) {{\n",
       "    x.observe(notebookContainer, {childList: true});\n",
       "}}\n",
       "\n",
       "// Listen for the clearing of the current output cell\n",
       "var outputEl = gd.closest('.output');\n",
       "if (outputEl) {{\n",
       "    x.observe(outputEl, {childList: true});\n",
       "}}\n",
       "\n",
       "                        })                };                });            </script>        </div>"
      ]
     },
     "metadata": {},
     "output_type": "display_data"
    }
   ],
   "source": [
    "fig = px.scatter(data_long, x=\"beta\", y=\"value\", facet_col='variable', color='prompt', facet_row='dataset', symbol=\"CLAP_type\")\n",
    "fig.show()"
   ]
  },
  {
   "cell_type": "code",
   "execution_count": null,
   "metadata": {},
   "outputs": [],
   "source": []
  }
 ],
 "metadata": {
  "kernelspec": {
   "display_name": "MAGIC",
   "language": "python",
   "name": "python3"
  },
  "language_info": {
   "codemirror_mode": {
    "name": "ipython",
    "version": 3
   },
   "file_extension": ".py",
   "mimetype": "text/x-python",
   "name": "python",
   "nbconvert_exporter": "python",
   "pygments_lexer": "ipython3",
   "version": "3.7.15"
  },
  "orig_nbformat": 4,
  "vscode": {
   "interpreter": {
    "hash": "ee6a500944a2cd2f984dae74c6225ee7a50e19788cc624758b7df27cfc1fe701"
   }
  }
 },
 "nbformat": 4,
 "nbformat_minor": 2
}
