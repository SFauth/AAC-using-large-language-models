{
 "cells": [
  {
   "cell_type": "code",
   "execution_count": 1,
   "metadata": {},
   "outputs": [],
   "source": [
    "import json\n",
    "import pandas as pd\n",
    "import glob\n",
    "import plotly.express as px"
   ]
  },
  {
   "cell_type": "code",
   "execution_count": 42,
   "metadata": {},
   "outputs": [],
   "source": [
    "result_files = glob.glob('*.json')\n",
    "\n",
    "result_jsons = []\n",
    "\n",
    "for file in result_files:\n",
    "    f = open(file)\n",
    "    result_jsons = result_jsons + json.load(f)"
   ]
  },
  {
   "cell_type": "code",
   "execution_count": 46,
   "metadata": {},
   "outputs": [
    {
     "data": {
      "text/html": [
       "<div>\n",
       "<style scoped>\n",
       "    .dataframe tbody tr th:only-of-type {\n",
       "        vertical-align: middle;\n",
       "    }\n",
       "\n",
       "    .dataframe tbody tr th {\n",
       "        vertical-align: top;\n",
       "    }\n",
       "\n",
       "    .dataframe thead th {\n",
       "        text-align: right;\n",
       "    }\n",
       "</style>\n",
       "<table border=\"1\" class=\"dataframe\">\n",
       "  <thead>\n",
       "    <tr style=\"text-align: right;\">\n",
       "      <th></th>\n",
       "      <th>beta</th>\n",
       "      <th>prompt</th>\n",
       "      <th>alpha</th>\n",
       "      <th>k</th>\n",
       "      <th>decoding_len</th>\n",
       "      <th>clip_text_max_len</th>\n",
       "      <th>n_test_samples</th>\n",
       "      <th>variable</th>\n",
       "      <th>value</th>\n",
       "    </tr>\n",
       "  </thead>\n",
       "  <tbody>\n",
       "    <tr>\n",
       "      <th>0</th>\n",
       "      <td>3.222222</td>\n",
       "      <td>This is a sound of</td>\n",
       "      <td>0.1</td>\n",
       "      <td>45</td>\n",
       "      <td>30</td>\n",
       "      <td>77</td>\n",
       "      <td>1045</td>\n",
       "      <td>Bleu_1</td>\n",
       "      <td>0.162525</td>\n",
       "    </tr>\n",
       "    <tr>\n",
       "      <th>1</th>\n",
       "      <td>1.666667</td>\n",
       "      <td>This is a sound of</td>\n",
       "      <td>0.1</td>\n",
       "      <td>45</td>\n",
       "      <td>30</td>\n",
       "      <td>77</td>\n",
       "      <td>1045</td>\n",
       "      <td>Bleu_1</td>\n",
       "      <td>0.178770</td>\n",
       "    </tr>\n",
       "    <tr>\n",
       "      <th>2</th>\n",
       "      <td>3.611111</td>\n",
       "      <td>This is a sound of</td>\n",
       "      <td>0.1</td>\n",
       "      <td>45</td>\n",
       "      <td>30</td>\n",
       "      <td>77</td>\n",
       "      <td>1045</td>\n",
       "      <td>Bleu_1</td>\n",
       "      <td>0.162424</td>\n",
       "    </tr>\n",
       "    <tr>\n",
       "      <th>3</th>\n",
       "      <td>2.444444</td>\n",
       "      <td>This is a sound of</td>\n",
       "      <td>0.1</td>\n",
       "      <td>45</td>\n",
       "      <td>30</td>\n",
       "      <td>77</td>\n",
       "      <td>1045</td>\n",
       "      <td>Bleu_1</td>\n",
       "      <td>0.165296</td>\n",
       "    </tr>\n",
       "    <tr>\n",
       "      <th>4</th>\n",
       "      <td>2.444444</td>\n",
       "      <td>This is the sound of</td>\n",
       "      <td>0.1</td>\n",
       "      <td>45</td>\n",
       "      <td>30</td>\n",
       "      <td>77</td>\n",
       "      <td>1045</td>\n",
       "      <td>Bleu_1</td>\n",
       "      <td>0.178239</td>\n",
       "    </tr>\n",
       "  </tbody>\n",
       "</table>\n",
       "</div>"
      ],
      "text/plain": [
       "       beta                prompt  alpha   k  decoding_len  clip_text_max_len  \\\n",
       "0  3.222222    This is a sound of    0.1  45            30                 77   \n",
       "1  1.666667    This is a sound of    0.1  45            30                 77   \n",
       "2  3.611111    This is a sound of    0.1  45            30                 77   \n",
       "3  2.444444    This is a sound of    0.1  45            30                 77   \n",
       "4  2.444444  This is the sound of    0.1  45            30                 77   \n",
       "\n",
       "   n_test_samples variable     value  \n",
       "0            1045   Bleu_1  0.162525  \n",
       "1            1045   Bleu_1  0.178770  \n",
       "2            1045   Bleu_1  0.162424  \n",
       "3            1045   Bleu_1  0.165296  \n",
       "4            1045   Bleu_1  0.178239  "
      ]
     },
     "execution_count": 46,
     "metadata": {},
     "output_type": "execute_result"
    }
   ],
   "source": [
    "#result_file = glob.glob('*.json')[0]\n",
    "#f = open(result_file)\n",
    "#data = json.load(f)\n",
    "\n",
    "data = pd.DataFrame.from_records(result_jsons)\n",
    "data_long = pd.melt(data, id_vars=[\"beta\", \"prompt\", \"alpha\", \"k\", \"decoding_len\", \"clip_text_max_len\", \"n_test_samples\"])\n",
    "data_long.head()"
   ]
  },
  {
   "cell_type": "code",
   "execution_count": 11,
   "metadata": {},
   "outputs": [
    {
     "data": {
      "text/html": [
       "<div>\n",
       "<style scoped>\n",
       "    .dataframe tbody tr th:only-of-type {\n",
       "        vertical-align: middle;\n",
       "    }\n",
       "\n",
       "    .dataframe tbody tr th {\n",
       "        vertical-align: top;\n",
       "    }\n",
       "\n",
       "    .dataframe thead th {\n",
       "        text-align: right;\n",
       "    }\n",
       "</style>\n",
       "<table border=\"1\" class=\"dataframe\">\n",
       "  <thead>\n",
       "    <tr style=\"text-align: right;\">\n",
       "      <th></th>\n",
       "      <th>alpha</th>\n",
       "      <th>k</th>\n",
       "      <th>decoding_len</th>\n",
       "      <th>clip_text_max_len</th>\n",
       "      <th>n_test_samples</th>\n",
       "    </tr>\n",
       "  </thead>\n",
       "  <tbody>\n",
       "    <tr>\n",
       "      <th>0</th>\n",
       "      <td>0.1</td>\n",
       "      <td>45</td>\n",
       "      <td>30</td>\n",
       "      <td>77</td>\n",
       "      <td>1045</td>\n",
       "    </tr>\n",
       "  </tbody>\n",
       "</table>\n",
       "</div>"
      ],
      "text/plain": [
       "   alpha   k  decoding_len  clip_text_max_len  n_test_samples\n",
       "0    0.1  45            30                 77            1045"
      ]
     },
     "execution_count": 11,
     "metadata": {},
     "output_type": "execute_result"
    }
   ],
   "source": [
    "data_long[[\"alpha\", \"k\", \"decoding_len\", \"clip_text_max_len\", \"n_test_samples\"]].head(1)"
   ]
  },
  {
   "cell_type": "code",
   "execution_count": 47,
   "metadata": {},
   "outputs": [
    {
     "data": {
      "application/vnd.plotly.v1+json": {
       "config": {
        "plotlyServerURL": "https://plot.ly"
       },
       "data": [
        {
         "hovertemplate": "prompt=This is a sound of<br>variable=Bleu_1<br>beta=%{x}<br>value=%{y}<extra></extra>",
         "legendgroup": "This is a sound of",
         "marker": {
          "color": "#636efa",
          "symbol": "circle"
         },
         "mode": "markers",
         "name": "This is a sound of",
         "orientation": "v",
         "showlegend": true,
         "type": "scatter",
         "x": [
          3.222222328186035,
          1.6666667461395264,
          3.6111111640930176,
          2.444444417953491,
          0.5,
          0.8888888955116272,
          2.8333332538604736,
          4,
          1.2777777910232544,
          2.055555582046509,
          0.5,
          4
         ],
         "xaxis": "x",
         "y": [
          0.16252472799207698,
          0.17876969242309235,
          0.16242380781641194,
          0.16529583443883222,
          0.17538719998426286,
          0.18935209423766874,
          0.16256284646125033,
          0.15947666195190008,
          0.1893404721343239,
          0.1744713518040216,
          0.17538719998426286,
          0.15796019900496577
         ],
         "yaxis": "y"
        },
        {
         "hovertemplate": "prompt=This is a sound of<br>variable=Bleu_2<br>beta=%{x}<br>value=%{y}<extra></extra>",
         "legendgroup": "This is a sound of",
         "marker": {
          "color": "#636efa",
          "symbol": "circle"
         },
         "mode": "markers",
         "name": "This is a sound of",
         "orientation": "v",
         "showlegend": false,
         "type": "scatter",
         "x": [
          3.222222328186035,
          1.6666667461395264,
          3.6111111640930176,
          2.444444417953491,
          0.5,
          0.8888888955116272,
          2.8333332538604736,
          4,
          1.2777777910232544,
          2.055555582046509,
          0.5,
          4
         ],
         "xaxis": "x2",
         "y": [
          0.03693290067755124,
          0.04399137245808915,
          0.035683375309980135,
          0.03958193188253719,
          0.04900738245463773,
          0.048976530449071735,
          0.03732391782522335,
          0.035239791200081166,
          0.04652691839151493,
          0.042879064475679275,
          0.04900738245463773,
          0.031261462041870455
         ],
         "yaxis": "y2"
        },
        {
         "hovertemplate": "prompt=This is a sound of<br>variable=Bleu_3<br>beta=%{x}<br>value=%{y}<extra></extra>",
         "legendgroup": "This is a sound of",
         "marker": {
          "color": "#636efa",
          "symbol": "circle"
         },
         "mode": "markers",
         "name": "This is a sound of",
         "orientation": "v",
         "showlegend": false,
         "type": "scatter",
         "x": [
          3.222222328186035,
          1.6666667461395264,
          3.6111111640930176,
          2.444444417953491,
          0.5,
          0.8888888955116272,
          2.8333332538604736,
          4,
          1.2777777910232544,
          2.055555582046509,
          0.5,
          4
         ],
         "xaxis": "x3",
         "y": [
          0.006617191612634587,
          0.008818458413146817,
          0.006383222827056699,
          0.0071188934530571815,
          0.011162655164438507,
          0.012171561789839795,
          0.008530473023995967,
          0.00629666501928674,
          0.008579936579784155,
          0.009081512034098089,
          0.011162655164438507,
          4.039263965096217e-8
         ],
         "yaxis": "y3"
        },
        {
         "hovertemplate": "prompt=This is a sound of<br>variable=Bleu_4<br>beta=%{x}<br>value=%{y}<extra></extra>",
         "legendgroup": "This is a sound of",
         "marker": {
          "color": "#636efa",
          "symbol": "circle"
         },
         "mode": "markers",
         "name": "This is a sound of",
         "orientation": "v",
         "showlegend": false,
         "type": "scatter",
         "x": [
          3.222222328186035,
          1.6666667461395264,
          3.6111111640930176,
          2.444444417953491,
          0.5,
          0.8888888955116272,
          2.8333332538604736,
          4,
          1.2777777910232544,
          2.055555582046509,
          0.5,
          4
         ],
         "xaxis": "x4",
         "y": [
          3.851386320556149e-7,
          5.074869391017931e-7,
          3.710171672527394e-7,
          4.1578092687373323e-7,
          6.541922529309438e-7,
          0.0038321311672733145,
          4.719617789464064e-7,
          3.6571493975853143e-7,
          5.100987801953711e-7,
          5.071292459949329e-7,
          6.541922529309438e-7,
          4.6684880752778974e-11
         ],
         "yaxis": "y4"
        },
        {
         "hovertemplate": "prompt=This is a sound of<br>variable=METEOR<br>beta=%{x}<br>value=%{y}<extra></extra>",
         "legendgroup": "This is a sound of",
         "marker": {
          "color": "#636efa",
          "symbol": "circle"
         },
         "mode": "markers",
         "name": "This is a sound of",
         "orientation": "v",
         "showlegend": false,
         "type": "scatter",
         "x": [
          3.222222328186035,
          1.6666667461395264,
          3.6111111640930176,
          2.444444417953491,
          0.5,
          0.8888888955116272,
          2.8333332538604736,
          4,
          1.2777777910232544,
          2.055555582046509,
          0.5,
          4
         ],
         "xaxis": "x5",
         "y": [
          0.055924639552522394,
          0.05064095166072419,
          0.055510990590698285,
          0.051752393173654494,
          0.04354064504990112,
          0.047566075274522446,
          0.054102905361382625,
          0.05575895552373104,
          0.05085075438600183,
          0.054120611947513234,
          0.04354064504990112,
          0.05535922072520911
         ],
         "yaxis": "y5"
        },
        {
         "hovertemplate": "prompt=This is a sound of<br>variable=ROUGE_L<br>beta=%{x}<br>value=%{y}<extra></extra>",
         "legendgroup": "This is a sound of",
         "marker": {
          "color": "#636efa",
          "symbol": "circle"
         },
         "mode": "markers",
         "name": "This is a sound of",
         "orientation": "v",
         "showlegend": false,
         "type": "scatter",
         "x": [
          3.222222328186035,
          1.6666667461395264,
          3.6111111640930176,
          2.444444417953491,
          0.5,
          0.8888888955116272,
          2.8333332538604736,
          4,
          1.2777777910232544,
          2.055555582046509,
          0.5,
          4
         ],
         "xaxis": "x6",
         "y": [
          0.12125399026522495,
          0.12376742731525726,
          0.12338506299058144,
          0.12120727237180272,
          0.12562809945389103,
          0.1253732243016978,
          0.12331968447631109,
          0.12162866887515525,
          0.12974375948161332,
          0.12698634402621814,
          0.12562809945389103,
          0.11941506066404906
         ],
         "yaxis": "y6"
        },
        {
         "hovertemplate": "prompt=This is a sound of<br>variable=CIDEr<br>beta=%{x}<br>value=%{y}<extra></extra>",
         "legendgroup": "This is a sound of",
         "marker": {
          "color": "#636efa",
          "symbol": "circle"
         },
         "mode": "markers",
         "name": "This is a sound of",
         "orientation": "v",
         "showlegend": false,
         "type": "scatter",
         "x": [
          3.222222328186035,
          1.6666667461395264,
          3.6111111640930176,
          2.444444417953491,
          0.5,
          0.8888888955116272,
          2.8333332538604736,
          4,
          1.2777777910232544,
          2.055555582046509,
          0.5,
          4
         ],
         "xaxis": "x7",
         "y": [
          0.012277456456131212,
          0.014965903092533405,
          0.011869355081559856,
          0.013009079409091398,
          0.015870823944307572,
          0.01880076653290616,
          0.015342969394622739,
          0.011290529085089419,
          0.016620537149060984,
          0.01813393988755474,
          0.015870823944307572,
          0.012054476141018376
         ],
         "yaxis": "y7"
        },
        {
         "hovertemplate": "prompt=This is a sound of<br>variable=SPICE<br>beta=%{x}<br>value=%{y}<extra></extra>",
         "legendgroup": "This is a sound of",
         "marker": {
          "color": "#636efa",
          "symbol": "circle"
         },
         "mode": "markers",
         "name": "This is a sound of",
         "orientation": "v",
         "showlegend": false,
         "type": "scatter",
         "x": [
          3.222222328186035,
          1.6666667461395264,
          3.6111111640930176,
          2.444444417953491,
          0.5,
          0.8888888955116272,
          2.8333332538604736,
          4,
          1.2777777910232544,
          2.055555582046509,
          0.5,
          4
         ],
         "xaxis": "x8",
         "y": [
          0.013283900269202962,
          0.012844385586540425,
          0.014035969835921293,
          0.01424284786248422,
          0.012740511700754862,
          0.01478458419931708,
          0.014924223217878277,
          0.014743043455623082,
          0.015045598537745996,
          0.014831801739315987,
          0.012740511700754862,
          0.015007574870680069
         ],
         "yaxis": "y8"
        },
        {
         "hovertemplate": "prompt=This is the sound of<br>variable=Bleu_1<br>beta=%{x}<br>value=%{y}<extra></extra>",
         "legendgroup": "This is the sound of",
         "marker": {
          "color": "#EF553B",
          "symbol": "circle"
         },
         "mode": "markers",
         "name": "This is the sound of",
         "orientation": "v",
         "showlegend": true,
         "type": "scatter",
         "x": [
          2.444444417953491,
          4,
          2.055555582046509,
          1.6666667461395264,
          3.6111111640930176,
          0.5,
          3.222222328186035,
          0.8888888955116272,
          2.8333332538604736,
          1.2777777910232544,
          4,
          0.5
         ],
         "xaxis": "x",
         "y": [
          0.17823878069431426,
          0.1652163403432339,
          0.1820529850195423,
          0.19331418541565396,
          0.16444277391466738,
          0.2064919314801743,
          0.16918089188830426,
          0.19765968161816166,
          0.1737105049959375,
          0.2012284931878645,
          0.1646080317795193,
          0.2064919314801743
         ],
         "yaxis": "y"
        },
        {
         "hovertemplate": "prompt=This is the sound of<br>variable=Bleu_2<br>beta=%{x}<br>value=%{y}<extra></extra>",
         "legendgroup": "This is the sound of",
         "marker": {
          "color": "#EF553B",
          "symbol": "circle"
         },
         "mode": "markers",
         "name": "This is the sound of",
         "orientation": "v",
         "showlegend": false,
         "type": "scatter",
         "x": [
          2.444444417953491,
          4,
          2.055555582046509,
          1.6666667461395264,
          3.6111111640930176,
          0.5,
          3.222222328186035,
          0.8888888955116272,
          2.8333332538604736,
          1.2777777910232544,
          4,
          0.5
         ],
         "xaxis": "x2",
         "y": [
          0.04119616830442799,
          0.03903665872317872,
          0.04498106432238467,
          0.05155851390852181,
          0.03696990909181521,
          0.07032894097107456,
          0.04073504022986957,
          0.05594479831378043,
          0.04080981052107784,
          0.05327144458928768,
          0.03854620005734199,
          0.07032894097107456
         ],
         "yaxis": "y2"
        },
        {
         "hovertemplate": "prompt=This is the sound of<br>variable=Bleu_3<br>beta=%{x}<br>value=%{y}<extra></extra>",
         "legendgroup": "This is the sound of",
         "marker": {
          "color": "#EF553B",
          "symbol": "circle"
         },
         "mode": "markers",
         "name": "This is the sound of",
         "orientation": "v",
         "showlegend": false,
         "type": "scatter",
         "x": [
          2.444444417953491,
          4,
          2.055555582046509,
          1.6666667461395264,
          3.6111111640930176,
          0.5,
          3.222222328186035,
          0.8888888955116272,
          2.8333332538604736,
          1.2777777910232544,
          4,
          0.5
         ],
         "xaxis": "x3",
         "y": [
          0.006542009633905488,
          0.00944102036005839,
          0.00808341788047732,
          0.013167636134646181,
          0.008828461255322962,
          0.02095546834948675,
          0.01083200169335185,
          0.012908257129207639,
          0.006391844924464506,
          0.010653817948232589,
          0.005957222161420998,
          0.02095546834948675
         ],
         "yaxis": "y3"
        },
        {
         "hovertemplate": "prompt=This is the sound of<br>variable=Bleu_4<br>beta=%{x}<br>value=%{y}<extra></extra>",
         "legendgroup": "This is the sound of",
         "marker": {
          "color": "#EF553B",
          "symbol": "circle"
         },
         "mode": "markers",
         "name": "This is the sound of",
         "orientation": "v",
         "showlegend": false,
         "type": "scatter",
         "x": [
          2.444444417953491,
          4,
          2.055555582046509,
          1.6666667461395264,
          3.6111111640930176,
          0.5,
          3.222222328186035,
          0.8888888955116272,
          2.8333332538604736,
          1.2777777910232544,
          4,
          0.5
         ],
         "xaxis": "x4",
         "y": [
          3.9791428749381654e-7,
          0.0036971290083827467,
          4.732709022942898e-7,
          6.996493349672341e-7,
          4.802831358679647e-7,
          0.0000010749303688678557,
          0.003807636884087926,
          7.271303440185394e-7,
          3.8576498459545713e-7,
          6.157004421824099e-7,
          3.5640882463016517e-7,
          0.0000010749303688678557
         ],
         "yaxis": "y4"
        },
        {
         "hovertemplate": "prompt=This is the sound of<br>variable=METEOR<br>beta=%{x}<br>value=%{y}<extra></extra>",
         "legendgroup": "This is the sound of",
         "marker": {
          "color": "#EF553B",
          "symbol": "circle"
         },
         "mode": "markers",
         "name": "This is the sound of",
         "orientation": "v",
         "showlegend": false,
         "type": "scatter",
         "x": [
          2.444444417953491,
          4,
          2.055555582046509,
          1.6666667461395264,
          3.6111111640930176,
          0.5,
          3.222222328186035,
          0.8888888955116272,
          2.8333332538604736,
          1.2777777910232544,
          4,
          0.5
         ],
         "xaxis": "x5",
         "y": [
          0.057406138938181854,
          0.058897256179191934,
          0.05662217846102639,
          0.05603148280616205,
          0.057449218621748496,
          0.054597295869001,
          0.05623873114465509,
          0.05169820754064618,
          0.0569200068404657,
          0.05315843233727257,
          0.058699864913730596,
          0.054597295869001
         ],
         "yaxis": "y5"
        },
        {
         "hovertemplate": "prompt=This is the sound of<br>variable=ROUGE_L<br>beta=%{x}<br>value=%{y}<extra></extra>",
         "legendgroup": "This is the sound of",
         "marker": {
          "color": "#EF553B",
          "symbol": "circle"
         },
         "mode": "markers",
         "name": "This is the sound of",
         "orientation": "v",
         "showlegend": false,
         "type": "scatter",
         "x": [
          2.444444417953491,
          4,
          2.055555582046509,
          1.6666667461395264,
          3.6111111640930176,
          0.5,
          3.222222328186035,
          0.8888888955116272,
          2.8333332538604736,
          1.2777777910232544,
          4,
          0.5
         ],
         "xaxis": "x6",
         "y": [
          0.12682722787340567,
          0.1252109101036539,
          0.1317221772790953,
          0.1303555883344424,
          0.12295477597135789,
          0.1591928429108286,
          0.1265876004030354,
          0.1389951633715919,
          0.12624986481206216,
          0.13448204431509098,
          0.1227035782062718,
          0.1591928429108286
         ],
         "yaxis": "y6"
        },
        {
         "hovertemplate": "prompt=This is the sound of<br>variable=CIDEr<br>beta=%{x}<br>value=%{y}<extra></extra>",
         "legendgroup": "This is the sound of",
         "marker": {
          "color": "#EF553B",
          "symbol": "circle"
         },
         "mode": "markers",
         "name": "This is the sound of",
         "orientation": "v",
         "showlegend": false,
         "type": "scatter",
         "x": [
          2.444444417953491,
          4,
          2.055555582046509,
          1.6666667461395264,
          3.6111111640930176,
          0.5,
          3.222222328186035,
          0.8888888955116272,
          2.8333332538604736,
          1.2777777910232544,
          4,
          0.5
         ],
         "xaxis": "x7",
         "y": [
          0.020853399237485793,
          0.015963108076117016,
          0.01956707847623364,
          0.023651048299839616,
          0.01791630421185157,
          0.033388662825710326,
          0.019442142035484646,
          0.025277145314863143,
          0.018703856855398097,
          0.023741740933011485,
          0.015364393930947868,
          0.033388662825710326
         ],
         "yaxis": "y7"
        },
        {
         "hovertemplate": "prompt=This is the sound of<br>variable=SPICE<br>beta=%{x}<br>value=%{y}<extra></extra>",
         "legendgroup": "This is the sound of",
         "marker": {
          "color": "#EF553B",
          "symbol": "circle"
         },
         "mode": "markers",
         "name": "This is the sound of",
         "orientation": "v",
         "showlegend": false,
         "type": "scatter",
         "x": [
          2.444444417953491,
          4,
          2.055555582046509,
          1.6666667461395264,
          3.6111111640930176,
          0.5,
          3.222222328186035,
          0.8888888955116272,
          2.8333332538604736,
          1.2777777910232544,
          4,
          0.5
         ],
         "xaxis": "x8",
         "y": [
          0.020484893671876888,
          0.020387424016193565,
          0.01821250251518385,
          0.01984169143029315,
          0.018744160242372146,
          0.02337888553737766,
          0.01852417339586271,
          0.018722994289595056,
          0.019748614021177995,
          0.017072362017527452,
          0.01955748916510854,
          0.02337888553737766
         ],
         "yaxis": "y8"
        }
       ],
       "layout": {
        "annotations": [
         {
          "font": {},
          "showarrow": false,
          "text": "variable=Bleu_1",
          "x": 0.05375,
          "xanchor": "center",
          "xref": "paper",
          "y": 1,
          "yanchor": "bottom",
          "yref": "paper"
         },
         {
          "font": {},
          "showarrow": false,
          "text": "variable=Bleu_2",
          "x": 0.18125,
          "xanchor": "center",
          "xref": "paper",
          "y": 1,
          "yanchor": "bottom",
          "yref": "paper"
         },
         {
          "font": {},
          "showarrow": false,
          "text": "variable=Bleu_3",
          "x": 0.30874999999999997,
          "xanchor": "center",
          "xref": "paper",
          "y": 1,
          "yanchor": "bottom",
          "yref": "paper"
         },
         {
          "font": {},
          "showarrow": false,
          "text": "variable=Bleu_4",
          "x": 0.43625,
          "xanchor": "center",
          "xref": "paper",
          "y": 1,
          "yanchor": "bottom",
          "yref": "paper"
         },
         {
          "font": {},
          "showarrow": false,
          "text": "variable=METEOR",
          "x": 0.56375,
          "xanchor": "center",
          "xref": "paper",
          "y": 1,
          "yanchor": "bottom",
          "yref": "paper"
         },
         {
          "font": {},
          "showarrow": false,
          "text": "variable=ROUGE_L",
          "x": 0.6912499999999999,
          "xanchor": "center",
          "xref": "paper",
          "y": 1,
          "yanchor": "bottom",
          "yref": "paper"
         },
         {
          "font": {},
          "showarrow": false,
          "text": "variable=CIDEr",
          "x": 0.8187500000000001,
          "xanchor": "center",
          "xref": "paper",
          "y": 1,
          "yanchor": "bottom",
          "yref": "paper"
         },
         {
          "font": {},
          "showarrow": false,
          "text": "variable=SPICE",
          "x": 0.94625,
          "xanchor": "center",
          "xref": "paper",
          "y": 1,
          "yanchor": "bottom",
          "yref": "paper"
         }
        ],
        "legend": {
         "title": {
          "text": "prompt"
         },
         "tracegroupgap": 0
        },
        "margin": {
         "t": 60
        },
        "template": {
         "data": {
          "bar": [
           {
            "error_x": {
             "color": "#2a3f5f"
            },
            "error_y": {
             "color": "#2a3f5f"
            },
            "marker": {
             "line": {
              "color": "#E5ECF6",
              "width": 0.5
             },
             "pattern": {
              "fillmode": "overlay",
              "size": 10,
              "solidity": 0.2
             }
            },
            "type": "bar"
           }
          ],
          "barpolar": [
           {
            "marker": {
             "line": {
              "color": "#E5ECF6",
              "width": 0.5
             },
             "pattern": {
              "fillmode": "overlay",
              "size": 10,
              "solidity": 0.2
             }
            },
            "type": "barpolar"
           }
          ],
          "carpet": [
           {
            "aaxis": {
             "endlinecolor": "#2a3f5f",
             "gridcolor": "white",
             "linecolor": "white",
             "minorgridcolor": "white",
             "startlinecolor": "#2a3f5f"
            },
            "baxis": {
             "endlinecolor": "#2a3f5f",
             "gridcolor": "white",
             "linecolor": "white",
             "minorgridcolor": "white",
             "startlinecolor": "#2a3f5f"
            },
            "type": "carpet"
           }
          ],
          "choropleth": [
           {
            "colorbar": {
             "outlinewidth": 0,
             "ticks": ""
            },
            "type": "choropleth"
           }
          ],
          "contour": [
           {
            "colorbar": {
             "outlinewidth": 0,
             "ticks": ""
            },
            "colorscale": [
             [
              0,
              "#0d0887"
             ],
             [
              0.1111111111111111,
              "#46039f"
             ],
             [
              0.2222222222222222,
              "#7201a8"
             ],
             [
              0.3333333333333333,
              "#9c179e"
             ],
             [
              0.4444444444444444,
              "#bd3786"
             ],
             [
              0.5555555555555556,
              "#d8576b"
             ],
             [
              0.6666666666666666,
              "#ed7953"
             ],
             [
              0.7777777777777778,
              "#fb9f3a"
             ],
             [
              0.8888888888888888,
              "#fdca26"
             ],
             [
              1,
              "#f0f921"
             ]
            ],
            "type": "contour"
           }
          ],
          "contourcarpet": [
           {
            "colorbar": {
             "outlinewidth": 0,
             "ticks": ""
            },
            "type": "contourcarpet"
           }
          ],
          "heatmap": [
           {
            "colorbar": {
             "outlinewidth": 0,
             "ticks": ""
            },
            "colorscale": [
             [
              0,
              "#0d0887"
             ],
             [
              0.1111111111111111,
              "#46039f"
             ],
             [
              0.2222222222222222,
              "#7201a8"
             ],
             [
              0.3333333333333333,
              "#9c179e"
             ],
             [
              0.4444444444444444,
              "#bd3786"
             ],
             [
              0.5555555555555556,
              "#d8576b"
             ],
             [
              0.6666666666666666,
              "#ed7953"
             ],
             [
              0.7777777777777778,
              "#fb9f3a"
             ],
             [
              0.8888888888888888,
              "#fdca26"
             ],
             [
              1,
              "#f0f921"
             ]
            ],
            "type": "heatmap"
           }
          ],
          "heatmapgl": [
           {
            "colorbar": {
             "outlinewidth": 0,
             "ticks": ""
            },
            "colorscale": [
             [
              0,
              "#0d0887"
             ],
             [
              0.1111111111111111,
              "#46039f"
             ],
             [
              0.2222222222222222,
              "#7201a8"
             ],
             [
              0.3333333333333333,
              "#9c179e"
             ],
             [
              0.4444444444444444,
              "#bd3786"
             ],
             [
              0.5555555555555556,
              "#d8576b"
             ],
             [
              0.6666666666666666,
              "#ed7953"
             ],
             [
              0.7777777777777778,
              "#fb9f3a"
             ],
             [
              0.8888888888888888,
              "#fdca26"
             ],
             [
              1,
              "#f0f921"
             ]
            ],
            "type": "heatmapgl"
           }
          ],
          "histogram": [
           {
            "marker": {
             "pattern": {
              "fillmode": "overlay",
              "size": 10,
              "solidity": 0.2
             }
            },
            "type": "histogram"
           }
          ],
          "histogram2d": [
           {
            "colorbar": {
             "outlinewidth": 0,
             "ticks": ""
            },
            "colorscale": [
             [
              0,
              "#0d0887"
             ],
             [
              0.1111111111111111,
              "#46039f"
             ],
             [
              0.2222222222222222,
              "#7201a8"
             ],
             [
              0.3333333333333333,
              "#9c179e"
             ],
             [
              0.4444444444444444,
              "#bd3786"
             ],
             [
              0.5555555555555556,
              "#d8576b"
             ],
             [
              0.6666666666666666,
              "#ed7953"
             ],
             [
              0.7777777777777778,
              "#fb9f3a"
             ],
             [
              0.8888888888888888,
              "#fdca26"
             ],
             [
              1,
              "#f0f921"
             ]
            ],
            "type": "histogram2d"
           }
          ],
          "histogram2dcontour": [
           {
            "colorbar": {
             "outlinewidth": 0,
             "ticks": ""
            },
            "colorscale": [
             [
              0,
              "#0d0887"
             ],
             [
              0.1111111111111111,
              "#46039f"
             ],
             [
              0.2222222222222222,
              "#7201a8"
             ],
             [
              0.3333333333333333,
              "#9c179e"
             ],
             [
              0.4444444444444444,
              "#bd3786"
             ],
             [
              0.5555555555555556,
              "#d8576b"
             ],
             [
              0.6666666666666666,
              "#ed7953"
             ],
             [
              0.7777777777777778,
              "#fb9f3a"
             ],
             [
              0.8888888888888888,
              "#fdca26"
             ],
             [
              1,
              "#f0f921"
             ]
            ],
            "type": "histogram2dcontour"
           }
          ],
          "mesh3d": [
           {
            "colorbar": {
             "outlinewidth": 0,
             "ticks": ""
            },
            "type": "mesh3d"
           }
          ],
          "parcoords": [
           {
            "line": {
             "colorbar": {
              "outlinewidth": 0,
              "ticks": ""
             }
            },
            "type": "parcoords"
           }
          ],
          "pie": [
           {
            "automargin": true,
            "type": "pie"
           }
          ],
          "scatter": [
           {
            "fillpattern": {
             "fillmode": "overlay",
             "size": 10,
             "solidity": 0.2
            },
            "type": "scatter"
           }
          ],
          "scatter3d": [
           {
            "line": {
             "colorbar": {
              "outlinewidth": 0,
              "ticks": ""
             }
            },
            "marker": {
             "colorbar": {
              "outlinewidth": 0,
              "ticks": ""
             }
            },
            "type": "scatter3d"
           }
          ],
          "scattercarpet": [
           {
            "marker": {
             "colorbar": {
              "outlinewidth": 0,
              "ticks": ""
             }
            },
            "type": "scattercarpet"
           }
          ],
          "scattergeo": [
           {
            "marker": {
             "colorbar": {
              "outlinewidth": 0,
              "ticks": ""
             }
            },
            "type": "scattergeo"
           }
          ],
          "scattergl": [
           {
            "marker": {
             "colorbar": {
              "outlinewidth": 0,
              "ticks": ""
             }
            },
            "type": "scattergl"
           }
          ],
          "scattermapbox": [
           {
            "marker": {
             "colorbar": {
              "outlinewidth": 0,
              "ticks": ""
             }
            },
            "type": "scattermapbox"
           }
          ],
          "scatterpolar": [
           {
            "marker": {
             "colorbar": {
              "outlinewidth": 0,
              "ticks": ""
             }
            },
            "type": "scatterpolar"
           }
          ],
          "scatterpolargl": [
           {
            "marker": {
             "colorbar": {
              "outlinewidth": 0,
              "ticks": ""
             }
            },
            "type": "scatterpolargl"
           }
          ],
          "scatterternary": [
           {
            "marker": {
             "colorbar": {
              "outlinewidth": 0,
              "ticks": ""
             }
            },
            "type": "scatterternary"
           }
          ],
          "surface": [
           {
            "colorbar": {
             "outlinewidth": 0,
             "ticks": ""
            },
            "colorscale": [
             [
              0,
              "#0d0887"
             ],
             [
              0.1111111111111111,
              "#46039f"
             ],
             [
              0.2222222222222222,
              "#7201a8"
             ],
             [
              0.3333333333333333,
              "#9c179e"
             ],
             [
              0.4444444444444444,
              "#bd3786"
             ],
             [
              0.5555555555555556,
              "#d8576b"
             ],
             [
              0.6666666666666666,
              "#ed7953"
             ],
             [
              0.7777777777777778,
              "#fb9f3a"
             ],
             [
              0.8888888888888888,
              "#fdca26"
             ],
             [
              1,
              "#f0f921"
             ]
            ],
            "type": "surface"
           }
          ],
          "table": [
           {
            "cells": {
             "fill": {
              "color": "#EBF0F8"
             },
             "line": {
              "color": "white"
             }
            },
            "header": {
             "fill": {
              "color": "#C8D4E3"
             },
             "line": {
              "color": "white"
             }
            },
            "type": "table"
           }
          ]
         },
         "layout": {
          "annotationdefaults": {
           "arrowcolor": "#2a3f5f",
           "arrowhead": 0,
           "arrowwidth": 1
          },
          "autotypenumbers": "strict",
          "coloraxis": {
           "colorbar": {
            "outlinewidth": 0,
            "ticks": ""
           }
          },
          "colorscale": {
           "diverging": [
            [
             0,
             "#8e0152"
            ],
            [
             0.1,
             "#c51b7d"
            ],
            [
             0.2,
             "#de77ae"
            ],
            [
             0.3,
             "#f1b6da"
            ],
            [
             0.4,
             "#fde0ef"
            ],
            [
             0.5,
             "#f7f7f7"
            ],
            [
             0.6,
             "#e6f5d0"
            ],
            [
             0.7,
             "#b8e186"
            ],
            [
             0.8,
             "#7fbc41"
            ],
            [
             0.9,
             "#4d9221"
            ],
            [
             1,
             "#276419"
            ]
           ],
           "sequential": [
            [
             0,
             "#0d0887"
            ],
            [
             0.1111111111111111,
             "#46039f"
            ],
            [
             0.2222222222222222,
             "#7201a8"
            ],
            [
             0.3333333333333333,
             "#9c179e"
            ],
            [
             0.4444444444444444,
             "#bd3786"
            ],
            [
             0.5555555555555556,
             "#d8576b"
            ],
            [
             0.6666666666666666,
             "#ed7953"
            ],
            [
             0.7777777777777778,
             "#fb9f3a"
            ],
            [
             0.8888888888888888,
             "#fdca26"
            ],
            [
             1,
             "#f0f921"
            ]
           ],
           "sequentialminus": [
            [
             0,
             "#0d0887"
            ],
            [
             0.1111111111111111,
             "#46039f"
            ],
            [
             0.2222222222222222,
             "#7201a8"
            ],
            [
             0.3333333333333333,
             "#9c179e"
            ],
            [
             0.4444444444444444,
             "#bd3786"
            ],
            [
             0.5555555555555556,
             "#d8576b"
            ],
            [
             0.6666666666666666,
             "#ed7953"
            ],
            [
             0.7777777777777778,
             "#fb9f3a"
            ],
            [
             0.8888888888888888,
             "#fdca26"
            ],
            [
             1,
             "#f0f921"
            ]
           ]
          },
          "colorway": [
           "#636efa",
           "#EF553B",
           "#00cc96",
           "#ab63fa",
           "#FFA15A",
           "#19d3f3",
           "#FF6692",
           "#B6E880",
           "#FF97FF",
           "#FECB52"
          ],
          "font": {
           "color": "#2a3f5f"
          },
          "geo": {
           "bgcolor": "white",
           "lakecolor": "white",
           "landcolor": "#E5ECF6",
           "showlakes": true,
           "showland": true,
           "subunitcolor": "white"
          },
          "hoverlabel": {
           "align": "left"
          },
          "hovermode": "closest",
          "mapbox": {
           "style": "light"
          },
          "paper_bgcolor": "white",
          "plot_bgcolor": "#E5ECF6",
          "polar": {
           "angularaxis": {
            "gridcolor": "white",
            "linecolor": "white",
            "ticks": ""
           },
           "bgcolor": "#E5ECF6",
           "radialaxis": {
            "gridcolor": "white",
            "linecolor": "white",
            "ticks": ""
           }
          },
          "scene": {
           "xaxis": {
            "backgroundcolor": "#E5ECF6",
            "gridcolor": "white",
            "gridwidth": 2,
            "linecolor": "white",
            "showbackground": true,
            "ticks": "",
            "zerolinecolor": "white"
           },
           "yaxis": {
            "backgroundcolor": "#E5ECF6",
            "gridcolor": "white",
            "gridwidth": 2,
            "linecolor": "white",
            "showbackground": true,
            "ticks": "",
            "zerolinecolor": "white"
           },
           "zaxis": {
            "backgroundcolor": "#E5ECF6",
            "gridcolor": "white",
            "gridwidth": 2,
            "linecolor": "white",
            "showbackground": true,
            "ticks": "",
            "zerolinecolor": "white"
           }
          },
          "shapedefaults": {
           "line": {
            "color": "#2a3f5f"
           }
          },
          "ternary": {
           "aaxis": {
            "gridcolor": "white",
            "linecolor": "white",
            "ticks": ""
           },
           "baxis": {
            "gridcolor": "white",
            "linecolor": "white",
            "ticks": ""
           },
           "bgcolor": "#E5ECF6",
           "caxis": {
            "gridcolor": "white",
            "linecolor": "white",
            "ticks": ""
           }
          },
          "title": {
           "x": 0.05
          },
          "xaxis": {
           "automargin": true,
           "gridcolor": "white",
           "linecolor": "white",
           "ticks": "",
           "title": {
            "standoff": 15
           },
           "zerolinecolor": "white",
           "zerolinewidth": 2
          },
          "yaxis": {
           "automargin": true,
           "gridcolor": "white",
           "linecolor": "white",
           "ticks": "",
           "title": {
            "standoff": 15
           },
           "zerolinecolor": "white",
           "zerolinewidth": 2
          }
         }
        },
        "xaxis": {
         "anchor": "y",
         "domain": [
          0,
          0.1075
         ],
         "title": {
          "text": "beta"
         }
        },
        "xaxis2": {
         "anchor": "y2",
         "domain": [
          0.1275,
          0.235
         ],
         "matches": "x",
         "title": {
          "text": "beta"
         }
        },
        "xaxis3": {
         "anchor": "y3",
         "domain": [
          0.255,
          0.3625
         ],
         "matches": "x",
         "title": {
          "text": "beta"
         }
        },
        "xaxis4": {
         "anchor": "y4",
         "domain": [
          0.3825,
          0.49
         ],
         "matches": "x",
         "title": {
          "text": "beta"
         }
        },
        "xaxis5": {
         "anchor": "y5",
         "domain": [
          0.51,
          0.6175
         ],
         "matches": "x",
         "title": {
          "text": "beta"
         }
        },
        "xaxis6": {
         "anchor": "y6",
         "domain": [
          0.6375,
          0.745
         ],
         "matches": "x",
         "title": {
          "text": "beta"
         }
        },
        "xaxis7": {
         "anchor": "y7",
         "domain": [
          0.765,
          0.8725
         ],
         "matches": "x",
         "title": {
          "text": "beta"
         }
        },
        "xaxis8": {
         "anchor": "y8",
         "domain": [
          0.8925000000000001,
          1
         ],
         "matches": "x",
         "title": {
          "text": "beta"
         }
        },
        "yaxis": {
         "anchor": "x",
         "domain": [
          0,
          1
         ],
         "title": {
          "text": "value"
         }
        },
        "yaxis2": {
         "anchor": "x2",
         "domain": [
          0,
          1
         ],
         "matches": "y",
         "showticklabels": false
        },
        "yaxis3": {
         "anchor": "x3",
         "domain": [
          0,
          1
         ],
         "matches": "y",
         "showticklabels": false
        },
        "yaxis4": {
         "anchor": "x4",
         "domain": [
          0,
          1
         ],
         "matches": "y",
         "showticklabels": false
        },
        "yaxis5": {
         "anchor": "x5",
         "domain": [
          0,
          1
         ],
         "matches": "y",
         "showticklabels": false
        },
        "yaxis6": {
         "anchor": "x6",
         "domain": [
          0,
          1
         ],
         "matches": "y",
         "showticklabels": false
        },
        "yaxis7": {
         "anchor": "x7",
         "domain": [
          0,
          1
         ],
         "matches": "y",
         "showticklabels": false
        },
        "yaxis8": {
         "anchor": "x8",
         "domain": [
          0,
          1
         ],
         "matches": "y",
         "showticklabels": false
        }
       }
      },
      "text/html": [
       "<div>                            <div id=\"65a0f5df-789c-4fab-91b8-d3ea92476071\" class=\"plotly-graph-div\" style=\"height:525px; width:100%;\"></div>            <script type=\"text/javascript\">                require([\"plotly\"], function(Plotly) {                    window.PLOTLYENV=window.PLOTLYENV || {};                                    if (document.getElementById(\"65a0f5df-789c-4fab-91b8-d3ea92476071\")) {                    Plotly.newPlot(                        \"65a0f5df-789c-4fab-91b8-d3ea92476071\",                        [{\"hovertemplate\":\"prompt=This is a sound of<br>variable=Bleu_1<br>beta=%{x}<br>value=%{y}<extra></extra>\",\"legendgroup\":\"This is a sound of\",\"marker\":{\"color\":\"#636efa\",\"symbol\":\"circle\"},\"mode\":\"markers\",\"name\":\"This is a sound of\",\"orientation\":\"v\",\"showlegend\":true,\"x\":[3.222222328186035,1.6666667461395264,3.6111111640930176,2.444444417953491,0.5,0.8888888955116272,2.8333332538604736,4.0,1.2777777910232544,2.055555582046509,0.5,4.0],\"xaxis\":\"x\",\"y\":[0.16252472799207698,0.17876969242309235,0.16242380781641194,0.16529583443883222,0.17538719998426286,0.18935209423766874,0.16256284646125033,0.15947666195190008,0.1893404721343239,0.1744713518040216,0.17538719998426286,0.15796019900496577],\"yaxis\":\"y\",\"type\":\"scatter\"},{\"hovertemplate\":\"prompt=This is a sound of<br>variable=Bleu_2<br>beta=%{x}<br>value=%{y}<extra></extra>\",\"legendgroup\":\"This is a sound of\",\"marker\":{\"color\":\"#636efa\",\"symbol\":\"circle\"},\"mode\":\"markers\",\"name\":\"This is a sound of\",\"orientation\":\"v\",\"showlegend\":false,\"x\":[3.222222328186035,1.6666667461395264,3.6111111640930176,2.444444417953491,0.5,0.8888888955116272,2.8333332538604736,4.0,1.2777777910232544,2.055555582046509,0.5,4.0],\"xaxis\":\"x2\",\"y\":[0.03693290067755124,0.04399137245808915,0.035683375309980135,0.03958193188253719,0.04900738245463773,0.048976530449071735,0.03732391782522335,0.035239791200081166,0.04652691839151493,0.042879064475679275,0.04900738245463773,0.031261462041870455],\"yaxis\":\"y2\",\"type\":\"scatter\"},{\"hovertemplate\":\"prompt=This is a sound of<br>variable=Bleu_3<br>beta=%{x}<br>value=%{y}<extra></extra>\",\"legendgroup\":\"This is a sound of\",\"marker\":{\"color\":\"#636efa\",\"symbol\":\"circle\"},\"mode\":\"markers\",\"name\":\"This is a sound of\",\"orientation\":\"v\",\"showlegend\":false,\"x\":[3.222222328186035,1.6666667461395264,3.6111111640930176,2.444444417953491,0.5,0.8888888955116272,2.8333332538604736,4.0,1.2777777910232544,2.055555582046509,0.5,4.0],\"xaxis\":\"x3\",\"y\":[0.006617191612634587,0.008818458413146817,0.006383222827056699,0.0071188934530571815,0.011162655164438507,0.012171561789839795,0.008530473023995967,0.00629666501928674,0.008579936579784155,0.009081512034098089,0.011162655164438507,4.039263965096217e-08],\"yaxis\":\"y3\",\"type\":\"scatter\"},{\"hovertemplate\":\"prompt=This is a sound of<br>variable=Bleu_4<br>beta=%{x}<br>value=%{y}<extra></extra>\",\"legendgroup\":\"This is a sound of\",\"marker\":{\"color\":\"#636efa\",\"symbol\":\"circle\"},\"mode\":\"markers\",\"name\":\"This is a sound of\",\"orientation\":\"v\",\"showlegend\":false,\"x\":[3.222222328186035,1.6666667461395264,3.6111111640930176,2.444444417953491,0.5,0.8888888955116272,2.8333332538604736,4.0,1.2777777910232544,2.055555582046509,0.5,4.0],\"xaxis\":\"x4\",\"y\":[3.851386320556149e-07,5.074869391017931e-07,3.710171672527394e-07,4.1578092687373323e-07,6.541922529309438e-07,0.0038321311672733145,4.719617789464064e-07,3.6571493975853143e-07,5.100987801953711e-07,5.071292459949329e-07,6.541922529309438e-07,4.6684880752778974e-11],\"yaxis\":\"y4\",\"type\":\"scatter\"},{\"hovertemplate\":\"prompt=This is a sound of<br>variable=METEOR<br>beta=%{x}<br>value=%{y}<extra></extra>\",\"legendgroup\":\"This is a sound of\",\"marker\":{\"color\":\"#636efa\",\"symbol\":\"circle\"},\"mode\":\"markers\",\"name\":\"This is a sound of\",\"orientation\":\"v\",\"showlegend\":false,\"x\":[3.222222328186035,1.6666667461395264,3.6111111640930176,2.444444417953491,0.5,0.8888888955116272,2.8333332538604736,4.0,1.2777777910232544,2.055555582046509,0.5,4.0],\"xaxis\":\"x5\",\"y\":[0.055924639552522394,0.05064095166072419,0.055510990590698285,0.051752393173654494,0.04354064504990112,0.047566075274522446,0.054102905361382625,0.05575895552373104,0.05085075438600183,0.054120611947513234,0.04354064504990112,0.05535922072520911],\"yaxis\":\"y5\",\"type\":\"scatter\"},{\"hovertemplate\":\"prompt=This is a sound of<br>variable=ROUGE_L<br>beta=%{x}<br>value=%{y}<extra></extra>\",\"legendgroup\":\"This is a sound of\",\"marker\":{\"color\":\"#636efa\",\"symbol\":\"circle\"},\"mode\":\"markers\",\"name\":\"This is a sound of\",\"orientation\":\"v\",\"showlegend\":false,\"x\":[3.222222328186035,1.6666667461395264,3.6111111640930176,2.444444417953491,0.5,0.8888888955116272,2.8333332538604736,4.0,1.2777777910232544,2.055555582046509,0.5,4.0],\"xaxis\":\"x6\",\"y\":[0.12125399026522495,0.12376742731525726,0.12338506299058144,0.12120727237180272,0.12562809945389103,0.1253732243016978,0.12331968447631109,0.12162866887515525,0.12974375948161332,0.12698634402621814,0.12562809945389103,0.11941506066404906],\"yaxis\":\"y6\",\"type\":\"scatter\"},{\"hovertemplate\":\"prompt=This is a sound of<br>variable=CIDEr<br>beta=%{x}<br>value=%{y}<extra></extra>\",\"legendgroup\":\"This is a sound of\",\"marker\":{\"color\":\"#636efa\",\"symbol\":\"circle\"},\"mode\":\"markers\",\"name\":\"This is a sound of\",\"orientation\":\"v\",\"showlegend\":false,\"x\":[3.222222328186035,1.6666667461395264,3.6111111640930176,2.444444417953491,0.5,0.8888888955116272,2.8333332538604736,4.0,1.2777777910232544,2.055555582046509,0.5,4.0],\"xaxis\":\"x7\",\"y\":[0.012277456456131212,0.014965903092533405,0.011869355081559856,0.013009079409091398,0.015870823944307572,0.01880076653290616,0.015342969394622739,0.011290529085089419,0.016620537149060984,0.01813393988755474,0.015870823944307572,0.012054476141018376],\"yaxis\":\"y7\",\"type\":\"scatter\"},{\"hovertemplate\":\"prompt=This is a sound of<br>variable=SPICE<br>beta=%{x}<br>value=%{y}<extra></extra>\",\"legendgroup\":\"This is a sound of\",\"marker\":{\"color\":\"#636efa\",\"symbol\":\"circle\"},\"mode\":\"markers\",\"name\":\"This is a sound of\",\"orientation\":\"v\",\"showlegend\":false,\"x\":[3.222222328186035,1.6666667461395264,3.6111111640930176,2.444444417953491,0.5,0.8888888955116272,2.8333332538604736,4.0,1.2777777910232544,2.055555582046509,0.5,4.0],\"xaxis\":\"x8\",\"y\":[0.013283900269202962,0.012844385586540425,0.014035969835921293,0.01424284786248422,0.012740511700754862,0.01478458419931708,0.014924223217878277,0.014743043455623082,0.015045598537745996,0.014831801739315987,0.012740511700754862,0.015007574870680069],\"yaxis\":\"y8\",\"type\":\"scatter\"},{\"hovertemplate\":\"prompt=This is the sound of<br>variable=Bleu_1<br>beta=%{x}<br>value=%{y}<extra></extra>\",\"legendgroup\":\"This is the sound of\",\"marker\":{\"color\":\"#EF553B\",\"symbol\":\"circle\"},\"mode\":\"markers\",\"name\":\"This is the sound of\",\"orientation\":\"v\",\"showlegend\":true,\"x\":[2.444444417953491,4.0,2.055555582046509,1.6666667461395264,3.6111111640930176,0.5,3.222222328186035,0.8888888955116272,2.8333332538604736,1.2777777910232544,4.0,0.5],\"xaxis\":\"x\",\"y\":[0.17823878069431426,0.1652163403432339,0.1820529850195423,0.19331418541565396,0.16444277391466738,0.2064919314801743,0.16918089188830426,0.19765968161816166,0.1737105049959375,0.2012284931878645,0.1646080317795193,0.2064919314801743],\"yaxis\":\"y\",\"type\":\"scatter\"},{\"hovertemplate\":\"prompt=This is the sound of<br>variable=Bleu_2<br>beta=%{x}<br>value=%{y}<extra></extra>\",\"legendgroup\":\"This is the sound of\",\"marker\":{\"color\":\"#EF553B\",\"symbol\":\"circle\"},\"mode\":\"markers\",\"name\":\"This is the sound of\",\"orientation\":\"v\",\"showlegend\":false,\"x\":[2.444444417953491,4.0,2.055555582046509,1.6666667461395264,3.6111111640930176,0.5,3.222222328186035,0.8888888955116272,2.8333332538604736,1.2777777910232544,4.0,0.5],\"xaxis\":\"x2\",\"y\":[0.04119616830442799,0.03903665872317872,0.04498106432238467,0.05155851390852181,0.03696990909181521,0.07032894097107456,0.04073504022986957,0.05594479831378043,0.04080981052107784,0.05327144458928768,0.03854620005734199,0.07032894097107456],\"yaxis\":\"y2\",\"type\":\"scatter\"},{\"hovertemplate\":\"prompt=This is the sound of<br>variable=Bleu_3<br>beta=%{x}<br>value=%{y}<extra></extra>\",\"legendgroup\":\"This is the sound of\",\"marker\":{\"color\":\"#EF553B\",\"symbol\":\"circle\"},\"mode\":\"markers\",\"name\":\"This is the sound of\",\"orientation\":\"v\",\"showlegend\":false,\"x\":[2.444444417953491,4.0,2.055555582046509,1.6666667461395264,3.6111111640930176,0.5,3.222222328186035,0.8888888955116272,2.8333332538604736,1.2777777910232544,4.0,0.5],\"xaxis\":\"x3\",\"y\":[0.006542009633905488,0.00944102036005839,0.00808341788047732,0.013167636134646181,0.008828461255322962,0.02095546834948675,0.01083200169335185,0.012908257129207639,0.006391844924464506,0.010653817948232589,0.005957222161420998,0.02095546834948675],\"yaxis\":\"y3\",\"type\":\"scatter\"},{\"hovertemplate\":\"prompt=This is the sound of<br>variable=Bleu_4<br>beta=%{x}<br>value=%{y}<extra></extra>\",\"legendgroup\":\"This is the sound of\",\"marker\":{\"color\":\"#EF553B\",\"symbol\":\"circle\"},\"mode\":\"markers\",\"name\":\"This is the sound of\",\"orientation\":\"v\",\"showlegend\":false,\"x\":[2.444444417953491,4.0,2.055555582046509,1.6666667461395264,3.6111111640930176,0.5,3.222222328186035,0.8888888955116272,2.8333332538604736,1.2777777910232544,4.0,0.5],\"xaxis\":\"x4\",\"y\":[3.9791428749381654e-07,0.0036971290083827467,4.732709022942898e-07,6.996493349672341e-07,4.802831358679647e-07,1.0749303688678557e-06,0.003807636884087926,7.271303440185394e-07,3.8576498459545713e-07,6.157004421824099e-07,3.5640882463016517e-07,1.0749303688678557e-06],\"yaxis\":\"y4\",\"type\":\"scatter\"},{\"hovertemplate\":\"prompt=This is the sound of<br>variable=METEOR<br>beta=%{x}<br>value=%{y}<extra></extra>\",\"legendgroup\":\"This is the sound of\",\"marker\":{\"color\":\"#EF553B\",\"symbol\":\"circle\"},\"mode\":\"markers\",\"name\":\"This is the sound of\",\"orientation\":\"v\",\"showlegend\":false,\"x\":[2.444444417953491,4.0,2.055555582046509,1.6666667461395264,3.6111111640930176,0.5,3.222222328186035,0.8888888955116272,2.8333332538604736,1.2777777910232544,4.0,0.5],\"xaxis\":\"x5\",\"y\":[0.057406138938181854,0.058897256179191934,0.05662217846102639,0.05603148280616205,0.057449218621748496,0.054597295869001,0.05623873114465509,0.05169820754064618,0.0569200068404657,0.05315843233727257,0.058699864913730596,0.054597295869001],\"yaxis\":\"y5\",\"type\":\"scatter\"},{\"hovertemplate\":\"prompt=This is the sound of<br>variable=ROUGE_L<br>beta=%{x}<br>value=%{y}<extra></extra>\",\"legendgroup\":\"This is the sound of\",\"marker\":{\"color\":\"#EF553B\",\"symbol\":\"circle\"},\"mode\":\"markers\",\"name\":\"This is the sound of\",\"orientation\":\"v\",\"showlegend\":false,\"x\":[2.444444417953491,4.0,2.055555582046509,1.6666667461395264,3.6111111640930176,0.5,3.222222328186035,0.8888888955116272,2.8333332538604736,1.2777777910232544,4.0,0.5],\"xaxis\":\"x6\",\"y\":[0.12682722787340567,0.1252109101036539,0.1317221772790953,0.1303555883344424,0.12295477597135789,0.1591928429108286,0.1265876004030354,0.1389951633715919,0.12624986481206216,0.13448204431509098,0.1227035782062718,0.1591928429108286],\"yaxis\":\"y6\",\"type\":\"scatter\"},{\"hovertemplate\":\"prompt=This is the sound of<br>variable=CIDEr<br>beta=%{x}<br>value=%{y}<extra></extra>\",\"legendgroup\":\"This is the sound of\",\"marker\":{\"color\":\"#EF553B\",\"symbol\":\"circle\"},\"mode\":\"markers\",\"name\":\"This is the sound of\",\"orientation\":\"v\",\"showlegend\":false,\"x\":[2.444444417953491,4.0,2.055555582046509,1.6666667461395264,3.6111111640930176,0.5,3.222222328186035,0.8888888955116272,2.8333332538604736,1.2777777910232544,4.0,0.5],\"xaxis\":\"x7\",\"y\":[0.020853399237485793,0.015963108076117016,0.01956707847623364,0.023651048299839616,0.01791630421185157,0.033388662825710326,0.019442142035484646,0.025277145314863143,0.018703856855398097,0.023741740933011485,0.015364393930947868,0.033388662825710326],\"yaxis\":\"y7\",\"type\":\"scatter\"},{\"hovertemplate\":\"prompt=This is the sound of<br>variable=SPICE<br>beta=%{x}<br>value=%{y}<extra></extra>\",\"legendgroup\":\"This is the sound of\",\"marker\":{\"color\":\"#EF553B\",\"symbol\":\"circle\"},\"mode\":\"markers\",\"name\":\"This is the sound of\",\"orientation\":\"v\",\"showlegend\":false,\"x\":[2.444444417953491,4.0,2.055555582046509,1.6666667461395264,3.6111111640930176,0.5,3.222222328186035,0.8888888955116272,2.8333332538604736,1.2777777910232544,4.0,0.5],\"xaxis\":\"x8\",\"y\":[0.020484893671876888,0.020387424016193565,0.01821250251518385,0.01984169143029315,0.018744160242372146,0.02337888553737766,0.01852417339586271,0.018722994289595056,0.019748614021177995,0.017072362017527452,0.01955748916510854,0.02337888553737766],\"yaxis\":\"y8\",\"type\":\"scatter\"}],                        {\"template\":{\"data\":{\"histogram2dcontour\":[{\"type\":\"histogram2dcontour\",\"colorbar\":{\"outlinewidth\":0,\"ticks\":\"\"},\"colorscale\":[[0.0,\"#0d0887\"],[0.1111111111111111,\"#46039f\"],[0.2222222222222222,\"#7201a8\"],[0.3333333333333333,\"#9c179e\"],[0.4444444444444444,\"#bd3786\"],[0.5555555555555556,\"#d8576b\"],[0.6666666666666666,\"#ed7953\"],[0.7777777777777778,\"#fb9f3a\"],[0.8888888888888888,\"#fdca26\"],[1.0,\"#f0f921\"]]}],\"choropleth\":[{\"type\":\"choropleth\",\"colorbar\":{\"outlinewidth\":0,\"ticks\":\"\"}}],\"histogram2d\":[{\"type\":\"histogram2d\",\"colorbar\":{\"outlinewidth\":0,\"ticks\":\"\"},\"colorscale\":[[0.0,\"#0d0887\"],[0.1111111111111111,\"#46039f\"],[0.2222222222222222,\"#7201a8\"],[0.3333333333333333,\"#9c179e\"],[0.4444444444444444,\"#bd3786\"],[0.5555555555555556,\"#d8576b\"],[0.6666666666666666,\"#ed7953\"],[0.7777777777777778,\"#fb9f3a\"],[0.8888888888888888,\"#fdca26\"],[1.0,\"#f0f921\"]]}],\"heatmap\":[{\"type\":\"heatmap\",\"colorbar\":{\"outlinewidth\":0,\"ticks\":\"\"},\"colorscale\":[[0.0,\"#0d0887\"],[0.1111111111111111,\"#46039f\"],[0.2222222222222222,\"#7201a8\"],[0.3333333333333333,\"#9c179e\"],[0.4444444444444444,\"#bd3786\"],[0.5555555555555556,\"#d8576b\"],[0.6666666666666666,\"#ed7953\"],[0.7777777777777778,\"#fb9f3a\"],[0.8888888888888888,\"#fdca26\"],[1.0,\"#f0f921\"]]}],\"heatmapgl\":[{\"type\":\"heatmapgl\",\"colorbar\":{\"outlinewidth\":0,\"ticks\":\"\"},\"colorscale\":[[0.0,\"#0d0887\"],[0.1111111111111111,\"#46039f\"],[0.2222222222222222,\"#7201a8\"],[0.3333333333333333,\"#9c179e\"],[0.4444444444444444,\"#bd3786\"],[0.5555555555555556,\"#d8576b\"],[0.6666666666666666,\"#ed7953\"],[0.7777777777777778,\"#fb9f3a\"],[0.8888888888888888,\"#fdca26\"],[1.0,\"#f0f921\"]]}],\"contourcarpet\":[{\"type\":\"contourcarpet\",\"colorbar\":{\"outlinewidth\":0,\"ticks\":\"\"}}],\"contour\":[{\"type\":\"contour\",\"colorbar\":{\"outlinewidth\":0,\"ticks\":\"\"},\"colorscale\":[[0.0,\"#0d0887\"],[0.1111111111111111,\"#46039f\"],[0.2222222222222222,\"#7201a8\"],[0.3333333333333333,\"#9c179e\"],[0.4444444444444444,\"#bd3786\"],[0.5555555555555556,\"#d8576b\"],[0.6666666666666666,\"#ed7953\"],[0.7777777777777778,\"#fb9f3a\"],[0.8888888888888888,\"#fdca26\"],[1.0,\"#f0f921\"]]}],\"surface\":[{\"type\":\"surface\",\"colorbar\":{\"outlinewidth\":0,\"ticks\":\"\"},\"colorscale\":[[0.0,\"#0d0887\"],[0.1111111111111111,\"#46039f\"],[0.2222222222222222,\"#7201a8\"],[0.3333333333333333,\"#9c179e\"],[0.4444444444444444,\"#bd3786\"],[0.5555555555555556,\"#d8576b\"],[0.6666666666666666,\"#ed7953\"],[0.7777777777777778,\"#fb9f3a\"],[0.8888888888888888,\"#fdca26\"],[1.0,\"#f0f921\"]]}],\"mesh3d\":[{\"type\":\"mesh3d\",\"colorbar\":{\"outlinewidth\":0,\"ticks\":\"\"}}],\"scatter\":[{\"fillpattern\":{\"fillmode\":\"overlay\",\"size\":10,\"solidity\":0.2},\"type\":\"scatter\"}],\"parcoords\":[{\"type\":\"parcoords\",\"line\":{\"colorbar\":{\"outlinewidth\":0,\"ticks\":\"\"}}}],\"scatterpolargl\":[{\"type\":\"scatterpolargl\",\"marker\":{\"colorbar\":{\"outlinewidth\":0,\"ticks\":\"\"}}}],\"bar\":[{\"error_x\":{\"color\":\"#2a3f5f\"},\"error_y\":{\"color\":\"#2a3f5f\"},\"marker\":{\"line\":{\"color\":\"#E5ECF6\",\"width\":0.5},\"pattern\":{\"fillmode\":\"overlay\",\"size\":10,\"solidity\":0.2}},\"type\":\"bar\"}],\"scattergeo\":[{\"type\":\"scattergeo\",\"marker\":{\"colorbar\":{\"outlinewidth\":0,\"ticks\":\"\"}}}],\"scatterpolar\":[{\"type\":\"scatterpolar\",\"marker\":{\"colorbar\":{\"outlinewidth\":0,\"ticks\":\"\"}}}],\"histogram\":[{\"marker\":{\"pattern\":{\"fillmode\":\"overlay\",\"size\":10,\"solidity\":0.2}},\"type\":\"histogram\"}],\"scattergl\":[{\"type\":\"scattergl\",\"marker\":{\"colorbar\":{\"outlinewidth\":0,\"ticks\":\"\"}}}],\"scatter3d\":[{\"type\":\"scatter3d\",\"line\":{\"colorbar\":{\"outlinewidth\":0,\"ticks\":\"\"}},\"marker\":{\"colorbar\":{\"outlinewidth\":0,\"ticks\":\"\"}}}],\"scattermapbox\":[{\"type\":\"scattermapbox\",\"marker\":{\"colorbar\":{\"outlinewidth\":0,\"ticks\":\"\"}}}],\"scatterternary\":[{\"type\":\"scatterternary\",\"marker\":{\"colorbar\":{\"outlinewidth\":0,\"ticks\":\"\"}}}],\"scattercarpet\":[{\"type\":\"scattercarpet\",\"marker\":{\"colorbar\":{\"outlinewidth\":0,\"ticks\":\"\"}}}],\"carpet\":[{\"aaxis\":{\"endlinecolor\":\"#2a3f5f\",\"gridcolor\":\"white\",\"linecolor\":\"white\",\"minorgridcolor\":\"white\",\"startlinecolor\":\"#2a3f5f\"},\"baxis\":{\"endlinecolor\":\"#2a3f5f\",\"gridcolor\":\"white\",\"linecolor\":\"white\",\"minorgridcolor\":\"white\",\"startlinecolor\":\"#2a3f5f\"},\"type\":\"carpet\"}],\"table\":[{\"cells\":{\"fill\":{\"color\":\"#EBF0F8\"},\"line\":{\"color\":\"white\"}},\"header\":{\"fill\":{\"color\":\"#C8D4E3\"},\"line\":{\"color\":\"white\"}},\"type\":\"table\"}],\"barpolar\":[{\"marker\":{\"line\":{\"color\":\"#E5ECF6\",\"width\":0.5},\"pattern\":{\"fillmode\":\"overlay\",\"size\":10,\"solidity\":0.2}},\"type\":\"barpolar\"}],\"pie\":[{\"automargin\":true,\"type\":\"pie\"}]},\"layout\":{\"autotypenumbers\":\"strict\",\"colorway\":[\"#636efa\",\"#EF553B\",\"#00cc96\",\"#ab63fa\",\"#FFA15A\",\"#19d3f3\",\"#FF6692\",\"#B6E880\",\"#FF97FF\",\"#FECB52\"],\"font\":{\"color\":\"#2a3f5f\"},\"hovermode\":\"closest\",\"hoverlabel\":{\"align\":\"left\"},\"paper_bgcolor\":\"white\",\"plot_bgcolor\":\"#E5ECF6\",\"polar\":{\"bgcolor\":\"#E5ECF6\",\"angularaxis\":{\"gridcolor\":\"white\",\"linecolor\":\"white\",\"ticks\":\"\"},\"radialaxis\":{\"gridcolor\":\"white\",\"linecolor\":\"white\",\"ticks\":\"\"}},\"ternary\":{\"bgcolor\":\"#E5ECF6\",\"aaxis\":{\"gridcolor\":\"white\",\"linecolor\":\"white\",\"ticks\":\"\"},\"baxis\":{\"gridcolor\":\"white\",\"linecolor\":\"white\",\"ticks\":\"\"},\"caxis\":{\"gridcolor\":\"white\",\"linecolor\":\"white\",\"ticks\":\"\"}},\"coloraxis\":{\"colorbar\":{\"outlinewidth\":0,\"ticks\":\"\"}},\"colorscale\":{\"sequential\":[[0.0,\"#0d0887\"],[0.1111111111111111,\"#46039f\"],[0.2222222222222222,\"#7201a8\"],[0.3333333333333333,\"#9c179e\"],[0.4444444444444444,\"#bd3786\"],[0.5555555555555556,\"#d8576b\"],[0.6666666666666666,\"#ed7953\"],[0.7777777777777778,\"#fb9f3a\"],[0.8888888888888888,\"#fdca26\"],[1.0,\"#f0f921\"]],\"sequentialminus\":[[0.0,\"#0d0887\"],[0.1111111111111111,\"#46039f\"],[0.2222222222222222,\"#7201a8\"],[0.3333333333333333,\"#9c179e\"],[0.4444444444444444,\"#bd3786\"],[0.5555555555555556,\"#d8576b\"],[0.6666666666666666,\"#ed7953\"],[0.7777777777777778,\"#fb9f3a\"],[0.8888888888888888,\"#fdca26\"],[1.0,\"#f0f921\"]],\"diverging\":[[0,\"#8e0152\"],[0.1,\"#c51b7d\"],[0.2,\"#de77ae\"],[0.3,\"#f1b6da\"],[0.4,\"#fde0ef\"],[0.5,\"#f7f7f7\"],[0.6,\"#e6f5d0\"],[0.7,\"#b8e186\"],[0.8,\"#7fbc41\"],[0.9,\"#4d9221\"],[1,\"#276419\"]]},\"xaxis\":{\"gridcolor\":\"white\",\"linecolor\":\"white\",\"ticks\":\"\",\"title\":{\"standoff\":15},\"zerolinecolor\":\"white\",\"automargin\":true,\"zerolinewidth\":2},\"yaxis\":{\"gridcolor\":\"white\",\"linecolor\":\"white\",\"ticks\":\"\",\"title\":{\"standoff\":15},\"zerolinecolor\":\"white\",\"automargin\":true,\"zerolinewidth\":2},\"scene\":{\"xaxis\":{\"backgroundcolor\":\"#E5ECF6\",\"gridcolor\":\"white\",\"linecolor\":\"white\",\"showbackground\":true,\"ticks\":\"\",\"zerolinecolor\":\"white\",\"gridwidth\":2},\"yaxis\":{\"backgroundcolor\":\"#E5ECF6\",\"gridcolor\":\"white\",\"linecolor\":\"white\",\"showbackground\":true,\"ticks\":\"\",\"zerolinecolor\":\"white\",\"gridwidth\":2},\"zaxis\":{\"backgroundcolor\":\"#E5ECF6\",\"gridcolor\":\"white\",\"linecolor\":\"white\",\"showbackground\":true,\"ticks\":\"\",\"zerolinecolor\":\"white\",\"gridwidth\":2}},\"shapedefaults\":{\"line\":{\"color\":\"#2a3f5f\"}},\"annotationdefaults\":{\"arrowcolor\":\"#2a3f5f\",\"arrowhead\":0,\"arrowwidth\":1},\"geo\":{\"bgcolor\":\"white\",\"landcolor\":\"#E5ECF6\",\"subunitcolor\":\"white\",\"showland\":true,\"showlakes\":true,\"lakecolor\":\"white\"},\"title\":{\"x\":0.05},\"mapbox\":{\"style\":\"light\"}}},\"xaxis\":{\"anchor\":\"y\",\"domain\":[0.0,0.1075],\"title\":{\"text\":\"beta\"}},\"yaxis\":{\"anchor\":\"x\",\"domain\":[0.0,1.0],\"title\":{\"text\":\"value\"}},\"xaxis2\":{\"anchor\":\"y2\",\"domain\":[0.1275,0.235],\"matches\":\"x\",\"title\":{\"text\":\"beta\"}},\"yaxis2\":{\"anchor\":\"x2\",\"domain\":[0.0,1.0],\"matches\":\"y\",\"showticklabels\":false},\"xaxis3\":{\"anchor\":\"y3\",\"domain\":[0.255,0.3625],\"matches\":\"x\",\"title\":{\"text\":\"beta\"}},\"yaxis3\":{\"anchor\":\"x3\",\"domain\":[0.0,1.0],\"matches\":\"y\",\"showticklabels\":false},\"xaxis4\":{\"anchor\":\"y4\",\"domain\":[0.3825,0.49],\"matches\":\"x\",\"title\":{\"text\":\"beta\"}},\"yaxis4\":{\"anchor\":\"x4\",\"domain\":[0.0,1.0],\"matches\":\"y\",\"showticklabels\":false},\"xaxis5\":{\"anchor\":\"y5\",\"domain\":[0.51,0.6175],\"matches\":\"x\",\"title\":{\"text\":\"beta\"}},\"yaxis5\":{\"anchor\":\"x5\",\"domain\":[0.0,1.0],\"matches\":\"y\",\"showticklabels\":false},\"xaxis6\":{\"anchor\":\"y6\",\"domain\":[0.6375,0.745],\"matches\":\"x\",\"title\":{\"text\":\"beta\"}},\"yaxis6\":{\"anchor\":\"x6\",\"domain\":[0.0,1.0],\"matches\":\"y\",\"showticklabels\":false},\"xaxis7\":{\"anchor\":\"y7\",\"domain\":[0.765,0.8725],\"matches\":\"x\",\"title\":{\"text\":\"beta\"}},\"yaxis7\":{\"anchor\":\"x7\",\"domain\":[0.0,1.0],\"matches\":\"y\",\"showticklabels\":false},\"xaxis8\":{\"anchor\":\"y8\",\"domain\":[0.8925000000000001,1.0],\"matches\":\"x\",\"title\":{\"text\":\"beta\"}},\"yaxis8\":{\"anchor\":\"x8\",\"domain\":[0.0,1.0],\"matches\":\"y\",\"showticklabels\":false},\"annotations\":[{\"font\":{},\"showarrow\":false,\"text\":\"variable=Bleu_1\",\"x\":0.05375,\"xanchor\":\"center\",\"xref\":\"paper\",\"y\":1.0,\"yanchor\":\"bottom\",\"yref\":\"paper\"},{\"font\":{},\"showarrow\":false,\"text\":\"variable=Bleu_2\",\"x\":0.18125,\"xanchor\":\"center\",\"xref\":\"paper\",\"y\":1.0,\"yanchor\":\"bottom\",\"yref\":\"paper\"},{\"font\":{},\"showarrow\":false,\"text\":\"variable=Bleu_3\",\"x\":0.30874999999999997,\"xanchor\":\"center\",\"xref\":\"paper\",\"y\":1.0,\"yanchor\":\"bottom\",\"yref\":\"paper\"},{\"font\":{},\"showarrow\":false,\"text\":\"variable=Bleu_4\",\"x\":0.43625,\"xanchor\":\"center\",\"xref\":\"paper\",\"y\":1.0,\"yanchor\":\"bottom\",\"yref\":\"paper\"},{\"font\":{},\"showarrow\":false,\"text\":\"variable=METEOR\",\"x\":0.56375,\"xanchor\":\"center\",\"xref\":\"paper\",\"y\":1.0,\"yanchor\":\"bottom\",\"yref\":\"paper\"},{\"font\":{},\"showarrow\":false,\"text\":\"variable=ROUGE_L\",\"x\":0.6912499999999999,\"xanchor\":\"center\",\"xref\":\"paper\",\"y\":1.0,\"yanchor\":\"bottom\",\"yref\":\"paper\"},{\"font\":{},\"showarrow\":false,\"text\":\"variable=CIDEr\",\"x\":0.8187500000000001,\"xanchor\":\"center\",\"xref\":\"paper\",\"y\":1.0,\"yanchor\":\"bottom\",\"yref\":\"paper\"},{\"font\":{},\"showarrow\":false,\"text\":\"variable=SPICE\",\"x\":0.94625,\"xanchor\":\"center\",\"xref\":\"paper\",\"y\":1.0,\"yanchor\":\"bottom\",\"yref\":\"paper\"}],\"legend\":{\"title\":{\"text\":\"prompt\"},\"tracegroupgap\":0},\"margin\":{\"t\":60}},                        {\"responsive\": true}                    ).then(function(){\n",
       "                            \n",
       "var gd = document.getElementById('65a0f5df-789c-4fab-91b8-d3ea92476071');\n",
       "var x = new MutationObserver(function (mutations, observer) {{\n",
       "        var display = window.getComputedStyle(gd).display;\n",
       "        if (!display || display === 'none') {{\n",
       "            console.log([gd, 'removed!']);\n",
       "            Plotly.purge(gd);\n",
       "            observer.disconnect();\n",
       "        }}\n",
       "}});\n",
       "\n",
       "// Listen for the removal of the full notebook cells\n",
       "var notebookContainer = gd.closest('#notebook-container');\n",
       "if (notebookContainer) {{\n",
       "    x.observe(notebookContainer, {childList: true});\n",
       "}}\n",
       "\n",
       "// Listen for the clearing of the current output cell\n",
       "var outputEl = gd.closest('.output');\n",
       "if (outputEl) {{\n",
       "    x.observe(outputEl, {childList: true});\n",
       "}}\n",
       "\n",
       "                        })                };                });            </script>        </div>"
      ]
     },
     "metadata": {},
     "output_type": "display_data"
    }
   ],
   "source": [
    "fig = px.scatter(data_long, x=\"beta\", y=\"value\", facet_col='variable', color='prompt')\n",
    "fig.show()"
   ]
  }
 ],
 "metadata": {
  "kernelspec": {
   "display_name": "MAGIC",
   "language": "python",
   "name": "python3"
  },
  "language_info": {
   "codemirror_mode": {
    "name": "ipython",
    "version": 3
   },
   "file_extension": ".py",
   "mimetype": "text/x-python",
   "name": "python",
   "nbconvert_exporter": "python",
   "pygments_lexer": "ipython3",
   "version": "3.7.15"
  },
  "orig_nbformat": 4,
  "vscode": {
   "interpreter": {
    "hash": "ee6a500944a2cd2f984dae74c6225ee7a50e19788cc624758b7df27cfc1fe701"
   }
  }
 },
 "nbformat": 4,
 "nbformat_minor": 2
}
